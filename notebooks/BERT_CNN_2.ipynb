{
 "cells": [
  {
   "cell_type": "markdown",
   "metadata": {},
   "source": [
    "# US-PTO Patent Data Classification on Subclass Level"
   ]
  },
  {
   "cell_type": "markdown",
   "metadata": {},
   "source": [
    "## Imports and settings"
   ]
  },
  {
   "cell_type": "code",
   "execution_count": 1,
   "metadata": {},
   "outputs": [],
   "source": [
    "import json\n",
    "import pandas as pd\n",
    "import numpy as np\n",
    "import os\n",
    "from os import listdir\n",
    "import sys\n",
    "import tensorflow as tf\n",
    "import tensorflow_hub as hub\n",
    "from time import time\n",
    "import io\n",
    "import re\n",
    "from csv import reader\n",
    "import matplotlib.pyplot as plt\n",
    "\n",
    "import matplotlib.pyplot as plt\n",
    "from matplotlib import colors\n",
    "from matplotlib.ticker import PercentFormatter\n",
    "\n",
    "from tensorflow.keras import backend as K\n",
    "from tensorflow.keras import layers\n",
    "from tensorflow.python.keras.layers import Lambda\n",
    "from tensorflow.keras.callbacks import TensorBoard, EarlyStopping\n",
    "from tensorflow.keras.backend import sparse_categorical_crossentropy\n",
    "from tensorflow.keras.layers import Dense, TimeDistributed\n",
    "\n",
    "from sklearn.model_selection import train_test_split\n",
    "\n",
    "from datetime import datetime\n"
   ]
  },
  {
   "cell_type": "code",
   "execution_count": 2,
   "metadata": {},
   "outputs": [
    {
     "name": "stderr",
     "output_type": "stream",
     "text": [
      "Using TensorFlow backend.\n"
     ]
    },
    {
     "name": "stdout",
     "output_type": "stream",
     "text": [
      "[nltk_data] Downloading package punkt to /home/alexmue/nltk_data...\n",
      "[nltk_data]   Package punkt is already up-to-date!\n"
     ]
    }
   ],
   "source": [
    "import numpy as np\n",
    "from numpy import array\n",
    "from numpy import asarray\n",
    "from numpy import zeros\n",
    "import pandas as pd\n",
    "\n",
    "from keras.models import Sequential\n",
    "from keras.models import Model\n",
    "from keras.layers import Flatten, LSTM\n",
    "from keras.layers import GlobalMaxPooling1D\n",
    "from keras.layers import Input, InputLayer\n",
    "from keras.layers.core import Activation, Dropout, Dense\n",
    "from keras.layers.merge import Concatenate\n",
    "from keras.layers.embeddings import Embedding\n",
    "from keras.preprocessing.text import Tokenizer\n",
    "from keras.preprocessing.text import one_hot\n",
    "from keras.preprocessing.sequence import pad_sequences\n",
    "\n",
    "from sklearn.model_selection import train_test_split\n",
    "from sklearn.preprocessing import MultiLabelBinarizer\n",
    "from sklearn.metrics import confusion_matrix\n",
    "from sklearn.metrics import classification_report\n",
    "\n",
    "import re\n",
    "import os\n",
    "from os import listdir\n",
    "import seaborn as sns\n",
    "import nltk\n",
    "nltk.download('punkt')\n",
    "import itertools\n",
    "\n",
    "import matplotlib.pyplot as plt"
   ]
  },
  {
   "cell_type": "code",
   "execution_count": 3,
   "metadata": {},
   "outputs": [],
   "source": [
    "local_bert_path = 'bert/'\n",
    "data_path = 'data/NER'\n",
    "\n",
    "#local_bert_path = '/content/drive/My Drive/W266_Final_Project/bert/' # change as needed\n",
    "#data_path = '/content/drive/My Drive/W266_Final_Project/data/NER/'  # path to ner_dataset.csv file , from \n",
    "\n",
    "now = datetime.now() # current date and time\n",
    "\n",
    "# make sure that the paths are accessible within the notebook\n",
    "sys.path.insert(0,local_bert_path)\n",
    "sys.path.insert(0,data_path)\n",
    "\n",
    "now = datetime.now() # current date and time\n",
    "\n",
    "# make sure that the paths are accessible within the notebook\n",
    "sys.path.insert(0,local_bert_path)\n",
    "sys.path.insert(0,data_path)"
   ]
  },
  {
   "cell_type": "code",
   "execution_count": 4,
   "metadata": {},
   "outputs": [
    {
     "name": "stdout",
     "output_type": "stream",
     "text": [
      "WARNING:tensorflow:From bert/optimization.py:87: The name tf.train.Optimizer is deprecated. Please use tf.compat.v1.train.Optimizer instead.\n",
      "\n"
     ]
    }
   ],
   "source": [
    "# .py files below found in local_bert_path\n",
    "import optimization\n",
    "import run_classifier\n",
    "import tokenization\n",
    "import run_classifier_with_tfhub"
   ]
  },
  {
   "cell_type": "code",
   "execution_count": 5,
   "metadata": {},
   "outputs": [],
   "source": [
    "# Tensorflow hub path to BERT module of choice\n",
    "bert_url = \"https://tfhub.dev/google/bert_cased_L-12_H-768_A-12/1\""
   ]
  },
  {
   "cell_type": "markdown",
   "metadata": {},
   "source": [
    "## BERT tokenizer"
   ]
  },
  {
   "cell_type": "code",
   "execution_count": 6,
   "metadata": {},
   "outputs": [
    {
     "name": "stdout",
     "output_type": "stream",
     "text": [
      "INFO:tensorflow:Saver not created because there are no variables in the graph to restore\n"
     ]
    },
    {
     "name": "stderr",
     "output_type": "stream",
     "text": [
      "INFO:tensorflow:Saver not created because there are no variables in the graph to restore\n"
     ]
    },
    {
     "name": "stdout",
     "output_type": "stream",
     "text": [
      "WARNING:tensorflow:From bert/tokenization.py:125: The name tf.gfile.GFile is deprecated. Please use tf.io.gfile.GFile instead.\n",
      "\n"
     ]
    },
    {
     "name": "stderr",
     "output_type": "stream",
     "text": [
      "WARNING:tensorflow:From bert/tokenization.py:125: The name tf.gfile.GFile is deprecated. Please use tf.io.gfile.GFile instead.\n",
      "\n"
     ]
    }
   ],
   "source": [
    "# BERT tokenizer\n",
    "\n",
    "def create_tokenizer_from_hub_module():\n",
    "    \"\"\"Get the vocab file and casing info from the Hub module.\"\"\"\n",
    "    with tf.Graph().as_default():\n",
    "        # https://www.tensorflow.org/hub/api_docs/python/hub/Module\n",
    "        bert_module = hub.Module(bert_url)\n",
    "        tokenization_info = bert_module(signature=\"tokenization_info\", as_dict=True)\n",
    "        with tf.Session() as sess:\n",
    "            vocab_file, do_lower_case = sess.run([tokenization_info[\"vocab_file\"],\n",
    "                                            tokenization_info[\"do_lower_case\"]])\n",
    "      \n",
    "    return tokenization.FullTokenizer(\n",
    "      vocab_file=vocab_file, do_lower_case=do_lower_case)\n",
    "\n",
    "tokenizer = create_tokenizer_from_hub_module()"
   ]
  },
  {
   "cell_type": "markdown",
   "metadata": {},
   "source": [
    "## Patent data ingestion"
   ]
  },
  {
   "cell_type": "code",
   "execution_count": 7,
   "metadata": {},
   "outputs": [
    {
     "name": "stdout",
     "output_type": "stream",
     "text": [
      "Ingesting the following files:\n",
      " ['data/USPTO-2M/2006_USPTO.json', 'data/USPTO-2M/2007_USPTO.json', 'data/USPTO-2M/2008_USPTO.json', 'data/USPTO-2M/2009_USPTO.json', 'data/USPTO-2M/2010_USPTO.json', 'data/USPTO-2M/2011_USPTO.json', 'data/USPTO-2M/2012_USPTO.json', 'data/USPTO-2M/2013_USPTO.json', 'data/USPTO-2M/2014_USPTO.json', 'data/USPTO-2M/2015_USPTO.json']\n"
     ]
    }
   ],
   "source": [
    "project_path = ''\n",
    "path = project_path\n",
    "all_files = [path + 'data/USPTO-2M/' + f for f in listdir(path + 'data/USPTO-2M') if f.endswith('.json')]\n",
    "print('Ingesting the following files:\\n', sorted(all_files))\n",
    "patents = pd.concat(pd.read_json(f) for f in sorted(all_files))"
   ]
  },
  {
   "cell_type": "code",
   "execution_count": 8,
   "metadata": {},
   "outputs": [
    {
     "data": {
      "text/html": [
       "<div>\n",
       "<style scoped>\n",
       "    .dataframe tbody tr th:only-of-type {\n",
       "        vertical-align: middle;\n",
       "    }\n",
       "\n",
       "    .dataframe tbody tr th {\n",
       "        vertical-align: top;\n",
       "    }\n",
       "\n",
       "    .dataframe thead th {\n",
       "        text-align: right;\n",
       "    }\n",
       "</style>\n",
       "<table border=\"1\" class=\"dataframe\">\n",
       "  <thead>\n",
       "    <tr style=\"text-align: right;\">\n",
       "      <th></th>\n",
       "      <th>Abstract</th>\n",
       "      <th>No</th>\n",
       "      <th>Subclass_labels</th>\n",
       "      <th>Title</th>\n",
       "    </tr>\n",
       "  </thead>\n",
       "  <tbody>\n",
       "    <tr>\n",
       "      <th>0</th>\n",
       "      <td>a magnetic disc unit having a rotating disc ty...</td>\n",
       "      <td>US07072141</td>\n",
       "      <td>[G11B]</td>\n",
       "      <td>magnetic disc unit with range of gap between d...</td>\n",
       "    </tr>\n",
       "    <tr>\n",
       "      <th>1</th>\n",
       "      <td>methods and systems for transforming a volume ...</td>\n",
       "      <td>US06981282</td>\n",
       "      <td>[A41D]</td>\n",
       "      <td>systems and methods for transformable suits</td>\n",
       "    </tr>\n",
       "    <tr>\n",
       "      <th>2</th>\n",
       "      <td>a gardening glove or the like designed to prev...</td>\n",
       "      <td>US06981283</td>\n",
       "      <td>[A41D]</td>\n",
       "      <td>gardening gloves with cushion insert to protec...</td>\n",
       "    </tr>\n",
       "    <tr>\n",
       "      <th>3</th>\n",
       "      <td>a hockey helmet for receiving a head of a wear...</td>\n",
       "      <td>US06981284</td>\n",
       "      <td>[A63B]</td>\n",
       "      <td>hockey helmet comprising a lateral adjustment ...</td>\n",
       "    </tr>\n",
       "    <tr>\n",
       "      <th>4</th>\n",
       "      <td>a toilet and toilet system suitable for a boat...</td>\n",
       "      <td>US06981285</td>\n",
       "      <td>[E03D]</td>\n",
       "      <td>toilet and method of operation</td>\n",
       "    </tr>\n",
       "  </tbody>\n",
       "</table>\n",
       "</div>"
      ],
      "text/plain": [
       "                                            Abstract          No  \\\n",
       "0  a magnetic disc unit having a rotating disc ty...  US07072141   \n",
       "1  methods and systems for transforming a volume ...  US06981282   \n",
       "2  a gardening glove or the like designed to prev...  US06981283   \n",
       "3  a hockey helmet for receiving a head of a wear...  US06981284   \n",
       "4  a toilet and toilet system suitable for a boat...  US06981285   \n",
       "\n",
       "  Subclass_labels                                              Title  \n",
       "0          [G11B]  magnetic disc unit with range of gap between d...  \n",
       "1          [A41D]        systems and methods for transformable suits  \n",
       "2          [A41D]  gardening gloves with cushion insert to protec...  \n",
       "3          [A63B]  hockey helmet comprising a lateral adjustment ...  \n",
       "4          [E03D]                     toilet and method of operation  "
      ]
     },
     "execution_count": 8,
     "metadata": {},
     "output_type": "execute_result"
    }
   ],
   "source": [
    "patents.head()"
   ]
  },
  {
   "cell_type": "code",
   "execution_count": 9,
   "metadata": {},
   "outputs": [
    {
     "name": "stdout",
     "output_type": "stream",
     "text": [
      "loc: 1974121, max number of words: 509\n"
     ]
    }
   ],
   "source": [
    "# Find max num of words in a sentence\n",
    "max_num = 0\n",
    "loc = 0\n",
    "for i, abstract in enumerate(patents.Abstract):\n",
    "  num_words = len(abstract.split(\" \"))\n",
    "  if num_words > max_num:\n",
    "    max_num = num_words\n",
    "    loc = i\n",
    "\n",
    "print(f\"loc: {loc}, max number of words: {max_num}\")\n"
   ]
  },
  {
   "cell_type": "markdown",
   "metadata": {},
   "source": [
    "## Labels"
   ]
  },
  {
   "cell_type": "code",
   "execution_count": 10,
   "metadata": {},
   "outputs": [],
   "source": [
    "# Top 10 CRC codes by count\n",
    "from collections import Counter\n",
    "CRC_codes = [(y) for x in patents[\"Subclass_labels\"] for y in x]\n",
    "result = dict(Counter(CRC_codes))\n",
    "result_sorted = sorted(result.items(), key=lambda x: x[1])"
   ]
  },
  {
   "cell_type": "code",
   "execution_count": 11,
   "metadata": {},
   "outputs": [
    {
     "name": "stdout",
     "output_type": "stream",
     "text": [
      "Total number of CRC labels: 632\n"
     ]
    }
   ],
   "source": [
    "X = list(patents[\"Abstract\"])\n",
    "CRC_labels = patents.Subclass_labels\n",
    "# binarize labels into 1-hot encodings\n",
    "mlb = MultiLabelBinarizer()\n",
    "y = mlb.fit_transform(CRC_labels)\n",
    "num_CRC_labels = len(y[0])\n",
    "print(f\"Total number of CRC labels: {num_CRC_labels}\")"
   ]
  },
  {
   "cell_type": "markdown",
   "metadata": {},
   "source": [
    "## Remove sparse labels"
   ]
  },
  {
   "cell_type": "code",
   "execution_count": 15,
   "metadata": {},
   "outputs": [],
   "source": [
    "# identify sparse labels\n",
    "sparse_labels = sorted([x[0] for x in result_sorted if x[1] <= 1000])\n",
    "\n",
    "# remove sparse labels from CRC labels\n",
    "# freq_CRC_labels = [[label for label in line if label not in sparse_labels] for line in patents.Subclass_labels]\n",
    "\n",
    "subclass_labels_adj = []\n",
    "for line in patents['Subclass_labels']:\n",
    "    lines = []\n",
    "    for word in line:\n",
    "        if word not in sparse_labels:\n",
    "            lines.append(word)\n",
    "    subclass_labels_adj.append(lines)\n",
    "patents[\"Subclass_labels_adj\"] = subclass_labels_adj\n",
    "patents = patents[patents['Subclass_labels_adj'].map(lambda x: len(x)) >0]\n",
    "# patents.dropna(subset=['Subclass_labels_adj'], inplace = True)"
   ]
  },
  {
   "cell_type": "code",
   "execution_count": 16,
   "metadata": {},
   "outputs": [
    {
     "data": {
      "text/html": [
       "<div>\n",
       "<style scoped>\n",
       "    .dataframe tbody tr th:only-of-type {\n",
       "        vertical-align: middle;\n",
       "    }\n",
       "\n",
       "    .dataframe tbody tr th {\n",
       "        vertical-align: top;\n",
       "    }\n",
       "\n",
       "    .dataframe thead th {\n",
       "        text-align: right;\n",
       "    }\n",
       "</style>\n",
       "<table border=\"1\" class=\"dataframe\">\n",
       "  <thead>\n",
       "    <tr style=\"text-align: right;\">\n",
       "      <th></th>\n",
       "      <th>Abstract</th>\n",
       "      <th>No</th>\n",
       "      <th>Subclass_labels</th>\n",
       "      <th>Title</th>\n",
       "      <th>Subclass_labels_adj</th>\n",
       "    </tr>\n",
       "  </thead>\n",
       "  <tbody>\n",
       "    <tr>\n",
       "      <th>0</th>\n",
       "      <td>a method is presented to address quantitative ...</td>\n",
       "      <td>US08777630</td>\n",
       "      <td>[A61B, G09B]</td>\n",
       "      <td>method and system for quantitative assessment ...</td>\n",
       "      <td>[A61B]</td>\n",
       "    </tr>\n",
       "    <tr>\n",
       "      <th>1</th>\n",
       "      <td>in a method for drilling a borehole real time ...</td>\n",
       "      <td>US08857538</td>\n",
       "      <td>[E21B]</td>\n",
       "      <td>method for drilling a borehole</td>\n",
       "      <td>[E21B]</td>\n",
       "    </tr>\n",
       "    <tr>\n",
       "      <th>2</th>\n",
       "      <td>a magnetron actuator for moving a magnetron in...</td>\n",
       "      <td>US08900427</td>\n",
       "      <td>[C23C, H01J]</td>\n",
       "      <td>homing device for magnetron rotating on two arms</td>\n",
       "      <td>[C23C, H01J]</td>\n",
       "    </tr>\n",
       "    <tr>\n",
       "      <th>3</th>\n",
       "      <td>a method of making a touch sensor assembly com...</td>\n",
       "      <td>US08822833</td>\n",
       "      <td>[H05K, C23C, G06F]</td>\n",
       "      <td>touch sensor assembly and method of making the...</td>\n",
       "      <td>[H05K, C23C, G06F]</td>\n",
       "    </tr>\n",
       "    <tr>\n",
       "      <th>4</th>\n",
       "      <td>provided herein are novel epoxide inhibitors o...</td>\n",
       "      <td>US08673904</td>\n",
       "      <td>[C07D, A61K, A61P]</td>\n",
       "      <td>epoxide inhibitors of cysteine proteases</td>\n",
       "      <td>[C07D, A61K, A61P]</td>\n",
       "    </tr>\n",
       "  </tbody>\n",
       "</table>\n",
       "</div>"
      ],
      "text/plain": [
       "                                            Abstract          No  \\\n",
       "0  a method is presented to address quantitative ...  US08777630   \n",
       "1  in a method for drilling a borehole real time ...  US08857538   \n",
       "2  a magnetron actuator for moving a magnetron in...  US08900427   \n",
       "3  a method of making a touch sensor assembly com...  US08822833   \n",
       "4  provided herein are novel epoxide inhibitors o...  US08673904   \n",
       "\n",
       "      Subclass_labels                                              Title  \\\n",
       "0        [A61B, G09B]  method and system for quantitative assessment ...   \n",
       "1              [E21B]                     method for drilling a borehole   \n",
       "2        [C23C, H01J]   homing device for magnetron rotating on two arms   \n",
       "3  [H05K, C23C, G06F]  touch sensor assembly and method of making the...   \n",
       "4  [C07D, A61K, A61P]           epoxide inhibitors of cysteine proteases   \n",
       "\n",
       "  Subclass_labels_adj  \n",
       "0              [A61B]  \n",
       "1              [E21B]  \n",
       "2        [C23C, H01J]  \n",
       "3  [H05K, C23C, G06F]  \n",
       "4  [C07D, A61K, A61P]  "
      ]
     },
     "execution_count": 16,
     "metadata": {},
     "output_type": "execute_result"
    }
   ],
   "source": [
    "patents.head()"
   ]
  },
  {
   "cell_type": "code",
   "execution_count": 17,
   "metadata": {},
   "outputs": [
    {
     "name": "stdout",
     "output_type": "stream",
     "text": [
      "Total number of CRC labels: 116\n"
     ]
    }
   ],
   "source": [
    "# X = list(patents[\"Abstract\"])\n",
    "CRC_labels = patents.Subclass_labels_adj\n",
    "# binarize labels into 1-hot encodings\n",
    "mlb = MultiLabelBinarizer()\n",
    "# y = mlb.fit_transform(CRC_labels)\n",
    "num_CRC_labels = len(y[0])\n",
    "print(f\"Total number of CRC labels: {num_CRC_labels}\")"
   ]
  },
  {
   "cell_type": "markdown",
   "metadata": {},
   "source": [
    "## Preprocess patent data for BERT"
   ]
  },
  {
   "cell_type": "code",
   "execution_count": 12,
   "metadata": {},
   "outputs": [],
   "source": [
    "max_length = 128\n",
    "\n",
    "token_list = []\n",
    "BERT_mask = []\n",
    "BERT_sentence_IDs = []\n",
    "BERT_sequence_IDs = []\n",
    "\n",
    "for line in patents['Abstract']:\n",
    "  line = line[:max_length] # ensure that lines are not greater than max_length\n",
    "  cleanline = re.sub(r'(?!(([^\"]*\"){2})*[^\"]*$),', '', line)  # deal with '\"10,000\"' and convert them to '10000'\n",
    "  line = tokenizer.tokenize(line)\n",
    "  sentence_tokens = ['[CLS]'] + line + ['[SEP]'] + ['[PAD]'] * (max_length -2 - len(line))\n",
    "  token_list.append(sentence_tokens)\n",
    "  BERT_mask.append([1] * (len(line) + 2) + [0] * (max_length -2 - len(line)))\n",
    "  BERT_sentence_IDs.append(tokenizer.convert_tokens_to_ids(sentence_tokens))\n",
    "  BERT_sequence_IDs.append([0] * max_length) \n",
    "\n",
    "\n",
    "BERT_input = np.array([BERT_sentence_IDs, BERT_mask, BERT_sequence_IDs])"
   ]
  },
  {
   "cell_type": "code",
   "execution_count": 13,
   "metadata": {},
   "outputs": [],
   "source": [
    "numSentences = len(BERT_input[0])\n",
    "np.random.seed(0)\n",
    "training_examples = np.random.binomial(1, 0.8, numSentences)"
   ]
  },
  {
   "cell_type": "markdown",
   "metadata": {},
   "source": [
    "## Define train / test set"
   ]
  },
  {
   "cell_type": "code",
   "execution_count": 14,
   "metadata": {},
   "outputs": [],
   "source": [
    "trainSentence_ids = []\n",
    "trainMasks = []\n",
    "trainSequence_ids = []\n",
    "\n",
    "testSentence_ids = []\n",
    "testMasks = []\n",
    "testSequence_ids = []\n",
    "\n",
    "Labels_train = []\n",
    "Labels_test = []\n",
    "\n",
    "\n",
    "for example in range(numSentences):\n",
    "    if training_examples[example] == 1:\n",
    "        trainSentence_ids.append(BERT_input[0][example])\n",
    "        trainMasks.append(BERT_input[1][example])\n",
    "        trainSequence_ids.append(BERT_input[2][example])\n",
    "        Labels_train.append(y[example])\n",
    "    else:\n",
    "        testSentence_ids.append(BERT_input[0][example])\n",
    "        testMasks.append(BERT_input[1][example])\n",
    "        testSequence_ids.append(BERT_input[2][example])\n",
    "        Labels_test.append(y[example])\n",
    "        \n",
    "X_train = np.array([trainSentence_ids,trainMasks,trainSequence_ids])\n",
    "X_test = np.array([testSentence_ids,testMasks,testSequence_ids])\n",
    "\n",
    "y_train = np.array(Labels_train)\n",
    "y_test = np.array(Labels_test)"
   ]
  },
  {
   "cell_type": "code",
   "execution_count": 15,
   "metadata": {},
   "outputs": [],
   "source": [
    "# Use a parameter pair k_start, k_end to look at slices. This helps with quick tests.\n",
    "\n",
    "k_start = 0\n",
    "k_end = -1 # when would this not be set to minus one?\n",
    "\n",
    "if k_end == -1:\n",
    "    k_end_train = X_train[0].shape[0]\n",
    "    k_end_test = X_test[0].shape[0]\n",
    "else:\n",
    "    k_end_train = k_end_test = k_end\n",
    "    \n",
    "\n",
    "\n",
    "X_train_k = [X_train[0][k_start:k_end_train], X_train[1][k_start:k_end_train], \n",
    "                       X_train[2][k_start:k_end_train]]\n",
    "X_test_k = [X_test[0][k_start:k_end_test], X_test[1][k_start:k_end_test], \n",
    "                      X_test[2][k_start:k_end_test]]\n",
    "\n",
    "\n",
    "y_train_k = y_train[k_start:k_end_train]\n",
    "y_test_k = y_test[k_start:k_end_test]"
   ]
  },
  {
   "cell_type": "code",
   "execution_count": 16,
   "metadata": {},
   "outputs": [
    {
     "name": "stdout",
     "output_type": "stream",
     "text": [
      "(3, 1599844, 128)\n",
      "(3, 400303, 128)\n",
      "(1599844, 632)\n",
      "(400303, 632)\n"
     ]
    },
    {
     "data": {
      "text/plain": [
       "[None, None, None, None]"
      ]
     },
     "execution_count": 16,
     "metadata": {},
     "output_type": "execute_result"
    }
   ],
   "source": [
    "x = [X_train_k, X_test_k, y_train_k, y_test_k]\n",
    "[print(np.array(z).shape) for z in x]"
   ]
  },
  {
   "cell_type": "markdown",
   "metadata": {},
   "source": [
    "## Custom loss function"
   ]
  },
  {
   "cell_type": "code",
   "execution_count": 17,
   "metadata": {},
   "outputs": [],
   "source": [
    "def weighted_bce(y_true, y_pred):\n",
    "    # weights become 2 if y_true is 1, and 1 if y_true is 0\n",
    "    weights = (y_true * 2.) + (1. - y_true)\n",
    "    bce = K.binary_crossentropy(y_true, y_pred)\n",
    "    weighted_bce = K.mean(bce * weights)\n",
    "    return weighted_bce"
   ]
  },
  {
   "cell_type": "markdown",
   "metadata": {},
   "source": [
    "## Custom metrics"
   ]
  },
  {
   "cell_type": "code",
   "execution_count": 18,
   "metadata": {},
   "outputs": [],
   "source": [
    "# Define metric \"F1 score\"\n",
    "from tensorflow.keras import backend as K\n",
    "\n",
    "def recall_m(y_true, y_pred):\n",
    "        true_positives = K.sum(K.round(K.clip(y_true * y_pred, 0, 1)))\n",
    "        possible_positives = K.sum(K.round(K.clip(y_true, 0, 1)))\n",
    "        recall = true_positives / (possible_positives + K.epsilon())\n",
    "        return recall\n",
    "def precision_m(y_true, y_pred):\n",
    "        true_positives = K.sum(K.round(K.clip(y_true * y_pred, 0, 1)))\n",
    "        predicted_positives = K.sum(K.round(K.clip(y_pred, 0, 1)))\n",
    "        precision = true_positives / (predicted_positives + K.epsilon())\n",
    "        return precision\n",
    "def f1(y_true, y_pred):\n",
    "    precision = precision_m(y_true, y_pred)\n",
    "    recall = recall_m(y_true, y_pred)\n",
    "    return 2*((precision*recall)/(precision+recall+K.epsilon()))"
   ]
  },
  {
   "cell_type": "markdown",
   "metadata": {},
   "source": [
    "## Keras BERT layer"
   ]
  },
  {
   "cell_type": "code",
   "execution_count": 19,
   "metadata": {},
   "outputs": [],
   "source": [
    "class BertLayer(tf.keras.layers.Layer):\n",
    "    \"\"\"\n",
    "    Create BERT layer, following https://towardsdatascience.com/bert-in-keras-with-tensorflow-hub-76bcbc9417b\n",
    "    init:  initialize layer. Specify various parameters regarding output types and dimensions. Very important is\n",
    "           to set the number of trainable layers.\n",
    "    build: build the layer based on parameters\n",
    "    call:  call the BERT layer within a model\n",
    "    \"\"\"\n",
    "    \n",
    "    def __init__(\n",
    "        self,\n",
    "        n_fine_tune_layers=10,\n",
    "        pooling=\"sequence\",\n",
    "        bert_url=\"https://tfhub.dev/google/bert_cased_L-12_H-768_A-12/1\",\n",
    "        **kwargs,\n",
    "    ):\n",
    "        self.n_fine_tune_layers = n_fine_tune_layers\n",
    "        self.trainable = True\n",
    "        self.output_size = 768\n",
    "        self.pooling = pooling\n",
    "        self.bert_url = bert_url\n",
    "\n",
    "        super(BertLayer, self).__init__(**kwargs)\n",
    "\n",
    "    def build(self, input_shape):\n",
    "        self.bert = hub.Module(\n",
    "            self.bert_url, trainable=self.trainable, name=f\"{self.name}_module\"\n",
    "        )\n",
    "\n",
    "        # Remove unused layers\n",
    "        trainable_vars = self.bert.variables\n",
    "        trainable_vars = [\n",
    "                var\n",
    "                for var in trainable_vars\n",
    "                if not \"/cls/\" in var.name and not \"/pooler/\" in var.name\n",
    "            ]\n",
    "        trainable_layers = []\n",
    "\n",
    "\n",
    "        # Select how many layers to fine tune\n",
    "        for i in range(self.n_fine_tune_layers):\n",
    "            trainable_layers.append(f\"encoder/layer_{str(11 - i)}\")\n",
    "\n",
    "        # Update trainable vars to contain only the specified layers\n",
    "        trainable_vars = [\n",
    "            var\n",
    "            for var in trainable_vars\n",
    "            if any([l in var.name for l in trainable_layers])\n",
    "        ]\n",
    "\n",
    "        # Add to trainable weights\n",
    "        for var in trainable_vars:\n",
    "            self._trainable_weights.append(var)\n",
    "\n",
    "        for var in self.bert.variables:\n",
    "            if var not in self._trainable_weights:\n",
    "                self._non_trainable_weights.append(var)\n",
    "\n",
    "        super(BertLayer, self).build(input_shape)\n",
    "\n",
    "    def call(self, inputs):\n",
    "        inputs = [K.cast(x, dtype=\"int32\") for x in inputs]\n",
    "        input_ids, input_mask, segment_ids = inputs\n",
    "        bert_inputs = dict(\n",
    "            input_ids=input_ids, input_mask=input_mask, segment_ids=segment_ids\n",
    "        )\n",
    "        result = self.bert(inputs=bert_inputs, signature=\"tokens\", as_dict=True)[\n",
    "                \"sequence_output\"\n",
    "            ]\n",
    "\n",
    "        mul_mask = lambda x, m: x * tf.expand_dims(m, axis=-1)\n",
    "\n",
    "        return result\n",
    "\n",
    "    def compute_output_shape(self, input_shape):\n",
    "        return (input_shape[0], self.output_size)\n",
    "\n"
   ]
  },
  {
   "cell_type": "code",
   "execution_count": 20,
   "metadata": {},
   "outputs": [],
   "source": [
    "def variable_summaries(var):\n",
    "    \"\"\"Attach a lot of summaries to a Tensor (for TensorBoard visualization).\"\"\"\n",
    "    with tf.name_scope('summaries'):\n",
    "        mean = tf.reduce_mean(var)\n",
    "        tf.summary.scalar('mean', mean)\n",
    "        with tf.name_scope('stddev'):\n",
    "            stddev = tf.sqrt(tf.reduce_mean(tf.square(var - mean)))\n",
    "        tf.summary.scalar('stddev', stddev)\n",
    "        tf.summary.scalar('max', tf.reduce_max(var))\n",
    "        tf.summary.scalar('min', tf.reduce_min(var))\n",
    "        tf.summary.histogram('histogram', var)"
   ]
  },
  {
   "cell_type": "markdown",
   "metadata": {},
   "source": [
    "## Model definition"
   ]
  },
  {
   "cell_type": "code",
   "execution_count": 27,
   "metadata": {},
   "outputs": [],
   "source": [
    "def crc_model(max_input_length, train_layers, optimizer, num_labels):\n",
    "    \"\"\"\n",
    "    Implementation of CRC model\n",
    "    \n",
    "    variables:\n",
    "        max_input_length: number of tokens (max_length + 1)\n",
    "        train_layers: number of layers to be retrained\n",
    "        optimizer: optimizer to be used\n",
    "    \n",
    "    returns: model\n",
    "    \"\"\"\n",
    "    # set parameters:\n",
    "    filters = 512\n",
    "    hidden_dims = 512\n",
    "    \n",
    "    in_id = tf.keras.layers.Input(shape=(max_length,), name=\"input_ids\")\n",
    "    in_mask = tf.keras.layers.Input(shape=(max_length,), name=\"input_masks\")\n",
    "    in_segment = tf.keras.layers.Input(shape=(max_length,), name=\"segment_ids\")\n",
    "    \n",
    "    \n",
    "    BERT_input = [in_id, in_mask, in_segment]\n",
    "    \n",
    "    #BertLayer defined above\n",
    "    bert_sequence = BertLayer(n_fine_tune_layers=train_layers)(BERT_input)\n",
    "    \n",
    "    print(bert_sequence)\n",
    "\n",
    "    # bert_cls = bert_sequence[:,0,:]\n",
    "    # bert_cls = tf.keras.layers.Dropout(rate=0.2)(bert_cls)\n",
    "\n",
    "    conv0 = tf.keras.layers.Conv1D(filters, 2, padding='valid', activation='relu', strides=1)(bert_sequence)\n",
    "    maxpool0 = tf.keras.layers.GlobalMaxPooling1D()(conv0)\n",
    "    \n",
    "    conv1 = tf.keras.layers.Conv1D(filters, 3, padding='valid', activation='relu', strides=1)(bert_sequence)\n",
    "    maxpool1 = tf.keras.layers.GlobalMaxPooling1D()(conv1)\n",
    "\n",
    "    conv2 = tf.keras.layers.Conv1D(filters, 4, padding='valid', activation='relu', strides=1)(bert_sequence)\n",
    "    maxpool2 = tf.keras.layers.GlobalMaxPooling1D()(conv2)\n",
    "\n",
    "    conv3 = tf.keras.layers.Conv1D(filters, 5, padding='valid', activation='relu', strides=1)(bert_sequence)\n",
    "    maxpool3 = tf.keras.layers.GlobalMaxPooling1D()(conv3)\n",
    "\n",
    "    concat1 = tf.keras.layers.concatenate([maxpool0, maxpool1, maxpool2, maxpool3], axis=1)\n",
    "    dropout1 = tf.keras.layers.Dropout(rate=0.2)(concat1)\n",
    "\n",
    "    dense = tf.keras.layers.Dense(512, activation='relu', name='dense')(dropout1)\n",
    "    batchnorm = tf.keras.layers.BatchNormalization()(dense)\n",
    "    # dense = tf.keras.layers.Dense(512, activation='relu', name='dense')(bert_sequence)\n",
    "    dense = tf.keras.layers.Dropout(rate=0.5)(batchnorm)\n",
    "    \n",
    "    pred = tf.keras.layers.Dense(num_labels, activation='sigmoid', name='crc')(dense)\n",
    "    # pred = tf.keras.layers.Dense(num_labels, name='crc')(dense)\n",
    "      \n",
    "    print('pred: ', pred)\n",
    "    \n",
    "    ## Prepare for multiple loss functions, although not used here\n",
    "    \n",
    "    losses = {\n",
    "      \"crc\": weighted_bce,\n",
    "    }\n",
    "    lossWeights = {\"crc\": 1.0}\n",
    "    \n",
    "    \n",
    "    model = tf.keras.models.Model(inputs=BERT_input, outputs=pred)\n",
    "    \n",
    "    metrics=[f1,\n",
    "         tf.keras.metrics.Precision(name='precision'),\n",
    "         tf.keras.metrics.Precision(name='precision_1', top_k=1),\n",
    "         tf.keras.metrics.Recall(name='recall'),\n",
    "         tf.keras.metrics.Recall(name='recall_5', top_k=5)]\n",
    "\n",
    "    model.compile(loss=losses, optimizer=optimizer, metrics=metrics)\n",
    "    \n",
    "    \n",
    "    model.summary()\n",
    "    \n",
    "    return model\n",
    "\n",
    "def initialize_vars(sess):\n",
    "    sess.run(tf.local_variables_initializer())\n",
    "    sess.run(tf.global_variables_initializer())\n",
    "    sess.run(tf.tables_initializer())\n",
    "    K.set_session(sess)"
   ]
  },
  {
   "cell_type": "code",
   "execution_count": 28,
   "metadata": {},
   "outputs": [
    {
     "name": "stdout",
     "output_type": "stream",
     "text": [
      "INFO:tensorflow:Saver not created because there are no variables in the graph to restore\n"
     ]
    },
    {
     "name": "stderr",
     "output_type": "stream",
     "text": [
      "INFO:tensorflow:Saver not created because there are no variables in the graph to restore\n"
     ]
    },
    {
     "name": "stdout",
     "output_type": "stream",
     "text": [
      "Tensor(\"bert_layer_1/bert_layer_1_module_apply_tokens/bert/encoder/Reshape_13:0\", shape=(?, ?, 768), dtype=float32)\n",
      "pred:  Tensor(\"crc_1/Sigmoid:0\", shape=(?, 632), dtype=float32)\n",
      "Model: \"model_1\"\n",
      "__________________________________________________________________________________________________\n",
      "Layer (type)                    Output Shape         Param #     Connected to                     \n",
      "==================================================================================================\n",
      "input_ids (InputLayer)          [(None, 128)]        0                                            \n",
      "__________________________________________________________________________________________________\n",
      "input_masks (InputLayer)        [(None, 128)]        0                                            \n",
      "__________________________________________________________________________________________________\n",
      "segment_ids (InputLayer)        [(None, 128)]        0                                            \n",
      "__________________________________________________________________________________________________\n",
      "bert_layer_1 (BertLayer)        (None, None, 768)    108931396   input_ids[0][0]                  \n",
      "                                                                 input_masks[0][0]                \n",
      "                                                                 segment_ids[0][0]                \n",
      "__________________________________________________________________________________________________\n",
      "conv1d_4 (Conv1D)               (None, None, 512)    786944      bert_layer_1[0][0]               \n",
      "__________________________________________________________________________________________________\n",
      "conv1d_5 (Conv1D)               (None, None, 512)    1180160     bert_layer_1[0][0]               \n",
      "__________________________________________________________________________________________________\n",
      "conv1d_6 (Conv1D)               (None, None, 512)    1573376     bert_layer_1[0][0]               \n",
      "__________________________________________________________________________________________________\n",
      "conv1d_7 (Conv1D)               (None, None, 512)    1966592     bert_layer_1[0][0]               \n",
      "__________________________________________________________________________________________________\n",
      "global_max_pooling1d_4 (GlobalM (None, 512)          0           conv1d_4[0][0]                   \n",
      "__________________________________________________________________________________________________\n",
      "global_max_pooling1d_5 (GlobalM (None, 512)          0           conv1d_5[0][0]                   \n",
      "__________________________________________________________________________________________________\n",
      "global_max_pooling1d_6 (GlobalM (None, 512)          0           conv1d_6[0][0]                   \n",
      "__________________________________________________________________________________________________\n",
      "global_max_pooling1d_7 (GlobalM (None, 512)          0           conv1d_7[0][0]                   \n",
      "__________________________________________________________________________________________________\n",
      "concatenate_1 (Concatenate)     (None, 2048)         0           global_max_pooling1d_4[0][0]     \n",
      "                                                                 global_max_pooling1d_5[0][0]     \n",
      "                                                                 global_max_pooling1d_6[0][0]     \n",
      "                                                                 global_max_pooling1d_7[0][0]     \n",
      "__________________________________________________________________________________________________\n",
      "dropout_2 (Dropout)             (None, 2048)         0           concatenate_1[0][0]              \n",
      "__________________________________________________________________________________________________\n",
      "dense (Dense)                   (None, 512)          1049088     dropout_2[0][0]                  \n",
      "__________________________________________________________________________________________________\n",
      "batch_normalization_1 (BatchNor (None, 512)          2048        dense[0][0]                      \n",
      "__________________________________________________________________________________________________\n",
      "dropout_3 (Dropout)             (None, 512)          0           batch_normalization_1[0][0]      \n",
      "__________________________________________________________________________________________________\n",
      "crc (Dense)                     (None, 632)          324216      dropout_3[0][0]                  \n",
      "==================================================================================================\n",
      "Total params: 115,813,820\n",
      "Trainable params: 6,881,400\n",
      "Non-trainable params: 108,932,420\n",
      "__________________________________________________________________________________________________\n"
     ]
    }
   ],
   "source": [
    "#Start session\n",
    "from tensorflow.python.keras.backend import set_session\n",
    "# from tensorflow.python.keras.models import load_model\n",
    "\n",
    "sess = tf.Session()\n",
    "set_session(sess)\n",
    "model = crc_model(max_length + 1, train_layers=0, optimizer = 'adam', num_labels = num_CRC_labels)\n",
    "\n",
    "# Instantiate variables\n",
    "initialize_vars(sess)\n",
    "\n",
    "# tensorboard = TensorBoard(log_dir=\"logs/{}\".format(time()))"
   ]
  },
  {
   "cell_type": "code",
   "execution_count": 23,
   "metadata": {},
   "outputs": [
    {
     "name": "stdout",
     "output_type": "stream",
     "text": [
      "Train on 1599844 samples, validate on 400303 samples\n",
      "Epoch 1/5\n",
      "1599844/1599844 [==============================] - 9517s 6ms/sample - loss: 0.0110 - f1: 0.3465 - precision: 0.2111 - precision_1: 0.4809 - recall: 0.2398 - recall_5: 0.6569 - val_loss: 0.0059 - val_f1: 0.4434 - val_precision: 0.7483 - val_precision_1: 0.5763 - val_recall: 0.3153 - val_recall_5: 0.7532\n",
      "Epoch 2/5\n",
      "1599844/1599844 [==============================] - 9477s 6ms/sample - loss: 0.0061 - f1: 0.4408 - precision: 0.7192 - precision_1: 0.5695 - recall: 0.3182 - recall_5: 0.7398 - val_loss: 0.0055 - val_f1: 0.4863 - val_precision: 0.7425 - val_precision_1: 0.6030 - val_recall: 0.3617 - val_recall_5: 0.7744\n",
      "Epoch 3/5\n",
      "1599844/1599844 [==============================] - 9471s 6ms/sample - loss: 0.0059 - f1: 0.4649 - precision: 0.7301 - precision_1: 0.5912 - recall: 0.3414 - recall_5: 0.7581 - val_loss: 0.0054 - val_f1: 0.4887 - val_precision: 0.7603 - val_precision_1: 0.6143 - val_recall: 0.3603 - val_recall_5: 0.7834\n",
      "Epoch 4/5\n",
      "1599844/1599844 [==============================] - 9478s 6ms/sample - loss: 0.0057 - f1: 0.4796 - precision: 0.7363 - precision_1: 0.6034 - recall: 0.3560 - recall_5: 0.7689 - val_loss: 0.0053 - val_f1: 0.5007 - val_precision: 0.7580 - val_precision_1: 0.6212 - val_recall: 0.3739 - val_recall_5: 0.7883\n",
      "Epoch 5/5\n",
      "1599844/1599844 [==============================] - 9479s 6ms/sample - loss: 0.0056 - f1: 0.4897 - precision: 0.7402 - precision_1: 0.6127 - recall: 0.3662 - recall_5: 0.7766 - val_loss: 0.0053 - val_f1: 0.5135 - val_precision: 0.7544 - val_precision_1: 0.6280 - val_recall: 0.3893 - val_recall_5: 0.7934\n"
     ]
    }
   ],
   "source": [
    "# with binary cross_entropy, epochs 0-5, dropout 0.5 in the final layer and max sentence length 250\n",
    "history = model.fit(\n",
    "    X_train_k, y_train_k,\n",
    "    validation_data=(X_test_k, y_test_k),\n",
    "    epochs=5,\n",
    "    batch_size=128#,\n",
    "    #callbacks=[tensorboard]\n",
    ")"
   ]
  },
  {
   "cell_type": "code",
   "execution_count": 24,
   "metadata": {},
   "outputs": [
    {
     "name": "stdout",
     "output_type": "stream",
     "text": [
      "Train on 1599844 samples, validate on 400303 samples\n",
      "Epoch 1/5\n",
      "1599844/1599844 [==============================] - 9481s 6ms/sample - loss: 0.0055 - f1: 0.4985 - precision: 0.7441 - precision_1: 0.6204 - recall: 0.3752 - recall_5: 0.7830 - val_loss: 0.0052 - val_f1: 0.5162 - val_precision: 0.7566 - val_precision_1: 0.6308 - val_recall: 0.3918 - val_recall_5: 0.7956\n",
      "Epoch 2/5\n",
      "1599844/1599844 [==============================] - 9506s 6ms/sample - loss: 0.0054 - f1: 0.5056 - precision: 0.7464 - precision_1: 0.6261 - recall: 0.3826 - recall_5: 0.7882 - val_loss: 0.0052 - val_f1: 0.5091 - val_precision: 0.7699 - val_precision_1: 0.6324 - val_recall: 0.3805 - val_recall_5: 0.7973\n",
      "Epoch 3/5\n",
      "1599844/1599844 [==============================] - 9505s 6ms/sample - loss: 0.0053 - f1: 0.5123 - precision: 0.7497 - precision_1: 0.6323 - recall: 0.3895 - recall_5: 0.7927 - val_loss: 0.0052 - val_f1: 0.5292 - val_precision: 0.7473 - val_precision_1: 0.6357 - val_recall: 0.4098 - val_recall_5: 0.7990\n",
      "Epoch 4/5\n",
      "1599844/1599844 [==============================] - 9500s 6ms/sample - loss: 0.0053 - f1: 0.5175 - precision: 0.7514 - precision_1: 0.6373 - recall: 0.3950 - recall_5: 0.7970 - val_loss: 0.0052 - val_f1: 0.5273 - val_precision: 0.7534 - val_precision_1: 0.6375 - val_recall: 0.4056 - val_recall_5: 0.8005\n",
      "Epoch 5/5\n",
      "1599844/1599844 [==============================] - 9499s 6ms/sample - loss: 0.0052 - f1: 0.5230 - precision: 0.7538 - precision_1: 0.6418 - recall: 0.4008 - recall_5: 0.8006 - val_loss: 0.0051 - val_f1: 0.5252 - val_precision: 0.7605 - val_precision_1: 0.6388 - val_recall: 0.4012 - val_recall_5: 0.8027\n"
     ]
    }
   ],
   "source": [
    "# binary crossentropy epochs 5-10\n",
    "history = model.fit(\n",
    "    X_train_k, y_train_k,\n",
    "    validation_data=(X_test_k, y_test_k),\n",
    "    epochs=5,\n",
    "    batch_size=128#,\n",
    "    #callbacks=[tensorboard]\n",
    ")"
   ]
  },
  {
   "cell_type": "code",
   "execution_count": 26,
   "metadata": {},
   "outputs": [
    {
     "data": {
      "image/png": "[encoded data removed]",
      "text/plain": [
       "<Figure size 432x288 with 1 Axes>"
      ]
     },
     "metadata": {
      "needs_background": "light"
     },
     "output_type": "display_data"
    }
   ],
   "source": [
    "plot_metric(history.history, [\"f1\", \"val_f1\", \"precision\", \"val_precision\", \"precision_1\", \"val_precision\",\n",
    "                              \"recall\", \"val_recall\", \"recall_5\", \"val_recall_5\"], \"CNN - metrics by training epoch\")"
   ]
  },
  {
   "cell_type": "code",
   "execution_count": 29,
   "metadata": {},
   "outputs": [
    {
     "name": "stdout",
     "output_type": "stream",
     "text": [
      "Train on 1599844 samples, validate on 400303 samples\n",
      "Epoch 1/5\n",
      "1599844/1599844 [==============================] - 9489s 6ms/sample - loss: 0.0155 - f1: 0.4174 - precision: 0.2468 - precision_1: 0.4923 - recall: 0.3436 - recall_5: 0.6722 - val_loss: 0.0095 - val_f1: 0.5131 - val_precision: 0.6210 - val_precision_1: 0.5805 - val_recall: 0.4373 - val_recall_5: 0.7591\n",
      "Epoch 2/5\n",
      "1599844/1599844 [==============================] - 9482s 6ms/sample - loss: 0.0100 - f1: 0.4972 - precision: 0.5984 - precision_1: 0.5696 - recall: 0.4256 - recall_5: 0.7445 - val_loss: 0.0090 - val_f1: 0.5347 - val_precision: 0.6315 - val_precision_1: 0.6031 - val_recall: 0.4638 - val_recall_5: 0.7759\n",
      "Epoch 3/5\n",
      "1599844/1599844 [==============================] - 9485s 6ms/sample - loss: 0.0095 - f1: 0.5173 - precision: 0.6099 - precision_1: 0.5899 - recall: 0.4494 - recall_5: 0.7620 - val_loss: 0.0088 - val_f1: 0.5460 - val_precision: 0.6371 - val_precision_1: 0.6134 - val_recall: 0.4777 - val_recall_5: 0.7847\n",
      "Epoch 4/5\n",
      " 265600/1599844 [===>..........................] - ETA: 1:46:39 - loss: 0.0093 - f1: 0.5280 - precision: 0.6157 - precision_1: 0.6003 - recall: 0.4622 - recall_5: 0.7720"
     ]
    },
    {
     "name": "stderr",
     "output_type": "stream",
     "text": [
      "IOPub data rate exceeded.\n",
      "The notebook server will temporarily stop sending output\n",
      "to the client in order to avoid crashing it.\n",
      "To change this limit, set the config variable\n",
      "`--NotebookApp.iopub_data_rate_limit`.\n",
      "\n",
      "Current values:\n",
      "NotebookApp.iopub_data_rate_limit=1000000.0 (bytes/sec)\n",
      "NotebookApp.rate_limit_window=3.0 (secs)\n",
      "\n"
     ]
    },
    {
     "name": "stdout",
     "output_type": "stream",
     "text": [
      "1425024/1599844 [=========================>....] - ETA: 13:59 - loss: 0.0093 - f1: 0.5290 - precision: 0.6165 - precision_1: 0.6017 - recall: 0.4635 - recall_5: 0.7725"
     ]
    },
    {
     "name": "stderr",
     "output_type": "stream",
     "text": [
      "IOPub message rate exceeded.\n",
      "The notebook server will temporarily stop sending output\n",
      "to the client in order to avoid crashing it.\n",
      "To change this limit, set the config variable\n",
      "`--NotebookApp.iopub_msg_rate_limit`.\n",
      "\n",
      "Current values:\n",
      "NotebookApp.iopub_msg_rate_limit=1000.0 (msgs/sec)\n",
      "NotebookApp.rate_limit_window=3.0 (secs)\n",
      "\n"
     ]
    },
    {
     "name": "stdout",
     "output_type": "stream",
     "text": [
      " 996096/1599844 [=================>............] - ETA: 48:21 - loss: 0.0090 - f1: 0.5382 - precision: 0.6206 - precision_1: 0.6109 - recall: 0.4753 - recall_5: 0.7812"
     ]
    },
    {
     "name": "stderr",
     "output_type": "stream",
     "text": [
      "IOPub data rate exceeded.\n",
      "The notebook server will temporarily stop sending output\n",
      "to the client in order to avoid crashing it.\n",
      "To change this limit, set the config variable\n",
      "`--NotebookApp.iopub_data_rate_limit`.\n",
      "\n",
      "Current values:\n",
      "NotebookApp.iopub_data_rate_limit=1000000.0 (bytes/sec)\n",
      "NotebookApp.rate_limit_window=3.0 (secs)\n",
      "\n"
     ]
    }
   ],
   "source": [
    "# weighted binary crossentropy epochs 0-5\n",
    "history = model.fit(\n",
    "    X_train_k, y_train_k,\n",
    "    validation_data=(X_test_k, y_test_k),\n",
    "    epochs=5,\n",
    "    batch_size=128#,\n",
    "    #callbacks=[tensorboard]\n",
    ")"
   ]
  },
  {
   "cell_type": "code",
   "execution_count": 30,
   "metadata": {},
   "outputs": [
    {
     "name": "stdout",
     "output_type": "stream",
     "text": [
      "Train on 1599844 samples, validate on 400303 samples\n",
      "Epoch 1/5\n",
      "1599844/1599844 [==============================] - 9504s 6ms/sample - loss: 0.0089 - f1: 0.5441 - precision: 0.6237 - precision_1: 0.6173 - recall: 0.4827 - recall_5: 0.7866 - val_loss: 0.0085 - val_f1: 0.5609 - val_precision: 0.6450 - val_precision_1: 0.6285 - val_recall: 0.4961 - val_recall_5: 0.7971\n",
      "Epoch 2/5\n",
      "1599844/1599844 [==============================] - 9502s 6ms/sample - loss: 0.0088 - f1: 0.5500 - precision: 0.6265 - precision_1: 0.6234 - recall: 0.4904 - recall_5: 0.7919 - val_loss: 0.0084 - val_f1: 0.5665 - val_precision: 0.6361 - val_precision_1: 0.6323 - val_recall: 0.5105 - val_recall_5: 0.8000\n",
      "Epoch 3/5\n",
      "1599844/1599844 [==============================] - 9504s 6ms/sample - loss: 0.0086 - f1: 0.5545 - precision: 0.6284 - precision_1: 0.6283 - recall: 0.4962 - recall_5: 0.7967 - val_loss: 0.0084 - val_f1: 0.5665 - val_precision: 0.6449 - val_precision_1: 0.6344 - val_recall: 0.5050 - val_recall_5: 0.8012\n",
      "Epoch 4/5\n",
      "1599844/1599844 [==============================] - 9502s 6ms/sample - loss: 0.0085 - f1: 0.5589 - precision: 0.6305 - precision_1: 0.6330 - recall: 0.5022 - recall_5: 0.8007 - val_loss: 0.0084 - val_f1: 0.5708 - val_precision: 0.6311 - val_precision_1: 0.6352 - val_recall: 0.5208 - val_recall_5: 0.8031\n",
      "Epoch 5/5\n",
      "1599844/1599844 [==============================] - 9501s 6ms/sample - loss: 0.0084 - f1: 0.5626 - precision: 0.6319 - precision_1: 0.6367 - recall: 0.5071 - recall_5: 0.8040 - val_loss: 0.0083 - val_f1: 0.5712 - val_precision: 0.6407 - val_precision_1: 0.6375 - val_recall: 0.5153 - val_recall_5: 0.8043\n"
     ]
    }
   ],
   "source": [
    "# weighted binary crossentropy epochs 5-10\n",
    "history = model.fit(\n",
    "    X_train_k, y_train_k,\n",
    "    validation_data=(X_test_k, y_test_k),\n",
    "    epochs=5,\n",
    "    batch_size=128#,\n",
    "    #callbacks=[tensorboard]\n",
    ")"
   ]
  },
  {
   "cell_type": "code",
   "execution_count": 31,
   "metadata": {},
   "outputs": [
    {
     "data": {
      "image/png": "[encoded data removed]",
      "text/plain": [
       "<Figure size 432x288 with 1 Axes>"
      ]
     },
     "metadata": {
      "needs_background": "light"
     },
     "output_type": "display_data"
    }
   ],
   "source": [
    "plot_metric(history.history, [\"f1\", \"val_f1\", \"precision\", \"val_precision\", \"precision_1\", \"val_precision\",\n",
    "                              \"recall\", \"val_recall\", \"recall_5\", \"val_recall_5\"], \"CNN - metrics by training epoch\")"
   ]
  },
  {
   "cell_type": "code",
   "execution_count": 32,
   "metadata": {},
   "outputs": [
    {
     "name": "stdout",
     "output_type": "stream",
     "text": [
      "Train on 1599844 samples, validate on 400303 samples\n",
      "Epoch 1/5\n",
      "1599844/1599844 [==============================] - 9466s 6ms/sample - loss: 0.0083 - f1: 0.5665 - precision: 0.6338 - precision_1: 0.6407 - recall: 0.5124 - recall_5: 0.8078 - val_loss: 0.0083 - val_f1: 0.5721 - val_precision: 0.6332 - val_precision_1: 0.6380 - val_recall: 0.5216 - val_recall_5: 0.8036\n",
      "Epoch 2/5\n",
      "1599844/1599844 [==============================] - 9490s 6ms/sample - loss: 0.0082 - f1: 0.5698 - precision: 0.6352 - precision_1: 0.6445 - recall: 0.5169 - recall_5: 0.8112 - val_loss: 0.0083 - val_f1: 0.5735 - val_precision: 0.6402 - val_precision_1: 0.6397 - val_recall: 0.5194 - val_recall_5: 0.8047\n",
      "Epoch 3/5\n",
      "1599844/1599844 [==============================] - 9492s 6ms/sample - loss: 0.0082 - f1: 0.5726 - precision: 0.6362 - precision_1: 0.6476 - recall: 0.5207 - recall_5: 0.8138 - val_loss: 0.0083 - val_f1: 0.5765 - val_precision: 0.6123 - val_precision_1: 0.6399 - val_recall: 0.5444 - val_recall_5: 0.8055\n",
      "Epoch 4/5\n",
      "1599844/1599844 [==============================] - 9492s 6ms/sample - loss: 0.0081 - f1: 0.5753 - precision: 0.6372 - precision_1: 0.6507 - recall: 0.5245 - recall_5: 0.8167 - val_loss: 0.0083 - val_f1: 0.5731 - val_precision: 0.6521 - val_precision_1: 0.6413 - val_recall: 0.5111 - val_recall_5: 0.8062\n",
      "Epoch 5/5\n",
      "1599844/1599844 [==============================] - 9489s 6ms/sample - loss: 0.0080 - f1: 0.5783 - precision: 0.6387 - precision_1: 0.6538 - recall: 0.5286 - recall_5: 0.8195 - val_loss: 0.0083 - val_f1: 0.5775 - val_precision: 0.6394 - val_precision_1: 0.6432 - val_recall: 0.5264 - val_recall_5: 0.8067\n"
     ]
    }
   ],
   "source": [
    "# weighted binary crossentropy epochs 5-10\n",
    "history = model.fit(\n",
    "    X_train_k, y_train_k,\n",
    "    validation_data=(X_test_k, y_test_k),\n",
    "    epochs=5,\n",
    "    batch_size=128#,\n",
    "    #callbacks=[tensorboard]\n",
    ")"
   ]
  },
  {
   "cell_type": "code",
   "execution_count": 33,
   "metadata": {},
   "outputs": [
    {
     "ename": "TypeError",
     "evalue": "'BertLayer' object is not iterable",
     "output_type": "error",
     "traceback": [
      "\u001b[0;31m---------------------------------------------------------------------------\u001b[0m",
      "\u001b[0;31mTypeError\u001b[0m                                 Traceback (most recent call last)",
      "\u001b[0;32m<ipython-input-33-9620316205c9>\u001b[0m in \u001b[0;36m<module>\u001b[0;34m()\u001b[0m\n\u001b[1;32m      1\u001b[0m \u001b[0;32mfrom\u001b[0m \u001b[0mkeras\u001b[0m\u001b[0;34m.\u001b[0m\u001b[0mutils\u001b[0m \u001b[0;32mimport\u001b[0m \u001b[0mplot_model\u001b[0m\u001b[0;34m\u001b[0m\u001b[0;34m\u001b[0m\u001b[0m\n\u001b[0;32m----> 2\u001b[0;31m \u001b[0mplot_model\u001b[0m\u001b[0;34m(\u001b[0m\u001b[0mmodel\u001b[0m\u001b[0;34m,\u001b[0m \u001b[0mto_file\u001b[0m\u001b[0;34m=\u001b[0m\u001b[0;34m'BERT_model.png'\u001b[0m\u001b[0;34m)\u001b[0m\u001b[0;34m\u001b[0m\u001b[0;34m\u001b[0m\u001b[0m\n\u001b[0m",
      "\u001b[0;32m~/anaconda3/lib/python3.7/site-packages/keras/utils/vis_utils.py\u001b[0m in \u001b[0;36mplot_model\u001b[0;34m(model, to_file, show_shapes, show_layer_names, rankdir, expand_nested, dpi)\u001b[0m\n\u001b[1;32m    238\u001b[0m     \"\"\"\n\u001b[1;32m    239\u001b[0m     dot = model_to_dot(model, show_shapes, show_layer_names, rankdir,\n\u001b[0;32m--> 240\u001b[0;31m                        expand_nested, dpi)\n\u001b[0m\u001b[1;32m    241\u001b[0m     \u001b[0m_\u001b[0m\u001b[0;34m,\u001b[0m \u001b[0mextension\u001b[0m \u001b[0;34m=\u001b[0m \u001b[0mos\u001b[0m\u001b[0;34m.\u001b[0m\u001b[0mpath\u001b[0m\u001b[0;34m.\u001b[0m\u001b[0msplitext\u001b[0m\u001b[0;34m(\u001b[0m\u001b[0mto_file\u001b[0m\u001b[0;34m)\u001b[0m\u001b[0;34m\u001b[0m\u001b[0;34m\u001b[0m\u001b[0m\n\u001b[1;32m    242\u001b[0m     \u001b[0;32mif\u001b[0m \u001b[0;32mnot\u001b[0m \u001b[0mextension\u001b[0m\u001b[0;34m:\u001b[0m\u001b[0;34m\u001b[0m\u001b[0;34m\u001b[0m\u001b[0m\n",
      "\u001b[0;32m~/anaconda3/lib/python3.7/site-packages/keras/utils/vis_utils.py\u001b[0m in \u001b[0;36mmodel_to_dot\u001b[0;34m(model, show_shapes, show_layer_names, rankdir, expand_nested, dpi, subgraph)\u001b[0m\n\u001b[1;32m    167\u001b[0m             \u001b[0mnode_key\u001b[0m \u001b[0;34m=\u001b[0m \u001b[0mlayer\u001b[0m\u001b[0;34m.\u001b[0m\u001b[0mname\u001b[0m \u001b[0;34m+\u001b[0m \u001b[0;34m'_ib-'\u001b[0m \u001b[0;34m+\u001b[0m \u001b[0mstr\u001b[0m\u001b[0;34m(\u001b[0m\u001b[0mi\u001b[0m\u001b[0;34m)\u001b[0m\u001b[0;34m\u001b[0m\u001b[0;34m\u001b[0m\u001b[0m\n\u001b[1;32m    168\u001b[0m             \u001b[0;32mif\u001b[0m \u001b[0mnode_key\u001b[0m \u001b[0;32min\u001b[0m \u001b[0mmodel\u001b[0m\u001b[0;34m.\u001b[0m\u001b[0m_network_nodes\u001b[0m\u001b[0;34m:\u001b[0m\u001b[0;34m\u001b[0m\u001b[0;34m\u001b[0m\u001b[0m\n\u001b[0;32m--> 169\u001b[0;31m                 \u001b[0;32mfor\u001b[0m \u001b[0minbound_layer\u001b[0m \u001b[0;32min\u001b[0m \u001b[0mnode\u001b[0m\u001b[0;34m.\u001b[0m\u001b[0minbound_layers\u001b[0m\u001b[0;34m:\u001b[0m\u001b[0;34m\u001b[0m\u001b[0;34m\u001b[0m\u001b[0m\n\u001b[0m\u001b[1;32m    170\u001b[0m                     \u001b[0minbound_layer_id\u001b[0m \u001b[0;34m=\u001b[0m \u001b[0mstr\u001b[0m\u001b[0;34m(\u001b[0m\u001b[0mid\u001b[0m\u001b[0;34m(\u001b[0m\u001b[0minbound_layer\u001b[0m\u001b[0;34m)\u001b[0m\u001b[0;34m)\u001b[0m\u001b[0;34m\u001b[0m\u001b[0;34m\u001b[0m\u001b[0m\n\u001b[1;32m    171\u001b[0m                     \u001b[0;32mif\u001b[0m \u001b[0;32mnot\u001b[0m \u001b[0mexpand_nested\u001b[0m\u001b[0;34m:\u001b[0m\u001b[0;34m\u001b[0m\u001b[0;34m\u001b[0m\u001b[0m\n",
      "\u001b[0;31mTypeError\u001b[0m: 'BertLayer' object is not iterable"
     ]
    }
   ],
   "source": [
    "from keras.utils import plot_model\n",
    "plot_model(model, to_file='BERT_model.png')"
   ]
  },
  {
   "cell_type": "code",
   "execution_count": 29,
   "metadata": {},
   "outputs": [
    {
     "name": "stdout",
     "output_type": "stream",
     "text": [
      "Train on 282710 samples, validate on 70524 samples\n",
      "Epoch 1/20\n",
      "282710/282710 [==============================] - 3444s 12ms/sample - loss: 0.0319 - f1: 0.2218 - precision: 0.0386 - precision_1: 0.3769 - recall: 0.1515 - recall_5: 0.4944 - val_loss: 0.0082 - val_f1: 0.3688 - val_precision: 0.7140 - val_precision_1: 0.5387 - val_recall: 0.2486 - val_recall_5: 0.6603\n",
      "Epoch 2/20\n",
      "282710/282710 [==============================] - 3440s 12ms/sample - loss: 0.0082 - f1: 0.3821 - precision: 0.6753 - precision_1: 0.5580 - recall: 0.2667 - recall_5: 0.6732 - val_loss: 0.0073 - val_f1: 0.4261 - val_precision: 0.7412 - val_precision_1: 0.6070 - val_recall: 0.2989 - val_recall_5: 0.7172\n",
      "Epoch 3/20\n",
      "282710/282710 [==============================] - 3440s 12ms/sample - loss: 0.0076 - f1: 0.4276 - precision: 0.6922 - precision_1: 0.6023 - recall: 0.3094 - recall_5: 0.7079 - val_loss: 0.0069 - val_f1: 0.4567 - val_precision: 0.7531 - val_precision_1: 0.6323 - val_recall: 0.3276 - val_recall_5: 0.7375\n",
      "Epoch 4/20\n",
      "282710/282710 [==============================] - 3440s 12ms/sample - loss: 0.0072 - f1: 0.4552 - precision: 0.7082 - precision_1: 0.6274 - recall: 0.3354 - recall_5: 0.7276 - val_loss: 0.0067 - val_f1: 0.4754 - val_precision: 0.7486 - val_precision_1: 0.6470 - val_recall: 0.3483 - val_recall_5: 0.7495\n",
      "Epoch 5/20\n",
      "282710/282710 [==============================] - 3440s 12ms/sample - loss: 0.0069 - f1: 0.4764 - precision: 0.7200 - precision_1: 0.6469 - recall: 0.3560 - recall_5: 0.7426 - val_loss: 0.0065 - val_f1: 0.4988 - val_precision: 0.7441 - val_precision_1: 0.6617 - val_recall: 0.3750 - val_recall_5: 0.7590\n",
      "Epoch 6/20\n",
      "282710/282710 [==============================] - 3440s 12ms/sample - loss: 0.0067 - f1: 0.4921 - precision: 0.7271 - precision_1: 0.6611 - recall: 0.3720 - recall_5: 0.7561 - val_loss: 0.0065 - val_f1: 0.5031 - val_precision: 0.7442 - val_precision_1: 0.6664 - val_recall: 0.3799 - val_recall_5: 0.7642\n",
      "Epoch 7/20\n",
      "282710/282710 [==============================] - 3440s 12ms/sample - loss: 0.0065 - f1: 0.5075 - precision: 0.7342 - precision_1: 0.6749 - recall: 0.3880 - recall_5: 0.7668 - val_loss: 0.0064 - val_f1: 0.5188 - val_precision: 0.7391 - val_precision_1: 0.6730 - val_recall: 0.3996 - val_recall_5: 0.7692\n",
      "Epoch 8/20\n",
      "282710/282710 [==============================] - 3440s 12ms/sample - loss: 0.0063 - f1: 0.5197 - precision: 0.7390 - precision_1: 0.6844 - recall: 0.4009 - recall_5: 0.7772 - val_loss: 0.0064 - val_f1: 0.5180 - val_precision: 0.7484 - val_precision_1: 0.6770 - val_recall: 0.3958 - val_recall_5: 0.7705\n",
      "Epoch 9/20\n",
      "282710/282710 [==============================] - 3440s 12ms/sample - loss: 0.0061 - f1: 0.5328 - precision: 0.7444 - precision_1: 0.6978 - recall: 0.4150 - recall_5: 0.7872 - val_loss: 0.0063 - val_f1: 0.5257 - val_precision: 0.7416 - val_precision_1: 0.6807 - val_recall: 0.4070 - val_recall_5: 0.7738\n",
      "Epoch 10/20\n",
      "282710/282710 [==============================] - 3441s 12ms/sample - loss: 0.0059 - f1: 0.5447 - precision: 0.7484 - precision_1: 0.7072 - recall: 0.4285 - recall_5: 0.7955 - val_loss: 0.0063 - val_f1: 0.5306 - val_precision: 0.7422 - val_precision_1: 0.6836 - val_recall: 0.4127 - val_recall_5: 0.7769\n",
      "Epoch 11/20\n",
      "282710/282710 [==============================] - 3440s 12ms/sample - loss: 0.0058 - f1: 0.5548 - precision: 0.7520 - precision_1: 0.7177 - recall: 0.4397 - recall_5: 0.8042 - val_loss: 0.0063 - val_f1: 0.5320 - val_precision: 0.7437 - val_precision_1: 0.6839 - val_recall: 0.4140 - val_recall_5: 0.7772\n",
      "Epoch 12/20\n",
      "282710/282710 [==============================] - 3440s 12ms/sample - loss: 0.0056 - f1: 0.5675 - precision: 0.7578 - precision_1: 0.7268 - recall: 0.4537 - recall_5: 0.8118 - val_loss: 0.0063 - val_f1: 0.5404 - val_precision: 0.7279 - val_precision_1: 0.6839 - val_recall: 0.4297 - val_recall_5: 0.7763\n",
      "Epoch 13/20\n",
      "282710/282710 [==============================] - 3440s 12ms/sample - loss: 0.0055 - f1: 0.5763 - precision: 0.7610 - precision_1: 0.7355 - recall: 0.4639 - recall_5: 0.8189 - val_loss: 0.0063 - val_f1: 0.5417 - val_precision: 0.7280 - val_precision_1: 0.6860 - val_recall: 0.4312 - val_recall_5: 0.7766\n",
      "Epoch 14/20\n",
      "282710/282710 [==============================] - 3440s 12ms/sample - loss: 0.0054 - f1: 0.5869 - precision: 0.7656 - precision_1: 0.7453 - recall: 0.4761 - recall_5: 0.8266 - val_loss: 0.0064 - val_f1: 0.5434 - val_precision: 0.7212 - val_precision_1: 0.6852 - val_recall: 0.4357 - val_recall_5: 0.7760\n",
      "Epoch 15/20\n",
      "282710/282710 [==============================] - 3440s 12ms/sample - loss: 0.0052 - f1: 0.5963 - precision: 0.7680 - precision_1: 0.7532 - recall: 0.4876 - recall_5: 0.8337 - val_loss: 0.0064 - val_f1: 0.5423 - val_precision: 0.7261 - val_precision_1: 0.6844 - val_recall: 0.4327 - val_recall_5: 0.7765\n",
      "Epoch 16/20\n",
      "282710/282710 [==============================] - 3440s 12ms/sample - loss: 0.0051 - f1: 0.6064 - precision: 0.7725 - precision_1: 0.7609 - recall: 0.4994 - recall_5: 0.8405 - val_loss: 0.0064 - val_f1: 0.5492 - val_precision: 0.7155 - val_precision_1: 0.6864 - val_recall: 0.4454 - val_recall_5: 0.7763\n",
      "Epoch 17/20\n",
      "282710/282710 [==============================] - 3440s 12ms/sample - loss: 0.0050 - f1: 0.6157 - precision: 0.7764 - precision_1: 0.7683 - recall: 0.5103 - recall_5: 0.8455 - val_loss: 0.0065 - val_f1: 0.5438 - val_precision: 0.7226 - val_precision_1: 0.6852 - val_recall: 0.4358 - val_recall_5: 0.7762\n",
      "Epoch 18/20\n",
      "  9344/282710 [..............................] - ETA: 44:52 - loss: 0.0047 - f1: 0.6300 - precision: 0.7864 - precision_1: 0.7892 - recall: 0.5262 - recall_5: 0.8590"
     ]
    },
    {
     "ename": "KeyboardInterrupt",
     "evalue": "",
     "output_type": "error",
     "traceback": [
      "\u001b[0;31m---------------------------------------------------------------------------\u001b[0m",
      "\u001b[0;31mKeyboardInterrupt\u001b[0m                         Traceback (most recent call last)",
      "\u001b[0;32m<ipython-input-29-e5b2090f4d1b>\u001b[0m in \u001b[0;36m<module>\u001b[0;34m()\u001b[0m\n\u001b[1;32m      4\u001b[0m     \u001b[0mvalidation_data\u001b[0m\u001b[0;34m=\u001b[0m\u001b[0;34m(\u001b[0m\u001b[0mX_test_k\u001b[0m\u001b[0;34m,\u001b[0m \u001b[0my_test_k\u001b[0m\u001b[0;34m)\u001b[0m\u001b[0;34m,\u001b[0m\u001b[0;34m\u001b[0m\u001b[0;34m\u001b[0m\u001b[0m\n\u001b[1;32m      5\u001b[0m     \u001b[0mepochs\u001b[0m\u001b[0;34m=\u001b[0m\u001b[0;36m20\u001b[0m\u001b[0;34m,\u001b[0m\u001b[0;34m\u001b[0m\u001b[0;34m\u001b[0m\u001b[0m\n\u001b[0;32m----> 6\u001b[0;31m     \u001b[0mbatch_size\u001b[0m\u001b[0;34m=\u001b[0m\u001b[0;36m128\u001b[0m\u001b[0;31m#,\u001b[0m\u001b[0;34m\u001b[0m\u001b[0;34m\u001b[0m\u001b[0m\n\u001b[0m\u001b[1;32m      7\u001b[0m     \u001b[0;31m#callbacks=[tensorboard]\u001b[0m\u001b[0;34m\u001b[0m\u001b[0;34m\u001b[0m\u001b[0;34m\u001b[0m\u001b[0m\n\u001b[1;32m      8\u001b[0m )\n",
      "\u001b[0;32m~/anaconda3/lib/python3.7/site-packages/tensorflow_core/python/keras/engine/training.py\u001b[0m in \u001b[0;36mfit\u001b[0;34m(self, x, y, batch_size, epochs, verbose, callbacks, validation_split, validation_data, shuffle, class_weight, sample_weight, initial_epoch, steps_per_epoch, validation_steps, validation_freq, max_queue_size, workers, use_multiprocessing, **kwargs)\u001b[0m\n\u001b[1;32m    725\u001b[0m         \u001b[0mmax_queue_size\u001b[0m\u001b[0;34m=\u001b[0m\u001b[0mmax_queue_size\u001b[0m\u001b[0;34m,\u001b[0m\u001b[0;34m\u001b[0m\u001b[0;34m\u001b[0m\u001b[0m\n\u001b[1;32m    726\u001b[0m         \u001b[0mworkers\u001b[0m\u001b[0;34m=\u001b[0m\u001b[0mworkers\u001b[0m\u001b[0;34m,\u001b[0m\u001b[0;34m\u001b[0m\u001b[0;34m\u001b[0m\u001b[0m\n\u001b[0;32m--> 727\u001b[0;31m         use_multiprocessing=use_multiprocessing)\n\u001b[0m\u001b[1;32m    728\u001b[0m \u001b[0;34m\u001b[0m\u001b[0m\n\u001b[1;32m    729\u001b[0m   def evaluate(self,\n",
      "\u001b[0;32m~/anaconda3/lib/python3.7/site-packages/tensorflow_core/python/keras/engine/training_arrays.py\u001b[0m in \u001b[0;36mfit\u001b[0;34m(self, model, x, y, batch_size, epochs, verbose, callbacks, validation_split, validation_data, shuffle, class_weight, sample_weight, initial_epoch, steps_per_epoch, validation_steps, validation_freq, **kwargs)\u001b[0m\n\u001b[1;32m    673\u001b[0m         \u001b[0mvalidation_steps\u001b[0m\u001b[0;34m=\u001b[0m\u001b[0mvalidation_steps\u001b[0m\u001b[0;34m,\u001b[0m\u001b[0;34m\u001b[0m\u001b[0;34m\u001b[0m\u001b[0m\n\u001b[1;32m    674\u001b[0m         \u001b[0mvalidation_freq\u001b[0m\u001b[0;34m=\u001b[0m\u001b[0mvalidation_freq\u001b[0m\u001b[0;34m,\u001b[0m\u001b[0;34m\u001b[0m\u001b[0;34m\u001b[0m\u001b[0m\n\u001b[0;32m--> 675\u001b[0;31m         steps_name='steps_per_epoch')\n\u001b[0m\u001b[1;32m    676\u001b[0m \u001b[0;34m\u001b[0m\u001b[0m\n\u001b[1;32m    677\u001b[0m   def evaluate(self,\n",
      "\u001b[0;32m~/anaconda3/lib/python3.7/site-packages/tensorflow_core/python/keras/engine/training_arrays.py\u001b[0m in \u001b[0;36mmodel_iteration\u001b[0;34m(model, inputs, targets, sample_weights, batch_size, epochs, verbose, callbacks, val_inputs, val_targets, val_sample_weights, shuffle, initial_epoch, steps_per_epoch, validation_steps, validation_freq, mode, validation_in_fit, prepared_feed_values_from_dataset, steps_name, **kwargs)\u001b[0m\n\u001b[1;32m    392\u001b[0m \u001b[0;34m\u001b[0m\u001b[0m\n\u001b[1;32m    393\u001b[0m         \u001b[0;31m# Get outputs.\u001b[0m\u001b[0;34m\u001b[0m\u001b[0;34m\u001b[0m\u001b[0;34m\u001b[0m\u001b[0m\n\u001b[0;32m--> 394\u001b[0;31m         \u001b[0mbatch_outs\u001b[0m \u001b[0;34m=\u001b[0m \u001b[0mf\u001b[0m\u001b[0;34m(\u001b[0m\u001b[0mins_batch\u001b[0m\u001b[0;34m)\u001b[0m\u001b[0;34m\u001b[0m\u001b[0;34m\u001b[0m\u001b[0m\n\u001b[0m\u001b[1;32m    395\u001b[0m         \u001b[0;32mif\u001b[0m \u001b[0;32mnot\u001b[0m \u001b[0misinstance\u001b[0m\u001b[0;34m(\u001b[0m\u001b[0mbatch_outs\u001b[0m\u001b[0;34m,\u001b[0m \u001b[0mlist\u001b[0m\u001b[0;34m)\u001b[0m\u001b[0;34m:\u001b[0m\u001b[0;34m\u001b[0m\u001b[0;34m\u001b[0m\u001b[0m\n\u001b[1;32m    396\u001b[0m           \u001b[0mbatch_outs\u001b[0m \u001b[0;34m=\u001b[0m \u001b[0;34m[\u001b[0m\u001b[0mbatch_outs\u001b[0m\u001b[0;34m]\u001b[0m\u001b[0;34m\u001b[0m\u001b[0;34m\u001b[0m\u001b[0m\n",
      "\u001b[0;32m~/anaconda3/lib/python3.7/site-packages/tensorflow_core/python/keras/backend.py\u001b[0m in \u001b[0;36m__call__\u001b[0;34m(self, inputs)\u001b[0m\n\u001b[1;32m   3474\u001b[0m \u001b[0;34m\u001b[0m\u001b[0m\n\u001b[1;32m   3475\u001b[0m     fetched = self._callable_fn(*array_vals,\n\u001b[0;32m-> 3476\u001b[0;31m                                 run_metadata=self.run_metadata)\n\u001b[0m\u001b[1;32m   3477\u001b[0m     \u001b[0mself\u001b[0m\u001b[0;34m.\u001b[0m\u001b[0m_call_fetch_callbacks\u001b[0m\u001b[0;34m(\u001b[0m\u001b[0mfetched\u001b[0m\u001b[0;34m[\u001b[0m\u001b[0;34m-\u001b[0m\u001b[0mlen\u001b[0m\u001b[0;34m(\u001b[0m\u001b[0mself\u001b[0m\u001b[0;34m.\u001b[0m\u001b[0m_fetches\u001b[0m\u001b[0;34m)\u001b[0m\u001b[0;34m:\u001b[0m\u001b[0;34m]\u001b[0m\u001b[0;34m)\u001b[0m\u001b[0;34m\u001b[0m\u001b[0;34m\u001b[0m\u001b[0m\n\u001b[1;32m   3478\u001b[0m     output_structure = nest.pack_sequence_as(\n",
      "\u001b[0;32m~/anaconda3/lib/python3.7/site-packages/tensorflow_core/python/client/session.py\u001b[0m in \u001b[0;36m__call__\u001b[0;34m(self, *args, **kwargs)\u001b[0m\n\u001b[1;32m   1470\u001b[0m         ret = tf_session.TF_SessionRunCallable(self._session._session,\n\u001b[1;32m   1471\u001b[0m                                                \u001b[0mself\u001b[0m\u001b[0;34m.\u001b[0m\u001b[0m_handle\u001b[0m\u001b[0;34m,\u001b[0m \u001b[0margs\u001b[0m\u001b[0;34m,\u001b[0m\u001b[0;34m\u001b[0m\u001b[0;34m\u001b[0m\u001b[0m\n\u001b[0;32m-> 1472\u001b[0;31m                                                run_metadata_ptr)\n\u001b[0m\u001b[1;32m   1473\u001b[0m         \u001b[0;32mif\u001b[0m \u001b[0mrun_metadata\u001b[0m\u001b[0;34m:\u001b[0m\u001b[0;34m\u001b[0m\u001b[0;34m\u001b[0m\u001b[0m\n\u001b[1;32m   1474\u001b[0m           \u001b[0mproto_data\u001b[0m \u001b[0;34m=\u001b[0m \u001b[0mtf_session\u001b[0m\u001b[0;34m.\u001b[0m\u001b[0mTF_GetBuffer\u001b[0m\u001b[0;34m(\u001b[0m\u001b[0mrun_metadata_ptr\u001b[0m\u001b[0;34m)\u001b[0m\u001b[0;34m\u001b[0m\u001b[0;34m\u001b[0m\u001b[0m\n",
      "\u001b[0;31mKeyboardInterrupt\u001b[0m: "
     ]
    }
   ],
   "source": [
    "# with binary cross_entropy, dropout 0.5 in the final layer and max sentence length 250\n",
    "history = model.fit(\n",
    "    X_train_k, y_train_k,\n",
    "    validation_data=(X_test_k, y_test_k),\n",
    "    epochs=20,\n",
    "    batch_size=128#,\n",
    "    #callbacks=[tensorboard]\n",
    ")"
   ]
  },
  {
   "cell_type": "code",
   "execution_count": 25,
   "metadata": {},
   "outputs": [
    {
     "name": "stdout",
     "output_type": "stream",
     "text": [
      "Train on 282710 samples, validate on 70524 samples\n",
      "Epoch 1/20\n",
      "282710/282710 [==============================] - 3448s 12ms/sample - loss: 0.0332 - f1: 0.3722 - precision: 0.0908 - precision_1: 0.4768 - recall: 0.3038 - recall_5: 0.5952 - val_loss: 0.0124 - val_f1: 0.4945 - val_precision: 0.5360 - val_precision_1: 0.6003 - val_recall: 0.4588 - val_recall_5: 0.7093\n",
      "Epoch 2/20\n",
      "282710/282710 [==============================] - 3441s 12ms/sample - loss: 0.0120 - f1: 0.4932 - precision: 0.5848 - precision_1: 0.6111 - recall: 0.4267 - recall_5: 0.7220 - val_loss: 0.0113 - val_f1: 0.5172 - val_precision: 0.6284 - val_precision_1: 0.6349 - val_recall: 0.4394 - val_recall_5: 0.7377\n",
      "Epoch 3/20\n",
      "282710/282710 [==============================] - 3438s 12ms/sample - loss: 0.0111 - f1: 0.5243 - precision: 0.5989 - precision_1: 0.6440 - recall: 0.4661 - recall_5: 0.7497 - val_loss: 0.0108 - val_f1: 0.5398 - val_precision: 0.6141 - val_precision_1: 0.6539 - val_recall: 0.4815 - val_recall_5: 0.7534\n",
      "Epoch 4/20\n",
      "282710/282710 [==============================] - 3439s 12ms/sample - loss: 0.0105 - f1: 0.5455 - precision: 0.6115 - precision_1: 0.6643 - recall: 0.4923 - recall_5: 0.7681 - val_loss: 0.0106 - val_f1: 0.5477 - val_precision: 0.6231 - val_precision_1: 0.6622 - val_recall: 0.4883 - val_recall_5: 0.7607\n",
      "Epoch 5/20\n",
      "282710/282710 [==============================] - 3440s 12ms/sample - loss: 0.0099 - f1: 0.5625 - precision: 0.6200 - precision_1: 0.6826 - recall: 0.5148 - recall_5: 0.7850 - val_loss: 0.0104 - val_f1: 0.5590 - val_precision: 0.6068 - val_precision_1: 0.6717 - val_recall: 0.5180 - val_recall_5: 0.7714\n",
      "Epoch 6/20\n",
      "282710/282710 [==============================] - 3439s 12ms/sample - loss: 0.0094 - f1: 0.5790 - precision: 0.6281 - precision_1: 0.6981 - recall: 0.5369 - recall_5: 0.8011 - val_loss: 0.0103 - val_f1: 0.5636 - val_precision: 0.6144 - val_precision_1: 0.6792 - val_recall: 0.5203 - val_recall_5: 0.7726\n",
      "Epoch 7/20\n",
      "282710/282710 [==============================] - 3439s 12ms/sample - loss: 0.0090 - f1: 0.5939 - precision: 0.6358 - precision_1: 0.7133 - recall: 0.5572 - recall_5: 0.8151 - val_loss: 0.0104 - val_f1: 0.5609 - val_precision: 0.6255 - val_precision_1: 0.6763 - val_recall: 0.5082 - val_recall_5: 0.7724\n",
      "Epoch 8/20\n",
      "282710/282710 [==============================] - 3439s 12ms/sample - loss: 0.0086 - f1: 0.6084 - precision: 0.6440 - precision_1: 0.7271 - recall: 0.5765 - recall_5: 0.8290 - val_loss: 0.0104 - val_f1: 0.5644 - val_precision: 0.6021 - val_precision_1: 0.6790 - val_recall: 0.5309 - val_recall_5: 0.7738\n",
      "Epoch 9/20\n",
      "282710/282710 [==============================] - 3439s 12ms/sample - loss: 0.0082 - f1: 0.6224 - precision: 0.6513 - precision_1: 0.7402 - recall: 0.5960 - recall_5: 0.8421 - val_loss: 0.0105 - val_f1: 0.5681 - val_precision: 0.5894 - val_precision_1: 0.6801 - val_recall: 0.5479 - val_recall_5: 0.7735\n",
      "Epoch 10/20\n",
      "282710/282710 [==============================] - 3439s 12ms/sample - loss: 0.0078 - f1: 0.6360 - precision: 0.6582 - precision_1: 0.7524 - recall: 0.6152 - recall_5: 0.8543 - val_loss: 0.0106 - val_f1: 0.5661 - val_precision: 0.5753 - val_precision_1: 0.6789 - val_recall: 0.5569 - val_recall_5: 0.7725\n",
      "Epoch 11/20\n",
      "282710/282710 [==============================] - 3439s 12ms/sample - loss: 0.0074 - f1: 0.6483 - precision: 0.6652 - precision_1: 0.7640 - recall: 0.6325 - recall_5: 0.8657 - val_loss: 0.0109 - val_f1: 0.5664 - val_precision: 0.5847 - val_precision_1: 0.6795 - val_recall: 0.5488 - val_recall_5: 0.7715\n",
      "Epoch 12/20\n",
      "282710/282710 [==============================] - 3440s 12ms/sample - loss: 0.0071 - f1: 0.6612 - precision: 0.6732 - precision_1: 0.7760 - recall: 0.6497 - recall_5: 0.8754 - val_loss: 0.0110 - val_f1: 0.5652 - val_precision: 0.5830 - val_precision_1: 0.6760 - val_recall: 0.5481 - val_recall_5: 0.7696\n",
      "Epoch 13/20\n",
      "282710/282710 [==============================] - 3440s 12ms/sample - loss: 0.0068 - f1: 0.6727 - precision: 0.6799 - precision_1: 0.7860 - recall: 0.6659 - recall_5: 0.8857 - val_loss: 0.0111 - val_f1: 0.5659 - val_precision: 0.5863 - val_precision_1: 0.6790 - val_recall: 0.5468 - val_recall_5: 0.7693\n",
      "Epoch 14/20\n",
      "282710/282710 [==============================] - 3440s 12ms/sample - loss: 0.0065 - f1: 0.6836 - precision: 0.6867 - precision_1: 0.7967 - recall: 0.6807 - recall_5: 0.8940 - val_loss: 0.0113 - val_f1: 0.5643 - val_precision: 0.5671 - val_precision_1: 0.6757 - val_recall: 0.5613 - val_recall_5: 0.7663\n",
      "Epoch 15/20\n",
      " 17152/282710 [>.............................] - ETA: 43:34 - loss: 0.0057 - f1: 0.7167 - precision: 0.7216 - precision_1: 0.8320 - recall: 0.7123 - recall_5: 0.9147"
     ]
    },
    {
     "ename": "KeyboardInterrupt",
     "evalue": "",
     "output_type": "error",
     "traceback": [
      "\u001b[0;31m---------------------------------------------------------------------------\u001b[0m",
      "\u001b[0;31mKeyboardInterrupt\u001b[0m                         Traceback (most recent call last)",
      "\u001b[0;32m<ipython-input-25-5f57fd76ae80>\u001b[0m in \u001b[0;36m<module>\u001b[0;34m()\u001b[0m\n\u001b[1;32m      3\u001b[0m     \u001b[0mvalidation_data\u001b[0m\u001b[0;34m=\u001b[0m\u001b[0;34m(\u001b[0m\u001b[0mX_test_k\u001b[0m\u001b[0;34m,\u001b[0m \u001b[0my_test_k\u001b[0m\u001b[0;34m)\u001b[0m\u001b[0;34m,\u001b[0m\u001b[0;34m\u001b[0m\u001b[0;34m\u001b[0m\u001b[0m\n\u001b[1;32m      4\u001b[0m     \u001b[0mepochs\u001b[0m\u001b[0;34m=\u001b[0m\u001b[0;36m20\u001b[0m\u001b[0;34m,\u001b[0m\u001b[0;34m\u001b[0m\u001b[0;34m\u001b[0m\u001b[0m\n\u001b[0;32m----> 5\u001b[0;31m     \u001b[0mbatch_size\u001b[0m\u001b[0;34m=\u001b[0m\u001b[0;36m128\u001b[0m\u001b[0;31m#,\u001b[0m\u001b[0;34m\u001b[0m\u001b[0;34m\u001b[0m\u001b[0m\n\u001b[0m\u001b[1;32m      6\u001b[0m     \u001b[0;31m#callbacks=[tensorboard]\u001b[0m\u001b[0;34m\u001b[0m\u001b[0;34m\u001b[0m\u001b[0;34m\u001b[0m\u001b[0m\n\u001b[1;32m      7\u001b[0m )\n",
      "\u001b[0;32m~/anaconda3/lib/python3.7/site-packages/tensorflow_core/python/keras/engine/training.py\u001b[0m in \u001b[0;36mfit\u001b[0;34m(self, x, y, batch_size, epochs, verbose, callbacks, validation_split, validation_data, shuffle, class_weight, sample_weight, initial_epoch, steps_per_epoch, validation_steps, validation_freq, max_queue_size, workers, use_multiprocessing, **kwargs)\u001b[0m\n\u001b[1;32m    725\u001b[0m         \u001b[0mmax_queue_size\u001b[0m\u001b[0;34m=\u001b[0m\u001b[0mmax_queue_size\u001b[0m\u001b[0;34m,\u001b[0m\u001b[0;34m\u001b[0m\u001b[0;34m\u001b[0m\u001b[0m\n\u001b[1;32m    726\u001b[0m         \u001b[0mworkers\u001b[0m\u001b[0;34m=\u001b[0m\u001b[0mworkers\u001b[0m\u001b[0;34m,\u001b[0m\u001b[0;34m\u001b[0m\u001b[0;34m\u001b[0m\u001b[0m\n\u001b[0;32m--> 727\u001b[0;31m         use_multiprocessing=use_multiprocessing)\n\u001b[0m\u001b[1;32m    728\u001b[0m \u001b[0;34m\u001b[0m\u001b[0m\n\u001b[1;32m    729\u001b[0m   def evaluate(self,\n",
      "\u001b[0;32m~/anaconda3/lib/python3.7/site-packages/tensorflow_core/python/keras/engine/training_arrays.py\u001b[0m in \u001b[0;36mfit\u001b[0;34m(self, model, x, y, batch_size, epochs, verbose, callbacks, validation_split, validation_data, shuffle, class_weight, sample_weight, initial_epoch, steps_per_epoch, validation_steps, validation_freq, **kwargs)\u001b[0m\n\u001b[1;32m    673\u001b[0m         \u001b[0mvalidation_steps\u001b[0m\u001b[0;34m=\u001b[0m\u001b[0mvalidation_steps\u001b[0m\u001b[0;34m,\u001b[0m\u001b[0;34m\u001b[0m\u001b[0;34m\u001b[0m\u001b[0m\n\u001b[1;32m    674\u001b[0m         \u001b[0mvalidation_freq\u001b[0m\u001b[0;34m=\u001b[0m\u001b[0mvalidation_freq\u001b[0m\u001b[0;34m,\u001b[0m\u001b[0;34m\u001b[0m\u001b[0;34m\u001b[0m\u001b[0m\n\u001b[0;32m--> 675\u001b[0;31m         steps_name='steps_per_epoch')\n\u001b[0m\u001b[1;32m    676\u001b[0m \u001b[0;34m\u001b[0m\u001b[0m\n\u001b[1;32m    677\u001b[0m   def evaluate(self,\n",
      "\u001b[0;32m~/anaconda3/lib/python3.7/site-packages/tensorflow_core/python/keras/engine/training_arrays.py\u001b[0m in \u001b[0;36mmodel_iteration\u001b[0;34m(model, inputs, targets, sample_weights, batch_size, epochs, verbose, callbacks, val_inputs, val_targets, val_sample_weights, shuffle, initial_epoch, steps_per_epoch, validation_steps, validation_freq, mode, validation_in_fit, prepared_feed_values_from_dataset, steps_name, **kwargs)\u001b[0m\n\u001b[1;32m    392\u001b[0m \u001b[0;34m\u001b[0m\u001b[0m\n\u001b[1;32m    393\u001b[0m         \u001b[0;31m# Get outputs.\u001b[0m\u001b[0;34m\u001b[0m\u001b[0;34m\u001b[0m\u001b[0;34m\u001b[0m\u001b[0m\n\u001b[0;32m--> 394\u001b[0;31m         \u001b[0mbatch_outs\u001b[0m \u001b[0;34m=\u001b[0m \u001b[0mf\u001b[0m\u001b[0;34m(\u001b[0m\u001b[0mins_batch\u001b[0m\u001b[0;34m)\u001b[0m\u001b[0;34m\u001b[0m\u001b[0;34m\u001b[0m\u001b[0m\n\u001b[0m\u001b[1;32m    395\u001b[0m         \u001b[0;32mif\u001b[0m \u001b[0;32mnot\u001b[0m \u001b[0misinstance\u001b[0m\u001b[0;34m(\u001b[0m\u001b[0mbatch_outs\u001b[0m\u001b[0;34m,\u001b[0m \u001b[0mlist\u001b[0m\u001b[0;34m)\u001b[0m\u001b[0;34m:\u001b[0m\u001b[0;34m\u001b[0m\u001b[0;34m\u001b[0m\u001b[0m\n\u001b[1;32m    396\u001b[0m           \u001b[0mbatch_outs\u001b[0m \u001b[0;34m=\u001b[0m \u001b[0;34m[\u001b[0m\u001b[0mbatch_outs\u001b[0m\u001b[0;34m]\u001b[0m\u001b[0;34m\u001b[0m\u001b[0;34m\u001b[0m\u001b[0m\n",
      "\u001b[0;32m~/anaconda3/lib/python3.7/site-packages/tensorflow_core/python/keras/backend.py\u001b[0m in \u001b[0;36m__call__\u001b[0;34m(self, inputs)\u001b[0m\n\u001b[1;32m   3474\u001b[0m \u001b[0;34m\u001b[0m\u001b[0m\n\u001b[1;32m   3475\u001b[0m     fetched = self._callable_fn(*array_vals,\n\u001b[0;32m-> 3476\u001b[0;31m                                 run_metadata=self.run_metadata)\n\u001b[0m\u001b[1;32m   3477\u001b[0m     \u001b[0mself\u001b[0m\u001b[0;34m.\u001b[0m\u001b[0m_call_fetch_callbacks\u001b[0m\u001b[0;34m(\u001b[0m\u001b[0mfetched\u001b[0m\u001b[0;34m[\u001b[0m\u001b[0;34m-\u001b[0m\u001b[0mlen\u001b[0m\u001b[0;34m(\u001b[0m\u001b[0mself\u001b[0m\u001b[0;34m.\u001b[0m\u001b[0m_fetches\u001b[0m\u001b[0;34m)\u001b[0m\u001b[0;34m:\u001b[0m\u001b[0;34m]\u001b[0m\u001b[0;34m)\u001b[0m\u001b[0;34m\u001b[0m\u001b[0;34m\u001b[0m\u001b[0m\n\u001b[1;32m   3478\u001b[0m     output_structure = nest.pack_sequence_as(\n",
      "\u001b[0;32m~/anaconda3/lib/python3.7/site-packages/tensorflow_core/python/client/session.py\u001b[0m in \u001b[0;36m__call__\u001b[0;34m(self, *args, **kwargs)\u001b[0m\n\u001b[1;32m   1470\u001b[0m         ret = tf_session.TF_SessionRunCallable(self._session._session,\n\u001b[1;32m   1471\u001b[0m                                                \u001b[0mself\u001b[0m\u001b[0;34m.\u001b[0m\u001b[0m_handle\u001b[0m\u001b[0;34m,\u001b[0m \u001b[0margs\u001b[0m\u001b[0;34m,\u001b[0m\u001b[0;34m\u001b[0m\u001b[0;34m\u001b[0m\u001b[0m\n\u001b[0;32m-> 1472\u001b[0;31m                                                run_metadata_ptr)\n\u001b[0m\u001b[1;32m   1473\u001b[0m         \u001b[0;32mif\u001b[0m \u001b[0mrun_metadata\u001b[0m\u001b[0;34m:\u001b[0m\u001b[0;34m\u001b[0m\u001b[0;34m\u001b[0m\u001b[0m\n\u001b[1;32m   1474\u001b[0m           \u001b[0mproto_data\u001b[0m \u001b[0;34m=\u001b[0m \u001b[0mtf_session\u001b[0m\u001b[0;34m.\u001b[0m\u001b[0mTF_GetBuffer\u001b[0m\u001b[0;34m(\u001b[0m\u001b[0mrun_metadata_ptr\u001b[0m\u001b[0;34m)\u001b[0m\u001b[0;34m\u001b[0m\u001b[0;34m\u001b[0m\u001b[0m\n",
      "\u001b[0;31mKeyboardInterrupt\u001b[0m: "
     ]
    }
   ],
   "source": [
    "# with weighted binary cross_entropy, dropout 0.2 in the final layer and max sentence length 250\n",
    "history = model.fit(\n",
    "    X_train_k, y_train_k,\n",
    "    validation_data=(X_test_k, y_test_k),\n",
    "    epochs=20,\n",
    "    batch_size=128#,\n",
    "    #callbacks=[tensorboard]\n",
    ")"
   ]
  },
  {
   "cell_type": "code",
   "execution_count": 23,
   "metadata": {},
   "outputs": [
    {
     "name": "stdout",
     "output_type": "stream",
     "text": [
      "Train on 282710 samples, validate on 70524 samples\n",
      "Epoch 1/10\n",
      "282710/282710 [==============================] - 4228s 15ms/sample - loss: 0.0280 - f1: 0.2808 - precision: 0.0601 - precision_1: 0.4434 - recall: 0.1947 - recall_5: 0.5577 - val_loss: 0.0076 - val_f1: 0.4382 - val_precision: 0.6940 - val_precision_1: 0.5935 - val_recall: 0.3202 - val_recall_5: 0.6970\n",
      "Epoch 2/10\n",
      "282710/282710 [==============================] - 4224s 15ms/sample - loss: 0.0074 - f1: 0.4335 - precision: 0.7050 - precision_1: 0.6044 - recall: 0.3132 - recall_5: 0.7135 - val_loss: 0.0070 - val_f1: 0.4604 - val_precision: 0.7365 - val_precision_1: 0.6331 - val_recall: 0.3348 - val_recall_5: 0.7359\n",
      "Epoch 3/10\n",
      "282710/282710 [==============================] - 4224s 15ms/sample - loss: 0.0069 - f1: 0.4740 - precision: 0.7183 - precision_1: 0.6407 - recall: 0.3537 - recall_5: 0.7429 - val_loss: 0.0067 - val_f1: 0.4959 - val_precision: 0.7306 - val_precision_1: 0.6543 - val_recall: 0.3752 - val_recall_5: 0.7518\n",
      "Epoch 4/10\n",
      "282710/282710 [==============================] - 4223s 15ms/sample - loss: 0.0065 - f1: 0.4988 - precision: 0.7284 - precision_1: 0.6632 - recall: 0.3792 - recall_5: 0.7616 - val_loss: 0.0065 - val_f1: 0.5011 - val_precision: 0.7443 - val_precision_1: 0.6655 - val_recall: 0.3776 - val_recall_5: 0.7605\n",
      "Epoch 5/10\n",
      "282710/282710 [==============================] - 4222s 15ms/sample - loss: 0.0062 - f1: 0.5202 - precision: 0.7382 - precision_1: 0.6829 - recall: 0.4017 - recall_5: 0.7785 - val_loss: 0.0064 - val_f1: 0.5225 - val_precision: 0.7370 - val_precision_1: 0.6747 - val_recall: 0.4046 - val_recall_5: 0.7687\n",
      "Epoch 6/10\n",
      "282710/282710 [==============================] - 4222s 15ms/sample - loss: 0.0060 - f1: 0.5388 - precision: 0.7446 - precision_1: 0.6989 - recall: 0.4223 - recall_5: 0.7928 - val_loss: 0.0063 - val_f1: 0.5340 - val_precision: 0.7203 - val_precision_1: 0.6796 - val_recall: 0.4241 - val_recall_5: 0.7724\n",
      "Epoch 7/10\n",
      "282710/282710 [==============================] - 4222s 15ms/sample - loss: 0.0057 - f1: 0.5563 - precision: 0.7514 - precision_1: 0.7146 - recall: 0.4416 - recall_5: 0.8057 - val_loss: 0.0063 - val_f1: 0.5327 - val_precision: 0.7348 - val_precision_1: 0.6842 - val_recall: 0.4176 - val_recall_5: 0.7742\n",
      "Epoch 8/10\n",
      "282710/282710 [==============================] - 4222s 15ms/sample - loss: 0.0055 - f1: 0.5726 - precision: 0.7582 - precision_1: 0.7286 - recall: 0.4602 - recall_5: 0.8184 - val_loss: 0.0063 - val_f1: 0.5407 - val_precision: 0.7164 - val_precision_1: 0.6832 - val_recall: 0.4341 - val_recall_5: 0.7748\n",
      "Epoch 9/10\n",
      "282710/282710 [==============================] - 4222s 15ms/sample - loss: 0.0053 - f1: 0.5893 - precision: 0.7650 - precision_1: 0.7434 - recall: 0.4794 - recall_5: 0.8299 - val_loss: 0.0064 - val_f1: 0.5418 - val_precision: 0.7135 - val_precision_1: 0.6837 - val_recall: 0.4358 - val_recall_5: 0.7754\n",
      "Epoch 10/10\n",
      "282710/282710 [==============================] - 4222s 15ms/sample - loss: 0.0051 - f1: 0.6047 - precision: 0.7707 - precision_1: 0.7552 - recall: 0.4976 - recall_5: 0.8404 - val_loss: 0.0064 - val_f1: 0.5516 - val_precision: 0.6992 - val_precision_1: 0.6845 - val_recall: 0.4551 - val_recall_5: 0.7754\n"
     ]
    }
   ],
   "source": [
    "# with binary cross_entropy, dropout 0.2 in the final layer and max sentence length 300\n",
    "history = model.fit(\n",
    "    X_train_k, y_train_k,\n",
    "    validation_data=(X_test_k, y_test_k),\n",
    "    epochs=10,\n",
    "    batch_size=128#,\n",
    "    #callbacks=[tensorboard]\n",
    ")"
   ]
  },
  {
   "cell_type": "markdown",
   "metadata": {},
   "source": [
    "## Model evaluation"
   ]
  },
  {
   "cell_type": "code",
   "execution_count": 28,
   "metadata": {},
   "outputs": [
    {
     "name": "stdout",
     "output_type": "stream",
     "text": [
      "70524/70524 [==============================] - 855s 12ms/sample - loss: 0.0064 - f1: 0.5527 - precision: 0.6992 - precision_1: 0.6845 - recall: 0.4551 - recall_5: 0.7754\n"
     ]
    },
    {
     "data": {
      "text/plain": [
       "[0.0063985379094089025,\n",
       " 0.5527458,\n",
       " 0.6991963,\n",
       " 0.68453294,\n",
       " 0.4551323,\n",
       " 0.77540433]"
      ]
     },
     "execution_count": 28,
     "metadata": {},
     "output_type": "execute_result"
    }
   ],
   "source": [
    "score = model.evaluate(X_test_k, y_test_k, verbose=1)\n",
    "score"
   ]
  },
  {
   "cell_type": "code",
   "execution_count": 25,
   "metadata": {},
   "outputs": [],
   "source": [
    "def plot_metric(hist, metrics, title):\n",
    "  for metric in metrics:\n",
    "    metric_to_plot = hist[metric]\n",
    "    plt.plot(metric_to_plot, label=metric)\n",
    "  plt.title(title)\n",
    "  plt.legend()\n",
    "  plt.xlabel(\"epoch\")\n",
    "  plt.ylabel(\"metric\")"
   ]
  },
  {
   "cell_type": "code",
   "execution_count": 26,
   "metadata": {},
   "outputs": [
    {
     "data": {
      "image/png": "[encoded data removed]",
      "text/plain": [
       "<Figure size 432x288 with 1 Axes>"
      ]
     },
     "metadata": {
      "needs_background": "light"
     },
     "output_type": "display_data"
    }
   ],
   "source": [
    "plot_metric(history.history, [\"f1\", \"val_f1\", \"precision\", \"val_precision\", \"precision_1\", \"val_precision\",\n",
    "                              \"recall\", \"val_recall\", \"recall_5\", \"val_recall_5\"], \"CNN - metrics by training epoch\")"
   ]
  },
  {
   "cell_type": "code",
   "execution_count": 37,
   "metadata": {},
   "outputs": [],
   "source": [
    "# tf.keras.models.save_model(model, path + \"BERT_keras_model.h5\", include_optimizer=True)"
   ]
  },
  {
   "cell_type": "code",
   "execution_count": 33,
   "metadata": {},
   "outputs": [],
   "source": [
    "y_pred = model.predict(X_train_k, batch_size=128)"
   ]
  },
  {
   "cell_type": "code",
   "execution_count": 34,
   "metadata": {},
   "outputs": [],
   "source": [
    "# saves BERT predictions as pickle\n",
    "import pickle\n",
    "with open('BERT_y_pred.pkl', 'wb') as f:\n",
    "    pickle.dump(y_pred, f)"
   ]
  },
  {
   "cell_type": "code",
   "execution_count": 35,
   "metadata": {},
   "outputs": [
    {
     "data": {
      "text/plain": [
       "array([[6.3180923e-06, 2.0861626e-07, 2.7120113e-06, ..., 1.2107790e-03,\n",
       "        1.8775463e-06, 2.4020672e-05],\n",
       "       [7.8082085e-06, 6.6965818e-05, 5.3644180e-07, ..., 1.1198401e-02,\n",
       "        2.6285648e-04, 9.7453594e-06],\n",
       "       [7.4505806e-07, 8.9406967e-08, 6.6161156e-06, ..., 2.1677613e-03,\n",
       "        7.8886807e-02, 1.6263127e-04],\n",
       "       ...,\n",
       "       [1.6897917e-05, 1.6391277e-06, 6.5565109e-07, ..., 1.1271238e-04,\n",
       "        8.5085630e-05, 6.2891841e-04],\n",
       "       [1.4901161e-07, 8.9406967e-08, 2.6822090e-07, ..., 4.3511391e-06,\n",
       "        7.8976154e-06, 2.8097630e-04],\n",
       "       [8.4395081e-02, 1.3625622e-04, 3.7759542e-05, ..., 9.2387199e-07,\n",
       "        2.3841858e-07, 1.4099479e-04]], dtype=float32)"
      ]
     },
     "execution_count": 35,
     "metadata": {},
     "output_type": "execute_result"
    }
   ],
   "source": [
    "y_pred"
   ]
  },
  {
   "cell_type": "code",
   "execution_count": null,
   "metadata": {},
   "outputs": [],
   "source": []
  }
 ],
 "metadata": {
  "kernelspec": {
   "display_name": "Python 3",
   "language": "python",
   "name": "python3"
  },
  "language_info": {
   "codemirror_mode": {
    "name": "ipython",
    "version": 3
   },
   "file_extension": ".py",
   "mimetype": "text/x-python",
   "name": "python",
   "nbconvert_exporter": "python",
   "pygments_lexer": "ipython3",
   "version": "3.7.4"
  }
 },
 "nbformat": 4,
 "nbformat_minor": 2
}
