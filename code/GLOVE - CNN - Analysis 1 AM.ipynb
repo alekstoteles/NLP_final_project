{
 "cells": [
  {
   "cell_type": "markdown",
   "metadata": {
    "colab_type": "text",
    "id": "5p4144ukYXdT"
   },
   "source": [
    "# Deep Learning Patent Classification"
   ]
  },
  {
   "cell_type": "markdown",
   "metadata": {
    "colab_type": "text",
    "id": "6d3GOnfVYfnD"
   },
   "source": [
    "## Data ingestion"
   ]
  },
  {
   "cell_type": "code",
   "execution_count": 1,
   "metadata": {
    "colab": {
     "base_uri": "https://localhost:8080/",
     "height": 85
    },
    "colab_type": "code",
    "executionInfo": {
     "elapsed": 1465,
     "status": "ok",
     "timestamp": 1575594053100,
     "user": {
      "displayName": "Kevin Stone",
      "photoUrl": "https://lh3.googleusercontent.com/a-/AAuE7mB_F1aTWES42TZp6qM-xcGSD-laeqndzdfj4AhG=s64",
      "userId": "14672561394201275022"
     },
     "user_tz": 480
    },
    "id": "RAX7T1sCcHcq",
    "outputId": "1a96103d-d235-4680-c836-1268cbee7cdf"
   },
   "outputs": [
    {
     "name": "stderr",
     "output_type": "stream",
     "text": [
      "Using TensorFlow backend.\n",
      "/home/alexmue/anaconda3/lib/python3.7/site-packages/sklearn/ensemble/weight_boosting.py:29: DeprecationWarning: numpy.core.umath_tests is an internal NumPy module and should not be imported. It will be removed in a future NumPy release.\n",
      "  from numpy.core.umath_tests import inner1d\n"
     ]
    },
    {
     "name": "stdout",
     "output_type": "stream",
     "text": [
      "[nltk_data] Downloading package punkt to /home/alexmue/nltk_data...\n",
      "[nltk_data]   Package punkt is already up-to-date!\n",
      "[nltk_data] Downloading package stopwords to\n",
      "[nltk_data]     /home/alexmue/nltk_data...\n",
      "[nltk_data]   Unzipping corpora/stopwords.zip.\n"
     ]
    }
   ],
   "source": [
    "import numpy as np\n",
    "from numpy import array\n",
    "from numpy import asarray\n",
    "from numpy import zeros\n",
    "import pandas as pd\n",
    "import tensorflow as tf\n",
    "\n",
    "from __future__ import print_function\n",
    "\n",
    "from keras import initializers\n",
    "from keras.models import Sequential\n",
    "from keras.models import Model\n",
    "from keras.layers import Flatten, LSTM\n",
    "from keras.layers import GlobalMaxPooling1D\n",
    "from keras.layers import Input, InputLayer\n",
    "from keras.layers import Embedding, Activation, Dropout, Dense, Conv1D, MaxPooling1D, GlobalMaxPooling1D, BatchNormalization\n",
    "from keras.layers.merge import Concatenate\n",
    "# from keras.layers.embeddings import Embedding\n",
    "from keras.preprocessing.text import Tokenizer\n",
    "from keras.preprocessing.text import one_hot\n",
    "from keras.preprocessing import sequence\n",
    "from keras.preprocessing.sequence import pad_sequences\n",
    "from tensorflow.keras.utils import multi_gpu_model\n",
    "\n",
    "from sklearn.model_selection import train_test_split\n",
    "from sklearn.preprocessing import MultiLabelBinarizer, binarize\n",
    "from sklearn.metrics import confusion_matrix\n",
    "from sklearn.metrics import classification_report, confusion_matrix, accuracy_score\n",
    "from sklearn.feature_extraction.text import TfidfVectorizer\n",
    "from sklearn.ensemble import RandomForestClassifier\n",
    "from collections import defaultdict\n",
    "\n",
    "import re\n",
    "import os\n",
    "from os import listdir\n",
    "import seaborn as sns\n",
    "import nltk\n",
    "nltk.download('punkt')\n",
    "nltk.download('stopwords')\n",
    "from nltk.corpus import stopwords\n",
    "\n",
    "import itertools\n",
    "import operator\n",
    "\n",
    "import matplotlib.pyplot as plt\n",
    "import matplotlib.ticker as ticker\n",
    "import matplotlib.ticker as mtick\n"
   ]
  },
  {
   "cell_type": "code",
   "execution_count": 34,
   "metadata": {
    "colab": {
     "base_uri": "https://localhost:8080/",
     "height": 34
    },
    "colab_type": "code",
    "executionInfo": {
     "elapsed": 1900,
     "status": "ok",
     "timestamp": 1575591518193,
     "user": {
      "displayName": "Kevin Stone",
      "photoUrl": "https://lh3.googleusercontent.com/a-/AAuE7mB_F1aTWES42TZp6qM-xcGSD-laeqndzdfj4AhG=s64",
      "userId": "14672561394201275022"
     },
     "user_tz": 480
    },
    "id": "xVNqcpltcaG-",
    "outputId": "dc83aa9e-6860-4b80-8f71-48275e31c4a4"
   },
   "outputs": [
    {
     "name": "stdout",
     "output_type": "stream",
     "text": [
      "Drive already mounted at /content/drive; to attempt to forcibly remount, call drive.mount(\"/content/drive\", force_remount=True).\n"
     ]
    }
   ],
   "source": [
    "from google.colab import drive\n",
    "drive.mount('/content/drive')"
   ]
  },
  {
   "cell_type": "code",
   "execution_count": 2,
   "metadata": {
    "colab": {
     "base_uri": "https://localhost:8080/",
     "height": 51
    },
    "colab_type": "code",
    "executionInfo": {
     "elapsed": 6673,
     "status": "ok",
     "timestamp": 1575591522977,
     "user": {
      "displayName": "Kevin Stone",
      "photoUrl": "https://lh3.googleusercontent.com/a-/AAuE7mB_F1aTWES42TZp6qM-xcGSD-laeqndzdfj4AhG=s64",
      "userId": "14672561394201275022"
     },
     "user_tz": 480
    },
    "id": "YyaE-TJ3canF",
    "outputId": "22a9a442-666e-48fe-a719-09d06ca0f4ee"
   },
   "outputs": [
    {
     "name": "stdout",
     "output_type": "stream",
     "text": [
      "Ingesting the following files:\n",
      " ['data/USPTO-2M/2006_USPTO.json', 'data/USPTO-2M/2007_USPTO.json', 'data/USPTO-2M/2008_USPTO.json', 'data/USPTO-2M/2009_USPTO.json', 'data/USPTO-2M/2010_USPTO.json', 'data/USPTO-2M/2011_USPTO.json', 'data/USPTO-2M/2012_USPTO.json', 'data/USPTO-2M/2013_USPTO.json', 'data/USPTO-2M/2014_USPTO.json', 'data/USPTO-2M/2015_USPTO.json']\n"
     ]
    }
   ],
   "source": [
    "project_path = ''\n",
    "#project_path = '/content/drive/My Drive/W266_Final_Project/'\n",
    "path = project_path\n",
    "\n",
    "all_files = [path + 'data/USPTO-2M/' + f for f in listdir(path + 'data/USPTO-2M') if f.endswith('.json')]\n",
    "\n",
    "num_files_to_read = \"all\" # set to \"all\" or a number such as 2\n",
    "if num_files_to_read == \"all\":\n",
    "  print('Ingesting the following files:\\n', sorted(all_files))\n",
    "  patents = pd.concat(pd.read_json(f) for f in sorted(all_files))\n",
    "else:\n",
    "  print('Ingesting the following files:\\n', sorted(all_files)[-num_files_to_read:])\n",
    "  patents = pd.concat(pd.read_json(f) for f in sorted(all_files)[-num_files_to_read:])"
   ]
  },
  {
   "cell_type": "markdown",
   "metadata": {
    "colab_type": "text",
    "id": "j85UZc6qYkIl"
   },
   "source": [
    "## Exploratory Data Analysis"
   ]
  },
  {
   "cell_type": "code",
   "execution_count": 3,
   "metadata": {
    "colab": {
     "base_uri": "https://localhost:8080/",
     "height": 34
    },
    "colab_type": "code",
    "executionInfo": {
     "elapsed": 6661,
     "status": "ok",
     "timestamp": 1575591522978,
     "user": {
      "displayName": "Kevin Stone",
      "photoUrl": "https://lh3.googleusercontent.com/a-/AAuE7mB_F1aTWES42TZp6qM-xcGSD-laeqndzdfj4AhG=s64",
      "userId": "14672561394201275022"
     },
     "user_tz": 480
    },
    "id": "bT8UpVBvu1JG",
    "outputId": "a4e50e9e-32aa-49de-8367-95c5ae44512f"
   },
   "outputs": [
    {
     "name": "stdout",
     "output_type": "stream",
     "text": [
      "Patents shape: (2000147, 4)\n"
     ]
    }
   ],
   "source": [
    "# Patents shape (all): (2000147, 4)\n",
    "\n",
    "print(f\"Patents shape: {patents.shape}\")"
   ]
  },
  {
   "cell_type": "code",
   "execution_count": 4,
   "metadata": {
    "colab": {},
    "colab_type": "code",
    "id": "kl8qEeOQdrgT"
   },
   "outputs": [],
   "source": [
    "X = list(patents[\"Abstract\"])"
   ]
  },
  {
   "cell_type": "code",
   "execution_count": 5,
   "metadata": {
    "colab": {
     "base_uri": "https://localhost:8080/",
     "height": 68
    },
    "colab_type": "code",
    "executionInfo": {
     "elapsed": 13324,
     "status": "ok",
     "timestamp": 1575591529657,
     "user": {
      "displayName": "Kevin Stone",
      "photoUrl": "https://lh3.googleusercontent.com/a-/AAuE7mB_F1aTWES42TZp6qM-xcGSD-laeqndzdfj4AhG=s64",
      "userId": "14672561394201275022"
     },
     "user_tz": 480
    },
    "id": "QIJA2Gp7cR6d",
    "outputId": "c7cb0947-9348-4c9a-d48f-71ed3c97a538"
   },
   "outputs": [],
   "source": [
    "if num_files_to_read != \"all\":\n",
    "  # Find number of unique_words\n",
    "  abstract_words = [x for sent in X for x in sent.split(' ')]\n",
    "  unique_words = len(set(abstract_words))\n",
    "  print(f\"Total number of words across all abstracts: {len(abstract_words):,}\\nNumber of unique words across all abstracts: {unique_words:,}\\n\")"
   ]
  },
  {
   "cell_type": "code",
   "execution_count": 6,
   "metadata": {
    "colab": {},
    "colab_type": "code",
    "id": "I_WobgftWlL8"
   },
   "outputs": [],
   "source": [
    "patents['tokens'] = patents['Abstract'].apply(nltk.word_tokenize)"
   ]
  },
  {
   "cell_type": "markdown",
   "metadata": {
    "colab_type": "text",
    "id": "141EC-RAXZDI"
   },
   "source": []
  },
  {
   "cell_type": "code",
   "execution_count": 0,
   "metadata": {
    "colab": {},
    "colab_type": "code",
    "id": "DvucOCpUPf38"
   },
   "outputs": [],
   "source": [
    "#vectorizer = TfidfVectorizer(analyzer='word', max_df=0.3, min_df=25)\n",
    "#vectorizer.fit_transform(list(patents['Abstract']))\n",
    "#word_list = set([X for X in vectorizer.vocabulary_.keys()])\n",
    "#L = list(patents.tokens)\n",
    "#patents['tokens2'] = pd.Series([[X for X in Y if X in word_list] for Y in L])\n",
    "#patents['Abstract2'] = pd.Series([\" \".join(X) for X in patents['tokens2']])"
   ]
  },
  {
   "cell_type": "code",
   "execution_count": 7,
   "metadata": {
    "colab": {
     "base_uri": "https://localhost:8080/",
     "height": 204
    },
    "colab_type": "code",
    "executionInfo": {
     "elapsed": 163808,
     "status": "ok",
     "timestamp": 1575591680164,
     "user": {
      "displayName": "Kevin Stone",
      "photoUrl": "https://lh3.googleusercontent.com/a-/AAuE7mB_F1aTWES42TZp6qM-xcGSD-laeqndzdfj4AhG=s64",
      "userId": "14672561394201275022"
     },
     "user_tz": 480
    },
    "id": "Ni9a15_yWSCq",
    "outputId": "ae7e20ac-af95-4a27-e194-5987756815d7"
   },
   "outputs": [
    {
     "data": {
      "text/html": [
       "<div>\n",
       "<style scoped>\n",
       "    .dataframe tbody tr th:only-of-type {\n",
       "        vertical-align: middle;\n",
       "    }\n",
       "\n",
       "    .dataframe tbody tr th {\n",
       "        vertical-align: top;\n",
       "    }\n",
       "\n",
       "    .dataframe thead th {\n",
       "        text-align: right;\n",
       "    }\n",
       "</style>\n",
       "<table border=\"1\" class=\"dataframe\">\n",
       "  <thead>\n",
       "    <tr style=\"text-align: right;\">\n",
       "      <th></th>\n",
       "      <th>Abstract</th>\n",
       "      <th>No</th>\n",
       "      <th>Subclass_labels</th>\n",
       "      <th>Title</th>\n",
       "      <th>tokens</th>\n",
       "    </tr>\n",
       "  </thead>\n",
       "  <tbody>\n",
       "    <tr>\n",
       "      <th>0</th>\n",
       "      <td>a magnetic disc unit having a rotating disc ty...</td>\n",
       "      <td>US07072141</td>\n",
       "      <td>[G11B]</td>\n",
       "      <td>magnetic disc unit with range of gap between d...</td>\n",
       "      <td>[a, magnetic, disc, unit, having, a, rotating,...</td>\n",
       "    </tr>\n",
       "    <tr>\n",
       "      <th>1</th>\n",
       "      <td>methods and systems for transforming a volume ...</td>\n",
       "      <td>US06981282</td>\n",
       "      <td>[A41D]</td>\n",
       "      <td>systems and methods for transformable suits</td>\n",
       "      <td>[methods, and, systems, for, transforming, a, ...</td>\n",
       "    </tr>\n",
       "    <tr>\n",
       "      <th>2</th>\n",
       "      <td>a gardening glove or the like designed to prev...</td>\n",
       "      <td>US06981283</td>\n",
       "      <td>[A41D]</td>\n",
       "      <td>gardening gloves with cushion insert to protec...</td>\n",
       "      <td>[a, gardening, glove, or, the, like, designed,...</td>\n",
       "    </tr>\n",
       "    <tr>\n",
       "      <th>3</th>\n",
       "      <td>a hockey helmet for receiving a head of a wear...</td>\n",
       "      <td>US06981284</td>\n",
       "      <td>[A63B]</td>\n",
       "      <td>hockey helmet comprising a lateral adjustment ...</td>\n",
       "      <td>[a, hockey, helmet, for, receiving, a, head, o...</td>\n",
       "    </tr>\n",
       "    <tr>\n",
       "      <th>4</th>\n",
       "      <td>a toilet and toilet system suitable for a boat...</td>\n",
       "      <td>US06981285</td>\n",
       "      <td>[E03D]</td>\n",
       "      <td>toilet and method of operation</td>\n",
       "      <td>[a, toilet, and, toilet, system, suitable, for...</td>\n",
       "    </tr>\n",
       "  </tbody>\n",
       "</table>\n",
       "</div>"
      ],
      "text/plain": [
       "                                            Abstract          No  \\\n",
       "0  a magnetic disc unit having a rotating disc ty...  US07072141   \n",
       "1  methods and systems for transforming a volume ...  US06981282   \n",
       "2  a gardening glove or the like designed to prev...  US06981283   \n",
       "3  a hockey helmet for receiving a head of a wear...  US06981284   \n",
       "4  a toilet and toilet system suitable for a boat...  US06981285   \n",
       "\n",
       "  Subclass_labels                                              Title  \\\n",
       "0          [G11B]  magnetic disc unit with range of gap between d...   \n",
       "1          [A41D]        systems and methods for transformable suits   \n",
       "2          [A41D]  gardening gloves with cushion insert to protec...   \n",
       "3          [A63B]  hockey helmet comprising a lateral adjustment ...   \n",
       "4          [E03D]                     toilet and method of operation   \n",
       "\n",
       "                                              tokens  \n",
       "0  [a, magnetic, disc, unit, having, a, rotating,...  \n",
       "1  [methods, and, systems, for, transforming, a, ...  \n",
       "2  [a, gardening, glove, or, the, like, designed,...  \n",
       "3  [a, hockey, helmet, for, receiving, a, head, o...  \n",
       "4  [a, toilet, and, toilet, system, suitable, for...  "
      ]
     },
     "execution_count": 7,
     "metadata": {},
     "output_type": "execute_result"
    }
   ],
   "source": [
    "patents.head()"
   ]
  },
  {
   "cell_type": "code",
   "execution_count": 8,
   "metadata": {
    "colab": {},
    "colab_type": "code",
    "id": "kYSd7LJJXH7m"
   },
   "outputs": [],
   "source": [
    "tokens = patents.tokens.tolist()\n",
    "tokens = itertools.chain.from_iterable(tokens)\n",
    "fdist1 = nltk.FreqDist(list(tokens))"
   ]
  },
  {
   "cell_type": "code",
   "execution_count": 9,
   "metadata": {
    "colab": {
     "base_uri": "https://localhost:8080/",
     "height": 34
    },
    "colab_type": "code",
    "executionInfo": {
     "elapsed": 189285,
     "status": "ok",
     "timestamp": 1575591705659,
     "user": {
      "displayName": "Kevin Stone",
      "photoUrl": "https://lh3.googleusercontent.com/a-/AAuE7mB_F1aTWES42TZp6qM-xcGSD-laeqndzdfj4AhG=s64",
      "userId": "14672561394201275022"
     },
     "user_tz": 480
    },
    "id": "vOkgICQwd4IH",
    "outputId": "39b9574b-46b5-4a39-9906-32d9ce1429de"
   },
   "outputs": [
    {
     "data": {
      "text/plain": [
       "237230"
      ]
     },
     "execution_count": 9,
     "metadata": {},
     "output_type": "execute_result"
    }
   ],
   "source": [
    "# number of unique words\n",
    "len(fdist1.most_common())"
   ]
  },
  {
   "cell_type": "code",
   "execution_count": 10,
   "metadata": {
    "colab": {
     "base_uri": "https://localhost:8080/",
     "height": 442
    },
    "colab_type": "code",
    "executionInfo": {
     "elapsed": 189275,
     "status": "ok",
     "timestamp": 1575591705660,
     "user": {
      "displayName": "Kevin Stone",
      "photoUrl": "https://lh3.googleusercontent.com/a-/AAuE7mB_F1aTWES42TZp6qM-xcGSD-laeqndzdfj4AhG=s64",
      "userId": "14672561394201275022"
     },
     "user_tz": 480
    },
    "id": "1ek_Dw0hYAek",
    "outputId": "a96a58d7-05b5-4cea-ceb0-5d7b9cc2f16c"
   },
   "outputs": [
    {
     "data": {
      "text/plain": [
       "[('v2o5', 1),\n",
       " ('hfo1234ze', 1),\n",
       " ('casrgainssefwhere', 1),\n",
       " ('amfwherein', 1),\n",
       " ('srsialon', 1),\n",
       " ('prehydrolyzed', 1),\n",
       " ('nanogranule', 1),\n",
       " ('fosrenol', 1),\n",
       " ('meyenii', 1),\n",
       " ('xmno', 1),\n",
       " ('autodeposits', 1),\n",
       " ('tetraglycidyldiaminodiphenylmethane', 1),\n",
       " ('thixotrophy', 1),\n",
       " ('cheterocycloalkenyl', 1),\n",
       " ('metaloid', 1),\n",
       " ('pad3', 1),\n",
       " ('31g', 1),\n",
       " ('0517exp', 1),\n",
       " ('233exp', 1),\n",
       " ('porphyromonas', 1),\n",
       " ('prolipase', 1),\n",
       " ('rpsa', 1),\n",
       " ('ustilaginaceae', 1),\n",
       " ('basidomycetes', 1),\n",
       " ('benzylisoquinolines', 1)]"
      ]
     },
     "execution_count": 10,
     "metadata": {},
     "output_type": "execute_result"
    }
   ],
   "source": [
    "# 25 least common words\n",
    "fdist1.most_common()[-25:]"
   ]
  },
  {
   "cell_type": "markdown",
   "metadata": {
    "colab_type": "text",
    "id": "ukrPsL5kT7yO"
   },
   "source": [
    "A subset of 1 year has roughly 32 million words, the whole dataset has roughly 200 million words."
   ]
  },
  {
   "cell_type": "code",
   "execution_count": 11,
   "metadata": {
    "colab": {
     "base_uri": "https://localhost:8080/",
     "height": 333
    },
    "colab_type": "code",
    "executionInfo": {
     "elapsed": 189883,
     "status": "ok",
     "timestamp": 1575591706279,
     "user": {
      "displayName": "Kevin Stone",
      "photoUrl": "https://lh3.googleusercontent.com/a-/AAuE7mB_F1aTWES42TZp6qM-xcGSD-laeqndzdfj4AhG=s64",
      "userId": "14672561394201275022"
     },
     "user_tz": 480
    },
    "id": "ddl9VCEpjUTf",
    "outputId": "4a5d45f2-318e-476b-837f-ceb07cb5509c"
   },
   "outputs": [
    {
     "data": {
      "image/png": "[encoded data removed]",
      "text/plain": [
       "<Figure size 720x360 with 1 Axes>"
      ]
     },
     "metadata": {
      "needs_background": "light"
     },
     "output_type": "display_data"
    }
   ],
   "source": [
    "# Plot histogram of number of words in abstract\n",
    "# plt.style.available\n",
    "plt.style.use('bmh')\n",
    "num_words_in_abstracts = [len(sent) for sent in patents['tokens']]\n",
    "fig, axes = plt.subplots(nrows=1, ncols=1, figsize=(10, 5))\n",
    "axes.grid(b=None, axis=\"y\")\n",
    "pd.DataFrame(num_words_in_abstracts, columns=['Histogram of Number of Words per Abstract']).hist(bins=50, ax=axes)\n",
    "pass"
   ]
  },
  {
   "cell_type": "code",
   "execution_count": 12,
   "metadata": {
    "colab": {
     "base_uri": "https://localhost:8080/",
     "height": 350
    },
    "colab_type": "code",
    "executionInfo": {
     "elapsed": 189869,
     "status": "ok",
     "timestamp": 1575591706280,
     "user": {
      "displayName": "Kevin Stone",
      "photoUrl": "https://lh3.googleusercontent.com/a-/AAuE7mB_F1aTWES42TZp6qM-xcGSD-laeqndzdfj4AhG=s64",
      "userId": "14672561394201275022"
     },
     "user_tz": 480
    },
    "id": "JKkdq9YBMIJx",
    "outputId": "d0912ba5-2846-4bca-e9c0-f3ac05d166cb"
   },
   "outputs": [
    {
     "data": {
      "image/png": "[encoded data removed]",
      "text/plain": [
       "<Figure size 720x360 with 1 Axes>"
      ]
     },
     "metadata": {
      "needs_background": "light"
     },
     "output_type": "display_data"
    }
   ],
   "source": [
    "# Plot number of words in abstract as cumulative distribution\n",
    "\n",
    "fig, ax = plt.subplots(figsize=(10, 5))\n",
    "\n",
    "# plot the cumulative histogram\n",
    "n, bins, patches = ax.hist(num_words_in_abstracts, 1000, density=True, histtype='step',\n",
    "                           cumulative=True)\n",
    "\n",
    "# tidy up the figure\n",
    "ax.grid(True)\n",
    "# ax.legend(loc='right')\n",
    "ax.yaxis.set_major_formatter(mtick.PercentFormatter(1.0))\n",
    "ax.set_title('Cumulative words histogram')\n",
    "ax.set_xlabel('Number of words')\n",
    "ax.set_ylabel('Percentage')\n",
    "\n",
    "plt.show()"
   ]
  },
  {
   "cell_type": "code",
   "execution_count": 13,
   "metadata": {
    "colab": {
     "base_uri": "https://localhost:8080/",
     "height": 297
    },
    "colab_type": "code",
    "executionInfo": {
     "elapsed": 189855,
     "status": "ok",
     "timestamp": 1575591706281,
     "user": {
      "displayName": "Kevin Stone",
      "photoUrl": "https://lh3.googleusercontent.com/a-/AAuE7mB_F1aTWES42TZp6qM-xcGSD-laeqndzdfj4AhG=s64",
      "userId": "14672561394201275022"
     },
     "user_tz": 480
    },
    "id": "2FtHO6tdNcJT",
    "outputId": "57fd41af-417a-4aa2-97af-09468fb6895f"
   },
   "outputs": [
    {
     "data": {
      "text/html": [
       "<div>\n",
       "<style scoped>\n",
       "    .dataframe tbody tr th:only-of-type {\n",
       "        vertical-align: middle;\n",
       "    }\n",
       "\n",
       "    .dataframe tbody tr th {\n",
       "        vertical-align: top;\n",
       "    }\n",
       "\n",
       "    .dataframe thead th {\n",
       "        text-align: right;\n",
       "    }\n",
       "</style>\n",
       "<table border=\"1\" class=\"dataframe\">\n",
       "  <thead>\n",
       "    <tr style=\"text-align: right;\">\n",
       "      <th></th>\n",
       "      <th>0</th>\n",
       "    </tr>\n",
       "  </thead>\n",
       "  <tbody>\n",
       "    <tr>\n",
       "      <th>count</th>\n",
       "      <td>2.000147e+06</td>\n",
       "    </tr>\n",
       "    <tr>\n",
       "      <th>mean</th>\n",
       "      <td>1.090707e+02</td>\n",
       "    </tr>\n",
       "    <tr>\n",
       "      <th>std</th>\n",
       "      <td>4.308763e+01</td>\n",
       "    </tr>\n",
       "    <tr>\n",
       "      <th>min</th>\n",
       "      <td>0.000000e+00</td>\n",
       "    </tr>\n",
       "    <tr>\n",
       "      <th>25%</th>\n",
       "      <td>7.800000e+01</td>\n",
       "    </tr>\n",
       "    <tr>\n",
       "      <th>50%</th>\n",
       "      <td>1.110000e+02</td>\n",
       "    </tr>\n",
       "    <tr>\n",
       "      <th>75%</th>\n",
       "      <td>1.410000e+02</td>\n",
       "    </tr>\n",
       "    <tr>\n",
       "      <th>max</th>\n",
       "      <td>5.090000e+02</td>\n",
       "    </tr>\n",
       "  </tbody>\n",
       "</table>\n",
       "</div>"
      ],
      "text/plain": [
       "                  0\n",
       "count  2.000147e+06\n",
       "mean   1.090707e+02\n",
       "std    4.308763e+01\n",
       "min    0.000000e+00\n",
       "25%    7.800000e+01\n",
       "50%    1.110000e+02\n",
       "75%    1.410000e+02\n",
       "max    5.090000e+02"
      ]
     },
     "execution_count": 13,
     "metadata": {},
     "output_type": "execute_result"
    }
   ],
   "source": [
    "pd.DataFrame(num_words_in_abstracts).describe()"
   ]
  },
  {
   "cell_type": "markdown",
   "metadata": {
    "colab_type": "text",
    "id": "jaz-GYjsNTZn"
   },
   "source": [
    "The abstracts have a mean length of rougly 100 words, the shortest has 1 word and the longest roughly 500 words.  Roughly 99% of patents have an abstract length of less than 200 words."
   ]
  },
  {
   "cell_type": "code",
   "execution_count": 14,
   "metadata": {
    "colab": {
     "base_uri": "https://localhost:8080/",
     "height": 34
    },
    "colab_type": "code",
    "executionInfo": {
     "elapsed": 190816,
     "status": "ok",
     "timestamp": 1575591707253,
     "user": {
      "displayName": "Kevin Stone",
      "photoUrl": "https://lh3.googleusercontent.com/a-/AAuE7mB_F1aTWES42TZp6qM-xcGSD-laeqndzdfj4AhG=s64",
      "userId": "14672561394201275022"
     },
     "user_tz": 480
    },
    "id": "Hay4hu_kdB21",
    "outputId": "d684bfa0-3291-42fb-bdca-47083b4758d4"
   },
   "outputs": [
    {
     "name": "stdout",
     "output_type": "stream",
     "text": [
      "Total number of CRC labels: 632\n"
     ]
    }
   ],
   "source": [
    "# Binarize labels into 1-hot encodings\n",
    "\n",
    "CRC_labels = patents.Subclass_labels\n",
    "mlb = MultiLabelBinarizer()\n",
    "y = mlb.fit_transform(CRC_labels)\n",
    "num_CRC_labels = len(y[0])\n",
    "print(f\"Total number of CRC labels: {num_CRC_labels}\")"
   ]
  },
  {
   "cell_type": "code",
   "execution_count": 15,
   "metadata": {
    "colab": {
     "base_uri": "https://localhost:8080/",
     "height": 279
    },
    "colab_type": "code",
    "executionInfo": {
     "elapsed": 191801,
     "status": "ok",
     "timestamp": 1575591708249,
     "user": {
      "displayName": "Kevin Stone",
      "photoUrl": "https://lh3.googleusercontent.com/a-/AAuE7mB_F1aTWES42TZp6qM-xcGSD-laeqndzdfj4AhG=s64",
      "userId": "14672561394201275022"
     },
     "user_tz": 480
    },
    "id": "DJc-pA8hGxwl",
    "outputId": "e008dec8-1a6d-4f4b-c5d6-559f3b623f76"
   },
   "outputs": [
    {
     "data": {
      "image/png": "[encoded data removed]",
      "text/plain": [
       "<Figure size 432x288 with 1 Axes>"
      ]
     },
     "metadata": {
      "needs_background": "light"
     },
     "output_type": "display_data"
    }
   ],
   "source": [
    "# Mini EDA on frequency of CRC labels\n",
    "\n",
    "# Plot histogram of log number of patents per CRC label\n",
    "fig, axes = plt.subplots(nrows=1, ncols=1)\n",
    "num_patents_per_crc = np.sort(np.sum(y, axis=0))\n",
    "pd.DataFrame(np.log(num_patents_per_crc), columns=['Log number of patents per CRC']).hist(bins=25, ax=axes)\n",
    "pass\n"
   ]
  },
  {
   "cell_type": "code",
   "execution_count": 16,
   "metadata": {
    "colab": {
     "base_uri": "https://localhost:8080/",
     "height": 297
    },
    "colab_type": "code",
    "executionInfo": {
     "elapsed": 191789,
     "status": "ok",
     "timestamp": 1575591708250,
     "user": {
      "displayName": "Kevin Stone",
      "photoUrl": "https://lh3.googleusercontent.com/a-/AAuE7mB_F1aTWES42TZp6qM-xcGSD-laeqndzdfj4AhG=s64",
      "userId": "14672561394201275022"
     },
     "user_tz": 480
    },
    "id": "k91MZGt8IW3M",
    "outputId": "9b1e3d49-bf36-42cc-a138-6f470639e6e4"
   },
   "outputs": [
    {
     "data": {
      "text/html": [
       "<div>\n",
       "<style scoped>\n",
       "    .dataframe tbody tr th:only-of-type {\n",
       "        vertical-align: middle;\n",
       "    }\n",
       "\n",
       "    .dataframe tbody tr th {\n",
       "        vertical-align: top;\n",
       "    }\n",
       "\n",
       "    .dataframe thead th {\n",
       "        text-align: right;\n",
       "    }\n",
       "</style>\n",
       "<table border=\"1\" class=\"dataframe\">\n",
       "  <thead>\n",
       "    <tr style=\"text-align: right;\">\n",
       "      <th></th>\n",
       "      <th>0</th>\n",
       "    </tr>\n",
       "  </thead>\n",
       "  <tbody>\n",
       "    <tr>\n",
       "      <th>count</th>\n",
       "      <td>632.000000</td>\n",
       "    </tr>\n",
       "    <tr>\n",
       "      <th>mean</th>\n",
       "      <td>4239.625000</td>\n",
       "    </tr>\n",
       "    <tr>\n",
       "      <th>std</th>\n",
       "      <td>14699.945305</td>\n",
       "    </tr>\n",
       "    <tr>\n",
       "      <th>min</th>\n",
       "      <td>1.000000</td>\n",
       "    </tr>\n",
       "    <tr>\n",
       "      <th>25%</th>\n",
       "      <td>236.250000</td>\n",
       "    </tr>\n",
       "    <tr>\n",
       "      <th>50%</th>\n",
       "      <td>886.500000</td>\n",
       "    </tr>\n",
       "    <tr>\n",
       "      <th>75%</th>\n",
       "      <td>2940.500000</td>\n",
       "    </tr>\n",
       "    <tr>\n",
       "      <th>max</th>\n",
       "      <td>281876.000000</td>\n",
       "    </tr>\n",
       "  </tbody>\n",
       "</table>\n",
       "</div>"
      ],
      "text/plain": [
       "                   0\n",
       "count     632.000000\n",
       "mean     4239.625000\n",
       "std     14699.945305\n",
       "min         1.000000\n",
       "25%       236.250000\n",
       "50%       886.500000\n",
       "75%      2940.500000\n",
       "max    281876.000000"
      ]
     },
     "execution_count": 16,
     "metadata": {},
     "output_type": "execute_result"
    }
   ],
   "source": [
    "pd.DataFrame(num_patents_per_crc).describe()"
   ]
  },
  {
   "cell_type": "markdown",
   "metadata": {
    "colab_type": "text",
    "id": "RxjBpvhgN-Y3"
   },
   "source": [
    "The most common crc class has 87740 patents. The mean crc class has 1272 patents (standard deviation 4538 patents)."
   ]
  },
  {
   "cell_type": "code",
   "execution_count": 17,
   "metadata": {
    "colab": {
     "base_uri": "https://localhost:8080/",
     "height": 350
    },
    "colab_type": "code",
    "executionInfo": {
     "elapsed": 192233,
     "status": "ok",
     "timestamp": 1575591708705,
     "user": {
      "displayName": "Kevin Stone",
      "photoUrl": "https://lh3.googleusercontent.com/a-/AAuE7mB_F1aTWES42TZp6qM-xcGSD-laeqndzdfj4AhG=s64",
      "userId": "14672561394201275022"
     },
     "user_tz": 480
    },
    "id": "fbVhExywWu07",
    "outputId": "aaea13f3-c4e5-4b33-d701-954a499d266b"
   },
   "outputs": [
    {
     "data": {
      "image/png": "[encoded data removed]",
      "text/plain": [
       "<Figure size 720x360 with 1 Axes>"
      ]
     },
     "metadata": {
      "needs_background": "light"
     },
     "output_type": "display_data"
    }
   ],
   "source": [
    "# Plot histogram of number of CRC labels per patent\n",
    "plt.style.use('bmh')\n",
    "fig, axes = plt.subplots(nrows=1, ncols=1, figsize=(10, 5))\n",
    "num_crc_per_patent = np.sort(np.sum(y, axis=1))\n",
    "pd.DataFrame(num_crc_per_patent, columns=['Number of CRC Labels Per Patent']).hist(bins=50, ax=axes)\n",
    "axes.set_yscale('log')\n",
    "axes.set_xlabel('Number of CRC labels')\n",
    "axes.set_ylabel('Number of Patents')\n",
    "axes.yaxis.set_major_formatter(ticker.FuncFormatter(lambda x, p: format(int(x), ',')))\n",
    "pass"
   ]
  },
  {
   "cell_type": "code",
   "execution_count": 18,
   "metadata": {
    "colab": {
     "base_uri": "https://localhost:8080/",
     "height": 297
    },
    "colab_type": "code",
    "executionInfo": {
     "elapsed": 192218,
     "status": "ok",
     "timestamp": 1575591708706,
     "user": {
      "displayName": "Kevin Stone",
      "photoUrl": "https://lh3.googleusercontent.com/a-/AAuE7mB_F1aTWES42TZp6qM-xcGSD-laeqndzdfj4AhG=s64",
      "userId": "14672561394201275022"
     },
     "user_tz": 480
    },
    "id": "IAR2aaBM8SSl",
    "outputId": "ce0c58f2-2e1a-4a9e-df4d-4c55cd8f615a"
   },
   "outputs": [
    {
     "data": {
      "text/html": [
       "<div>\n",
       "<style scoped>\n",
       "    .dataframe tbody tr th:only-of-type {\n",
       "        vertical-align: middle;\n",
       "    }\n",
       "\n",
       "    .dataframe tbody tr th {\n",
       "        vertical-align: top;\n",
       "    }\n",
       "\n",
       "    .dataframe thead th {\n",
       "        text-align: right;\n",
       "    }\n",
       "</style>\n",
       "<table border=\"1\" class=\"dataframe\">\n",
       "  <thead>\n",
       "    <tr style=\"text-align: right;\">\n",
       "      <th></th>\n",
       "      <th>0</th>\n",
       "    </tr>\n",
       "  </thead>\n",
       "  <tbody>\n",
       "    <tr>\n",
       "      <th>count</th>\n",
       "      <td>2.000147e+06</td>\n",
       "    </tr>\n",
       "    <tr>\n",
       "      <th>mean</th>\n",
       "      <td>1.339623e+00</td>\n",
       "    </tr>\n",
       "    <tr>\n",
       "      <th>std</th>\n",
       "      <td>7.356278e-01</td>\n",
       "    </tr>\n",
       "    <tr>\n",
       "      <th>min</th>\n",
       "      <td>0.000000e+00</td>\n",
       "    </tr>\n",
       "    <tr>\n",
       "      <th>25%</th>\n",
       "      <td>1.000000e+00</td>\n",
       "    </tr>\n",
       "    <tr>\n",
       "      <th>50%</th>\n",
       "      <td>1.000000e+00</td>\n",
       "    </tr>\n",
       "    <tr>\n",
       "      <th>75%</th>\n",
       "      <td>1.000000e+00</td>\n",
       "    </tr>\n",
       "    <tr>\n",
       "      <th>max</th>\n",
       "      <td>1.800000e+01</td>\n",
       "    </tr>\n",
       "  </tbody>\n",
       "</table>\n",
       "</div>"
      ],
      "text/plain": [
       "                  0\n",
       "count  2.000147e+06\n",
       "mean   1.339623e+00\n",
       "std    7.356278e-01\n",
       "min    0.000000e+00\n",
       "25%    1.000000e+00\n",
       "50%    1.000000e+00\n",
       "75%    1.000000e+00\n",
       "max    1.800000e+01"
      ]
     },
     "execution_count": 18,
     "metadata": {},
     "output_type": "execute_result"
    }
   ],
   "source": [
    "pd.DataFrame(num_crc_per_patent).describe()"
   ]
  },
  {
   "cell_type": "code",
   "execution_count": 19,
   "metadata": {
    "colab": {
     "base_uri": "https://localhost:8080/",
     "height": 306
    },
    "colab_type": "code",
    "executionInfo": {
     "elapsed": 192208,
     "status": "ok",
     "timestamp": 1575591708707,
     "user": {
      "displayName": "Kevin Stone",
      "photoUrl": "https://lh3.googleusercontent.com/a-/AAuE7mB_F1aTWES42TZp6qM-xcGSD-laeqndzdfj4AhG=s64",
      "userId": "14672561394201275022"
     },
     "user_tz": 480
    },
    "id": "RmAhMyEgOed5",
    "outputId": "0967f4e0-78e7-4dd3-86cf-b94b98f13c2a"
   },
   "outputs": [
    {
     "data": {
      "text/plain": [
       "0        1739\n",
       "1     1525717\n",
       "2      330643\n",
       "3       99166\n",
       "4       28580\n",
       "5        9165\n",
       "6        3052\n",
       "7        1164\n",
       "8         470\n",
       "9         226\n",
       "10         96\n",
       "11         49\n",
       "12         41\n",
       "13         21\n",
       "14          4\n",
       "15          7\n",
       "16          4\n",
       "18          3\n",
       "Name: 0, dtype: int64"
      ]
     },
     "execution_count": 19,
     "metadata": {},
     "output_type": "execute_result"
    }
   ],
   "source": [
    "pd.DataFrame(num_crc_per_patent)[0].value_counts().sort_index(ascending=True)"
   ]
  },
  {
   "cell_type": "code",
   "execution_count": 20,
   "metadata": {
    "colab": {
     "base_uri": "https://localhost:8080/",
     "height": 34
    },
    "colab_type": "code",
    "executionInfo": {
     "elapsed": 192915,
     "status": "ok",
     "timestamp": 1575591709424,
     "user": {
      "displayName": "Kevin Stone",
      "photoUrl": "https://lh3.googleusercontent.com/a-/AAuE7mB_F1aTWES42TZp6qM-xcGSD-laeqndzdfj4AhG=s64",
      "userId": "14672561394201275022"
     },
     "user_tz": 480
    },
    "id": "T6gg_fd7KBts",
    "outputId": "204013a3-c5a5-4889-bf3e-3dbe36850eb6"
   },
   "outputs": [
    {
     "name": "stdout",
     "output_type": "stream",
     "text": [
      "Average number of labels per patent: 1.3396230377067286\n"
     ]
    }
   ],
   "source": [
    "print(f\"Average number of labels per patent: {np.average(np.sum(y, axis=1))}\")"
   ]
  },
  {
   "cell_type": "markdown",
   "metadata": {
    "colab_type": "text",
    "id": "8aQ7VChuONSK"
   },
   "source": [
    "- Each patent has on average 1.5 labels.\n",
    "- Most patents (198 thousand) have just one label.\n",
    "- There are 2 unlabeled examples.\n",
    "- The maximum number of labels per patent are 16.\n",
    "- Number of labels per patent decrease linearly on a log scale. (see histogram)\n",
    "\n",
    "For 2M dataset, Top 10 CRC codes by count\n",
    "\n",
    "\n",
    "* ('G02B', 37163)\n",
    "* ('G01N', 42687)\n",
    "* ('A61B', 48297)\n",
    "* ('H04B', 52693)\n",
    "* ('G06K', 55704)\n",
    "* ('H04N', 66976)\n",
    "* ('A61K', 77483)\n",
    "* ('H04L', 77886)\n",
    "* ('H01L', 132457)\n",
    "* ('G06F', 281876)"
   ]
  },
  {
   "cell_type": "code",
   "execution_count": 21,
   "metadata": {
    "colab": {
     "base_uri": "https://localhost:8080/",
     "height": 187
    },
    "colab_type": "code",
    "executionInfo": {
     "elapsed": 192902,
     "status": "ok",
     "timestamp": 1575591709425,
     "user": {
      "displayName": "Kevin Stone",
      "photoUrl": "https://lh3.googleusercontent.com/a-/AAuE7mB_F1aTWES42TZp6qM-xcGSD-laeqndzdfj4AhG=s64",
      "userId": "14672561394201275022"
     },
     "user_tz": 480
    },
    "id": "4yvfMj_emrjY",
    "outputId": "89a21aac-b69f-488f-f8c9-f86c2c946ced"
   },
   "outputs": [
    {
     "data": {
      "text/plain": [
       "[('G02B', 37163),\n",
       " ('G01N', 42687),\n",
       " ('A61B', 48297),\n",
       " ('H04B', 52693),\n",
       " ('G06K', 55704),\n",
       " ('H04N', 66976),\n",
       " ('A61K', 77483),\n",
       " ('H04L', 77886),\n",
       " ('H01L', 132457),\n",
       " ('G06F', 281876)]"
      ]
     },
     "execution_count": 21,
     "metadata": {},
     "output_type": "execute_result"
    }
   ],
   "source": [
    "# Top 10 CRC codes by count\n",
    "\n",
    "from collections import Counter\n",
    "CRC_codes = [(y) for x in patents[\"Subclass_labels\"] for y in x]\n",
    "result = dict(Counter(CRC_codes))\n",
    "result_sorted = sorted(result.items(), key=lambda x: x[1])\n",
    "list(result_sorted)[-10:]"
   ]
  },
  {
   "cell_type": "markdown",
   "metadata": {
    "colab_type": "text",
    "id": "4SS-memX9d0d"
   },
   "source": [
    "Analysis of most common CRC codes:\n",
    "- G06 = Computing (G06F = ELECTRIC DIGITAL DATA PROCESSING)\n",
    "- H01 = Basic electric elements (H01L = SEMICONDUCTOR DEVICES)\n",
    "- A61 = Medical or veterinary science; Hygiene (A61K = PREPARATIONS FOR MEDICAL, DENTAL, OR TOILET PURPOSES)\n",
    "- H04 = electric communication technique (H04W = WIRELESS COMMUNICATION NETWORK)\n"
   ]
  },
  {
   "cell_type": "markdown",
   "metadata": {
    "colab_type": "text",
    "id": "4kggx8pzhz2x"
   },
   "source": [
    "## CPC subclass multilabel prediction - Experiment 3"
   ]
  },
  {
   "cell_type": "code",
   "execution_count": 22,
   "metadata": {
    "colab": {
     "base_uri": "https://localhost:8080/",
     "height": 34
    },
    "colab_type": "code",
    "executionInfo": {
     "elapsed": 201637,
     "status": "ok",
     "timestamp": 1575591718173,
     "user": {
      "displayName": "Kevin Stone",
      "photoUrl": "https://lh3.googleusercontent.com/a-/AAuE7mB_F1aTWES42TZp6qM-xcGSD-laeqndzdfj4AhG=s64",
      "userId": "14672561394201275022"
     },
     "user_tz": 480
    },
    "id": "0alDjmunh8W9",
    "outputId": "a8225675-914e-4e75-fc40-c8a3273b801f"
   },
   "outputs": [
    {
     "name": "stdout",
     "output_type": "stream",
     "text": [
      "Total number of CRC labels: 632\n"
     ]
    }
   ],
   "source": [
    "X = list(patents[\"Abstract\"])\n",
    "abstract_words = [x for sent in X for x in sent.split(' ')]\n",
    "unique_words = len(set(abstract_words))\n",
    "CRC_labels = patents.Subclass_labels\n",
    "# binarize labels into 1-hot encodings\n",
    "mlb = MultiLabelBinarizer()\n",
    "y = mlb.fit_transform(CRC_labels)\n",
    "num_CRC_labels = len(y[0])\n",
    "print(f\"Total number of CRC labels: {num_CRC_labels}\")"
   ]
  },
  {
   "cell_type": "code",
   "execution_count": 23,
   "metadata": {
    "colab": {},
    "colab_type": "code",
    "id": "1drenglRidEs"
   },
   "outputs": [],
   "source": [
    "# Keep full patent table intact for analysis at end\n",
    "P_train3, P_test3, y_train3, y_test3 = train_test_split(patents, y, test_size=0.20, random_state=42)\n",
    "X_train3 = list(P_train3['Abstract'])\n",
    "X_test3 = list(P_test3['Abstract'])"
   ]
  },
  {
   "cell_type": "markdown",
   "metadata": {
    "colab_type": "text",
    "id": "gE9dJDQyQ0O9"
   },
   "source": [
    "## Set training / test data based on Experiment Number"
   ]
  },
  {
   "cell_type": "code",
   "execution_count": 24,
   "metadata": {
    "colab": {},
    "colab_type": "code",
    "id": "Q8Pb2HLDQsrc"
   },
   "outputs": [],
   "source": [
    "experiment_number = 3\n",
    "if experiment_number == 1:\n",
    "  (P_train, P_test, X_train, X_test, y_train, y_test) = (P_train1, P_test1, X_train1, X_test1, y_train1, y_test1)\n",
    "elif experiment_number == 2:\n",
    "  (P_train, P_test, X_train, X_test, y_train, y_test) = (P_train2, P_test2, X_train2, X_test2, y_train2, y_test2)\n",
    "elif experiment_number == 3:\n",
    "  (P_train, P_test, X_train, X_test, y_train, y_test) = (P_train3, P_test3, X_train3, X_test3, y_train3, y_test3)\n",
    "elif experiment_number == 4:\n",
    "  (P_train, P_test, X_train, X_test, y_train, y_test) = (P_train4, P_test4, X_train4, X_test4, y_train4, y_test4)\n",
    "else:\n",
    "  print(f\"Unknown experiment number: {experiment_number}.\")"
   ]
  },
  {
   "cell_type": "markdown",
   "metadata": {
    "colab_type": "text",
    "id": "Tjei5A54ZGx0"
   },
   "source": [
    "## Embedding vectors"
   ]
  },
  {
   "cell_type": "code",
   "execution_count": 25,
   "metadata": {
    "colab": {},
    "colab_type": "code",
    "id": "791MUlF_e800"
   },
   "outputs": [],
   "source": [
    "# Convert to word embeddings\n",
    "\n",
    "# https://keras.io/preprocessing/text/\n",
    "tokenizer = Tokenizer(num_words=unique_words)\n",
    "tokenizer.fit_on_texts(X_train)\n",
    "\n",
    "# Top 10 words\n",
    "top10words = sorted(tokenizer.word_counts.items(), key=lambda x: x[1], reverse=True)[:10]\n",
    "# print(\"Top 10 words:\\n\", top10words)\n",
    "\n",
    "# Convert text to sequence of numbers, each number representing a word\n",
    "X_train = tokenizer.texts_to_sequences(X_train)\n",
    "X_test = tokenizer.texts_to_sequences(X_test)\n",
    "\n",
    "# First 5 of X_train after texts_to_sequences conversion\n",
    "# print(\"\\nX_train:\\n\", X_train[0])\n",
    "\n",
    "vocab_size = len(tokenizer.word_index) + 1\n",
    "\n",
    "maxlen = 200\n",
    "\n",
    "X_train = pad_sequences(X_train, padding='post', maxlen=maxlen)\n",
    "X_test = pad_sequences(X_test, padding='post', maxlen=maxlen)\n",
    "\n",
    "# First of X_train after padding\n",
    "# print(\"\\nX_train (after padding):\\n\", X_train[:1])"
   ]
  },
  {
   "cell_type": "code",
   "execution_count": 26,
   "metadata": {
    "colab": {},
    "colab_type": "code",
    "id": "JgD74k-jfBmj"
   },
   "outputs": [],
   "source": [
    "# Use GloVe word embeddings to convert text inputs to their numeric counterparts\n",
    "\n",
    "embeddings_dictionary = dict()\n",
    "\n",
    "glove_file = open(path + \"data/glove/glove.6B.100d.txt\", encoding=\"utf8\")\n",
    "\n",
    "for line in glove_file:\n",
    "    records = line.split()\n",
    "    word = records[0]\n",
    "    vector_dimensions = asarray(records[1:], dtype='float32')\n",
    "    embeddings_dictionary[word] = vector_dimensions\n",
    "glove_file.close()\n",
    "\n",
    "embedding_matrix = zeros((vocab_size, 100))\n",
    "for word, index in tokenizer.word_index.items():\n",
    "    embedding_vector = embeddings_dictionary.get(word)\n",
    "    if embedding_vector is not None:\n",
    "        embedding_matrix[index] = embedding_vector\n",
    "\n",
    "# Print first item of embedding_matrix\n",
    "# print(f\"Embedding Matrix for {tokenizer.sequences_to_texts([[1]])}:\\n{embedding_matrix[1:2]}\")"
   ]
  },
  {
   "cell_type": "markdown",
   "metadata": {
    "colab_type": "text",
    "id": "HgBU3BAkZO9_"
   },
   "source": [
    "## Custom metrics"
   ]
  },
  {
   "cell_type": "code",
   "execution_count": 27,
   "metadata": {
    "colab": {},
    "colab_type": "code",
    "id": "BBhlFEgCRu5g"
   },
   "outputs": [],
   "source": [
    "# metric f1 definition\n",
    "from keras import backend as K\n",
    "def recall_m(y_true, y_pred):\n",
    "        true_positives = K.sum(K.round(K.clip(y_true * y_pred, 0, 1)))\n",
    "        possible_positives = K.sum(K.round(K.clip(y_true, 0, 1)))\n",
    "        recall = true_positives / (possible_positives + K.epsilon())\n",
    "        return recall\n",
    "def precision_m(y_true, y_pred):\n",
    "        true_positives = K.sum(K.round(K.clip(y_true * y_pred, 0, 1)))\n",
    "        predicted_positives = K.sum(K.round(K.clip(y_pred, 0, 1)))\n",
    "        precision = true_positives / (predicted_positives + K.epsilon())\n",
    "        return precision\n",
    "def f1(y_true, y_pred):\n",
    "    precision = precision_m(y_true, y_pred)\n",
    "    recall = recall_m(y_true, y_pred)\n",
    "    return 2*((precision*recall)/(precision+recall+K.epsilon()))\n",
    "def weighted_bce(y_true, y_pred):\n",
    "    # weights become 2 if y_true is 1, and 1 if y_true is 0\n",
    "    weights = (y_true * 2.) + (1. - y_true)\n",
    "    bce = K.binary_crossentropy(y_true, y_pred)\n",
    "    weighted_bce = K.mean(bce * weights)\n",
    "    return weighted_bce"
   ]
  },
  {
   "cell_type": "markdown",
   "metadata": {
    "colab_type": "text",
    "id": "A1yY7M1K10xb"
   },
   "source": [
    "## CNN "
   ]
  },
  {
   "cell_type": "code",
   "execution_count": 28,
   "metadata": {
    "colab": {
     "base_uri": "https://localhost:8080/",
     "height": 156
    },
    "colab_type": "code",
    "executionInfo": {
     "elapsed": 257605,
     "status": "ok",
     "timestamp": 1575591774195,
     "user": {
      "displayName": "Kevin Stone",
      "photoUrl": "https://lh3.googleusercontent.com/a-/AAuE7mB_F1aTWES42TZp6qM-xcGSD-laeqndzdfj4AhG=s64",
      "userId": "14672561394201275022"
     },
     "user_tz": 480
    },
    "id": "NmQR2FlCsJSf",
    "outputId": "ecf90bd2-f89c-4783-8c46-8f390006296f"
   },
   "outputs": [
    {
     "name": "stdout",
     "output_type": "stream",
     "text": [
      "Build model...\n",
      "WARNING:tensorflow:From /home/alexmue/anaconda3/lib/python3.7/site-packages/tensorflow_core/python/keras/initializers.py:119: calling RandomUniform.__init__ (from tensorflow.python.ops.init_ops) with dtype is deprecated and will be removed in a future version.\n",
      "Instructions for updating:\n",
      "Call initializer instance with the dtype argument instead of passing it to the constructor\n",
      "WARNING:tensorflow:From /home/alexmue/anaconda3/lib/python3.7/site-packages/tensorflow_core/python/ops/resource_variable_ops.py:1630: calling BaseResourceVariable.__init__ (from tensorflow.python.ops.resource_variable_ops) with constraint is deprecated and will be removed in a future version.\n",
      "Instructions for updating:\n",
      "If using Keras pass *_constraint arguments to layers.\n"
     ]
    }
   ],
   "source": [
    "filters = 512\n",
    "hidden_dims = 512\n",
    "print('Build model...')\n",
    "input = tf.keras.Input(shape=(maxlen,), name='input_embeddings')\n",
    "embedding = tf.python.keras.layers.Embedding(vocab_size, 100,\n",
    "                    input_length=maxlen, weights=[embedding_matrix],\n",
    "                                             trainable=False)(input)\n",
    "conv0 = tf.keras.layers.Conv1D(filters, 2, activation='relu')(embedding)\n",
    "maxpool0 = tf.keras.layers.GlobalMaxPooling1D()(conv0)\n",
    "conv1 = tf.keras.layers.Conv1D(filters, 3, activation='relu')(embedding)\n",
    "maxpool1 = tf.keras.layers.GlobalMaxPooling1D()(conv1)\n",
    "conv2 = tf.keras.layers.Conv1D(filters, 4, activation='relu')(embedding)\n",
    "maxpool2 = tf.keras.layers.GlobalMaxPooling1D()(conv2)\n",
    "conv3 = tf.keras.layers.Conv1D(filters, 5, activation='relu')(embedding)\n",
    "maxpool3 = tf.keras.layers.GlobalMaxPooling1D()(conv3)\n",
    "concat1 = tf.keras.layers.concatenate([maxpool0, maxpool1, maxpool2, maxpool3], axis=1)\n",
    "dropout1 = tf.keras.layers.Dropout(rate=0.2)(concat1)\n",
    "dense = tf.keras.layers.Dense(hidden_dims, activation='relu', name='dense')(dropout1)\n",
    "batchnorm = tf.keras.layers.BatchNormalization()(dense)\n",
    "dense = tf.keras.layers.Dropout(rate=0.5)(batchnorm)\n",
    "pred = tf.keras.layers.Dense(num_CRC_labels, activation='sigmoid', name='crc')(dense)\n",
    "model = tf.keras.models.Model(inputs=input, outputs=pred)"
   ]
  },
  {
   "cell_type": "code",
   "execution_count": 29,
   "metadata": {
    "colab": {
     "base_uri": "https://localhost:8080/",
     "height": 748
    },
    "colab_type": "code",
    "executionInfo": {
     "elapsed": 257593,
     "status": "ok",
     "timestamp": 1575591774196,
     "user": {
      "displayName": "Kevin Stone",
      "photoUrl": "https://lh3.googleusercontent.com/a-/AAuE7mB_F1aTWES42TZp6qM-xcGSD-laeqndzdfj4AhG=s64",
      "userId": "14672561394201275022"
     },
     "user_tz": 480
    },
    "id": "iQoQn0F9OU47",
    "outputId": "a4da93a8-5517-405f-bb7f-9a52d864207e"
   },
   "outputs": [
    {
     "name": "stdout",
     "output_type": "stream",
     "text": [
      "Model: \"model\"\n",
      "__________________________________________________________________________________________________\n",
      "Layer (type)                    Output Shape         Param #     Connected to                     \n",
      "==================================================================================================\n",
      "input_embeddings (InputLayer)   [(None, 200)]        0                                            \n",
      "__________________________________________________________________________________________________\n",
      "embedding (Embedding)           (None, 200, 100)     21382700    input_embeddings[0][0]           \n",
      "__________________________________________________________________________________________________\n",
      "conv1d (Conv1D)                 (None, 199, 512)     102912      embedding[0][0]                  \n",
      "__________________________________________________________________________________________________\n",
      "conv1d_1 (Conv1D)               (None, 198, 512)     154112      embedding[0][0]                  \n",
      "__________________________________________________________________________________________________\n",
      "conv1d_2 (Conv1D)               (None, 197, 512)     205312      embedding[0][0]                  \n",
      "__________________________________________________________________________________________________\n",
      "conv1d_3 (Conv1D)               (None, 196, 512)     256512      embedding[0][0]                  \n",
      "__________________________________________________________________________________________________\n",
      "global_max_pooling1d (GlobalMax (None, 512)          0           conv1d[0][0]                     \n",
      "__________________________________________________________________________________________________\n",
      "global_max_pooling1d_1 (GlobalM (None, 512)          0           conv1d_1[0][0]                   \n",
      "__________________________________________________________________________________________________\n",
      "global_max_pooling1d_2 (GlobalM (None, 512)          0           conv1d_2[0][0]                   \n",
      "__________________________________________________________________________________________________\n",
      "global_max_pooling1d_3 (GlobalM (None, 512)          0           conv1d_3[0][0]                   \n",
      "__________________________________________________________________________________________________\n",
      "concatenate (Concatenate)       (None, 2048)         0           global_max_pooling1d[0][0]       \n",
      "                                                                 global_max_pooling1d_1[0][0]     \n",
      "                                                                 global_max_pooling1d_2[0][0]     \n",
      "                                                                 global_max_pooling1d_3[0][0]     \n",
      "__________________________________________________________________________________________________\n",
      "dropout (Dropout)               (None, 2048)         0           concatenate[0][0]                \n",
      "__________________________________________________________________________________________________\n",
      "dense (Dense)                   (None, 512)          1049088     dropout[0][0]                    \n",
      "__________________________________________________________________________________________________\n",
      "batch_normalization (BatchNorma (None, 512)          2048        dense[0][0]                      \n",
      "__________________________________________________________________________________________________\n",
      "dropout_1 (Dropout)             (None, 512)          0           batch_normalization[0][0]        \n",
      "__________________________________________________________________________________________________\n",
      "crc (Dense)                     (None, 632)          324216      dropout_1[0][0]                  \n",
      "==================================================================================================\n",
      "Total params: 23,476,900\n",
      "Trainable params: 2,093,176\n",
      "Non-trainable params: 21,383,724\n",
      "__________________________________________________________________________________________________\n"
     ]
    }
   ],
   "source": [
    "model.summary()"
   ]
  },
  {
   "cell_type": "markdown",
   "metadata": {
    "colab_type": "text",
    "id": "gko7RBnhMnxX"
   },
   "source": [
    "### CNN model on CPC subclass level"
   ]
  },
  {
   "cell_type": "code",
   "execution_count": 30,
   "metadata": {
    "colab": {
     "base_uri": "https://localhost:8080/",
     "height": 102
    },
    "colab_type": "code",
    "executionInfo": {
     "elapsed": 257882,
     "status": "ok",
     "timestamp": 1575591774497,
     "user": {
      "displayName": "Kevin Stone",
      "photoUrl": "https://lh3.googleusercontent.com/a-/AAuE7mB_F1aTWES42TZp6qM-xcGSD-laeqndzdfj4AhG=s64",
      "userId": "14672561394201275022"
     },
     "user_tz": 480
    },
    "id": "FcUd2VSBAYdJ",
    "outputId": "ab54ba0f-a14d-4570-c51d-6c2c87ac9462"
   },
   "outputs": [
    {
     "name": "stdout",
     "output_type": "stream",
     "text": [
      "WARNING:tensorflow:From /home/alexmue/anaconda3/lib/python3.7/site-packages/tensorflow_core/python/ops/nn_impl.py:183: where (from tensorflow.python.ops.array_ops) is deprecated and will be removed in a future version.\n",
      "Instructions for updating:\n",
      "Use tf.where in 2.0, which has the same broadcast rule as np.where\n"
     ]
    }
   ],
   "source": [
    "model.compile(loss=weighted_bce,\n",
    "              optimizer='adam',\n",
    "              metrics=[f1,\n",
    "                      tf.keras.metrics.Precision(name='precision'),\n",
    "                      tf.keras.metrics.Precision(name='precision_1', top_k=1),\n",
    "                      tf.keras.metrics.Recall(name='recall'),\n",
    "                      tf.keras.metrics.Recall(name='recall_5', top_k=5)])"
   ]
  },
  {
   "cell_type": "code",
   "execution_count": 31,
   "metadata": {
    "colab": {
     "base_uri": "https://localhost:8080/",
     "height": 224
    },
    "colab_type": "code",
    "executionInfo": {
     "elapsed": 56030,
     "status": "ok",
     "timestamp": 1575592219244,
     "user": {
      "displayName": "Kevin Stone",
      "photoUrl": "https://lh3.googleusercontent.com/a-/AAuE7mB_F1aTWES42TZp6qM-xcGSD-laeqndzdfj4AhG=s64",
      "userId": "14672561394201275022"
     },
     "user_tz": 480
    },
    "id": "EQ85KvCPkeXq",
    "outputId": "1e0d34e1-136c-4820-9fe9-7bff448913ef"
   },
   "outputs": [
    {
     "name": "stdout",
     "output_type": "stream",
     "text": [
      "Train on 1600117 samples, validate on 400030 samples\n",
      "Epoch 1/5\n",
      "1600117/1600117 [==============================] - 397s 248us/sample - loss: 0.0152 - f1: 0.4242 - precision: 0.2571 - precision_1: 0.4990 - recall: 0.3523 - recall_5: 0.6805 - val_loss: 0.0092 - val_f1: 0.5143 - val_precision: 0.6360 - val_precision_1: 0.5889 - val_recall: 0.4319 - val_recall_5: 0.7751\n",
      "Epoch 2/5\n",
      "1600117/1600117 [==============================] - 377s 235us/sample - loss: 0.0098 - f1: 0.5006 - precision: 0.5944 - precision_1: 0.5760 - recall: 0.4328 - recall_5: 0.7564 - val_loss: 0.0086 - val_f1: 0.5400 - val_precision: 0.6511 - val_precision_1: 0.6169 - val_recall: 0.4613 - val_recall_5: 0.7967\n",
      "Epoch 3/5\n",
      "1600117/1600117 [==============================] - 376s 235us/sample - loss: 0.0094 - f1: 0.5179 - precision: 0.6048 - precision_1: 0.5940 - recall: 0.4532 - recall_5: 0.7721 - val_loss: 0.0084 - val_f1: 0.5536 - val_precision: 0.6427 - val_precision_1: 0.6253 - val_recall: 0.4862 - val_recall_5: 0.8059\n",
      "Epoch 4/5\n",
      "1600117/1600117 [==============================] - 376s 235us/sample - loss: 0.0091 - f1: 0.5282 - precision: 0.6106 - precision_1: 0.6046 - recall: 0.4658 - recall_5: 0.7817 - val_loss: 0.0082 - val_f1: 0.5575 - val_precision: 0.6556 - val_precision_1: 0.6318 - val_recall: 0.4850 - val_recall_5: 0.8106\n",
      "Epoch 5/5\n",
      "1600117/1600117 [==============================] - 376s 235us/sample - loss: 0.0089 - f1: 0.5354 - precision: 0.6146 - precision_1: 0.6124 - recall: 0.4746 - recall_5: 0.7885 - val_loss: 0.0081 - val_f1: 0.5643 - val_precision: 0.6469 - val_precision_1: 0.6370 - val_recall: 0.5004 - val_recall_5: 0.8147\n"
     ]
    }
   ],
   "source": [
    "history3 = model.fit(X_train, y_train,\n",
    "          batch_size=128,\n",
    "          epochs=5,\n",
    "          validation_data=(X_test, y_test))"
   ]
  },
  {
   "cell_type": "markdown",
   "metadata": {
    "colab_type": "text",
    "id": "-YEPdDR0_i7x"
   },
   "source": [
    "### CNN model evaluation"
   ]
  },
  {
   "cell_type": "code",
   "execution_count": 32,
   "metadata": {
    "colab": {
     "base_uri": "https://localhost:8080/",
     "height": 51
    },
    "colab_type": "code",
    "executionInfo": {
     "elapsed": 10013,
     "status": "ok",
     "timestamp": 1575592245828,
     "user": {
      "displayName": "Kevin Stone",
      "photoUrl": "https://lh3.googleusercontent.com/a-/AAuE7mB_F1aTWES42TZp6qM-xcGSD-laeqndzdfj4AhG=s64",
      "userId": "14672561394201275022"
     },
     "user_tz": 480
    },
    "id": "EoYCLoR3G3Wm",
    "outputId": "a116fcfe-ba7d-45a3-9964-de5b6d58f4dd"
   },
   "outputs": [
    {
     "name": "stdout",
     "output_type": "stream",
     "text": [
      "400030/400030 [==============================] - 49s 122us/sample - loss: 0.0081 - f1: 0.5644 - precision: 0.6469 - precision_1: 0.6370 - recall: 0.5004 - recall_5: 0.8147\n"
     ]
    },
    {
     "data": {
      "text/plain": [
       "[0.008138911377847086, 0.564383, 0.6469483, 0.6369822, 0.5003639, 0.81471944]"
      ]
     },
     "execution_count": 32,
     "metadata": {},
     "output_type": "execute_result"
    }
   ],
   "source": [
    "score = model.evaluate(X_test, y_test, verbose=1)\n",
    "score"
   ]
  },
  {
   "cell_type": "code",
   "execution_count": 33,
   "metadata": {
    "colab": {},
    "colab_type": "code",
    "id": "bY9wXzAR9r0b"
   },
   "outputs": [],
   "source": [
    "def plot_metric(hist, metrics, title):\n",
    "  for metric in metrics:\n",
    "    metric_to_plot = hist[metric]\n",
    "    plt.plot(metric_to_plot, label=metric)\n",
    "  plt.title(title)\n",
    "  plt.legend()\n",
    "  plt.xlabel(\"epoch\")\n",
    "  plt.ylabel(\"metric\")\n"
   ]
  },
  {
   "cell_type": "code",
   "execution_count": 34,
   "metadata": {
    "colab": {
     "base_uri": "https://localhost:8080/",
     "height": 296
    },
    "colab_type": "code",
    "executionInfo": {
     "elapsed": 1799,
     "status": "ok",
     "timestamp": 1575592247643,
     "user": {
      "displayName": "Kevin Stone",
      "photoUrl": "https://lh3.googleusercontent.com/a-/AAuE7mB_F1aTWES42TZp6qM-xcGSD-laeqndzdfj4AhG=s64",
      "userId": "14672561394201275022"
     },
     "user_tz": 480
    },
    "id": "t6mV0hfWN8kX",
    "outputId": "f1ba55b3-233e-4caf-b340-625ac55e1318"
   },
   "outputs": [
    {
     "data": {
      "image/png": "[encoded data removed]",
      "text/plain": [
       "<Figure size 432x288 with 1 Axes>"
      ]
     },
     "metadata": {
      "needs_background": "light"
     },
     "output_type": "display_data"
    }
   ],
   "source": [
    "plot_metric(history3.history, [\"f1\", \"precision\", \"recall\", \"val_f1\", \"val_precision\", \"val_recall\"], \"CNN - metrics by training epoch\")"
   ]
  },
  {
   "cell_type": "markdown",
   "metadata": {
    "colab_type": "text",
    "id": "B6dn-bMtwnOv"
   },
   "source": [
    "# Analysis of Results"
   ]
  },
  {
   "cell_type": "code",
   "execution_count": 35,
   "metadata": {
    "colab": {},
    "colab_type": "code",
    "id": "hJqe9s3NxfM7"
   },
   "outputs": [],
   "source": [
    "def convert_to_0_1_1D(a):\n",
    "  \"\"\"Return row - for each val in row: 1 if val > 0.5, else 0\"\"\"\n",
    "  return np.round(a).astype(int)\n",
    "  # return binarize(a.reshape(1,-1), threshold=0.4).astype(int)\n",
    "\n",
    "def convert_to_0_1_2D(y):\n",
    "  return np.apply_along_axis(convert_to_0_1_1D, 0, y)\n",
    "\n",
    "def partial_or_exact_match(y1, y2):\n",
    "  return sum(y1 & y2)"
   ]
  },
  {
   "cell_type": "code",
   "execution_count": 36,
   "metadata": {
    "colab": {},
    "colab_type": "code",
    "id": "bpt36cgqDaUX"
   },
   "outputs": [],
   "source": [
    "y_pred = model.predict(X_test)\n",
    "y_pred_0_1 = convert_to_0_1_2D(y_pred)"
   ]
  },
  {
   "cell_type": "code",
   "execution_count": 37,
   "metadata": {
    "colab": {
     "base_uri": "https://localhost:8080/",
     "height": 350
    },
    "colab_type": "code",
    "executionInfo": {
     "elapsed": 1851,
     "status": "ok",
     "timestamp": 1575593038032,
     "user": {
      "displayName": "Kevin Stone",
      "photoUrl": "https://lh3.googleusercontent.com/a-/AAuE7mB_F1aTWES42TZp6qM-xcGSD-laeqndzdfj4AhG=s64",
      "userId": "14672561394201275022"
     },
     "user_tz": 480
    },
    "id": "XkYJgQ8MoBli",
    "outputId": "2f59a69b-4102-4432-f963-7e7e787b4c8a"
   },
   "outputs": [
    {
     "data": {
      "image/png": "[encoded data removed]",
      "text/plain": [
       "<Figure size 720x360 with 1 Axes>"
      ]
     },
     "metadata": {
      "needs_background": "light"
     },
     "output_type": "display_data"
    }
   ],
   "source": [
    "# Plot histogram of number of CRC labels per patent for y\n",
    "plt.style.use('bmh')\n",
    "fig, axes = plt.subplots(nrows=1, ncols=1, figsize=(10, 5))\n",
    "num_crc_per_patent = np.sort(np.sum(y, axis=1))\n",
    "pd.DataFrame(num_crc_per_patent, columns=['Number of CRC Labels Per Patent for Y (all)']).hist(bins=50, ax=axes)\n",
    "axes.set_yscale('log')\n",
    "axes.set_xlabel('Number of CRC labels')\n",
    "axes.set_ylabel('Number of Patents')\n",
    "axes.yaxis.set_major_formatter(ticker.FuncFormatter(lambda x, p: format(int(x), ',')))\n",
    "axes.xaxis.set_major_locator(ticker.MultipleLocator(1))\n",
    "pass"
   ]
  },
  {
   "cell_type": "code",
   "execution_count": 38,
   "metadata": {
    "colab": {
     "base_uri": "https://localhost:8080/",
     "height": 350
    },
    "colab_type": "code",
    "executionInfo": {
     "elapsed": 1710,
     "status": "ok",
     "timestamp": 1575593055000,
     "user": {
      "displayName": "Kevin Stone",
      "photoUrl": "https://lh3.googleusercontent.com/a-/AAuE7mB_F1aTWES42TZp6qM-xcGSD-laeqndzdfj4AhG=s64",
      "userId": "14672561394201275022"
     },
     "user_tz": 480
    },
    "id": "l5rb6oMgoT80",
    "outputId": "5746fe98-a7a9-4e1c-b679-58034a62dda7"
   },
   "outputs": [
    {
     "data": {
      "image/png": "[encoded data removed]",
      "text/plain": [
       "<Figure size 720x360 with 1 Axes>"
      ]
     },
     "metadata": {
      "needs_background": "light"
     },
     "output_type": "display_data"
    }
   ],
   "source": [
    "# Plot histogram of number of CRC labels per patent for y_test\n",
    "plt.style.use('bmh')\n",
    "fig, axes = plt.subplots(nrows=1, ncols=1, figsize=(10, 5))\n",
    "num_crc_per_patent = np.sort(np.sum(y_test, axis=1))\n",
    "pd.DataFrame(num_crc_per_patent, columns=['Number of CRC Labels Per Patent for Y_test']).hist(bins=50, ax=axes)\n",
    "axes.set_yscale('log')\n",
    "axes.set_xlabel('Number of CRC labels')\n",
    "axes.set_ylabel('Number of Patents')\n",
    "axes.yaxis.set_major_formatter(ticker.FuncFormatter(lambda x, p: format(int(x), ',')))\n",
    "axes.xaxis.set_major_locator(ticker.MultipleLocator(1))\n",
    "pass"
   ]
  },
  {
   "cell_type": "code",
   "execution_count": 39,
   "metadata": {
    "colab": {
     "base_uri": "https://localhost:8080/",
     "height": 350
    },
    "colab_type": "code",
    "executionInfo": {
     "elapsed": 1597,
     "status": "ok",
     "timestamp": 1575593072008,
     "user": {
      "displayName": "Kevin Stone",
      "photoUrl": "https://lh3.googleusercontent.com/a-/AAuE7mB_F1aTWES42TZp6qM-xcGSD-laeqndzdfj4AhG=s64",
      "userId": "14672561394201275022"
     },
     "user_tz": 480
    },
    "id": "L61kl-YKnpFR",
    "outputId": "fc11cf37-5b64-4504-9255-19f5c45bf74b"
   },
   "outputs": [
    {
     "data": {
      "image/png": "[encoded data removed]",
      "text/plain": [
       "<Figure size 720x360 with 1 Axes>"
      ]
     },
     "metadata": {
      "needs_background": "light"
     },
     "output_type": "display_data"
    }
   ],
   "source": [
    "# Plot histogram of number of CRC labels per patent for y_pred\n",
    "plt.style.use('bmh')\n",
    "fig, axes = plt.subplots(nrows=1, ncols=1, figsize=(10, 5))\n",
    "num_crc_per_patent = np.sort(np.sum(convert_to_0_1_2D(y_pred), axis=1))\n",
    "pd.DataFrame(num_crc_per_patent, columns=['Number of CRC Labels Per Patent for Y_Pred']).hist(bins=50, ax=axes)\n",
    "axes.set_yscale('log')\n",
    "axes.set_xlabel('Number of CRC labels')\n",
    "axes.set_ylabel('Number of Patents')\n",
    "axes.yaxis.set_major_formatter(ticker.FuncFormatter(lambda x, p: format(int(x), ',')))\n",
    "axes.xaxis.set_major_locator(ticker.MultipleLocator(1))\n",
    "\n",
    "pass"
   ]
  },
  {
   "cell_type": "code",
   "execution_count": 40,
   "metadata": {
    "colab": {},
    "colab_type": "code",
    "id": "31FLT2t7X-hI"
   },
   "outputs": [],
   "source": [
    "# Determine exact and partial matches\n",
    "exact_matches = []\n",
    "partial_matches = []\n",
    "\n",
    "for i in range(len(y_pred)):\n",
    "  y1 = y_test[i]\n",
    "  y2 = convert_to_0_1_1D(y_pred[i])\n",
    "  if np.array_equal(y1, y2):\n",
    "    exact_matches.append(i)\n",
    "  elif partial_or_exact_match(y1, y2):\n",
    "     # only partial matches because exact matches get filtered out in the code above\n",
    "    partial_matches.append(i)"
   ]
  },
  {
   "cell_type": "code",
   "execution_count": 41,
   "metadata": {
    "colab": {
     "base_uri": "https://localhost:8080/",
     "height": 68
    },
    "colab_type": "code",
    "executionInfo": {
     "elapsed": 5572,
     "status": "ok",
     "timestamp": 1575593125433,
     "user": {
      "displayName": "Kevin Stone",
      "photoUrl": "https://lh3.googleusercontent.com/a-/AAuE7mB_F1aTWES42TZp6qM-xcGSD-laeqndzdfj4AhG=s64",
      "userId": "14672561394201275022"
     },
     "user_tz": 480
    },
    "id": "fQ3fmJjEybop",
    "outputId": "85aa6c3e-1743-4d4a-e59b-d41917fbeba1"
   },
   "outputs": [
    {
     "name": "stdout",
     "output_type": "stream",
     "text": [
      "Number of exact matches between y_pred & y_test: 154054\n",
      "Number of partial matches between y_pred & y_test: 95137\n",
      "Total number of possible matches between y_pred & y_test: 400030\n"
     ]
    }
   ],
   "source": [
    "print(f\"Number of exact matches between y_pred & y_test: {len(exact_matches)}\")\n",
    "print(f\"Number of partial matches between y_pred & y_test: {len(partial_matches)}\")\n",
    "print(f\"Total number of possible matches between y_pred & y_test: {len(y_pred)}\")"
   ]
  },
  {
   "cell_type": "code",
   "execution_count": 42,
   "metadata": {
    "colab": {
     "base_uri": "https://localhost:8080/",
     "height": 68
    },
    "colab_type": "code",
    "executionInfo": {
     "elapsed": 1454,
     "status": "ok",
     "timestamp": 1575593359931,
     "user": {
      "displayName": "Kevin Stone",
      "photoUrl": "https://lh3.googleusercontent.com/a-/AAuE7mB_F1aTWES42TZp6qM-xcGSD-laeqndzdfj4AhG=s64",
      "userId": "14672561394201275022"
     },
     "user_tz": 480
    },
    "id": "Q6_4r4om4Lvs",
    "outputId": "7d6c6f95-3654-436c-bcd4-2bf1b642b9bc"
   },
   "outputs": [
    {
     "name": "stdout",
     "output_type": "stream",
     "text": [
      "Ave number of labels per patent for y_test: 1.34\n",
      "Ave number of labels per patent for y_pred: 1.04\n",
      "Number of patents in which no labels were predicted: 79,982 out of 400,030\n"
     ]
    }
   ],
   "source": [
    "print(f\"Ave number of labels per patent for y_test: {round(sum(sum(y_test))/len(y_test),2)}\")\n",
    "print(f\"Ave number of labels per patent for y_pred: {round(sum(sum(y_pred_0_1))/len(y_pred_0_1),2)}\")\n",
    "\n",
    "# Find number of predictions in which no labels were predicted\n",
    "print(f\"Number of patents in which no labels were predicted: {len(y_pred_0_1) - np.count_nonzero(np.sum(y_pred_0_1, axis=1)):,} out of {len(y_pred_0_1):,}\")"
   ]
  },
  {
   "cell_type": "code",
   "execution_count": 43,
   "metadata": {
    "colab": {},
    "colab_type": "code",
    "id": "wodFe3HZAgNR"
   },
   "outputs": [
    {
     "data": {
      "text/html": [
       "<div>\n",
       "<style scoped>\n",
       "    .dataframe tbody tr th:only-of-type {\n",
       "        vertical-align: middle;\n",
       "    }\n",
       "\n",
       "    .dataframe tbody tr th {\n",
       "        vertical-align: top;\n",
       "    }\n",
       "\n",
       "    .dataframe thead th {\n",
       "        text-align: right;\n",
       "    }\n",
       "</style>\n",
       "<table border=\"1\" class=\"dataframe\">\n",
       "  <thead>\n",
       "    <tr style=\"text-align: right;\">\n",
       "      <th></th>\n",
       "      <th>Abstract</th>\n",
       "      <th>No</th>\n",
       "      <th>Subclass_labels</th>\n",
       "      <th>Title</th>\n",
       "      <th>tokens</th>\n",
       "    </tr>\n",
       "  </thead>\n",
       "  <tbody>\n",
       "    <tr>\n",
       "      <th>114940</th>\n",
       "      <td>a security case includes a shell formed of a w...</td>\n",
       "      <td>US07528733</td>\n",
       "      <td>[G08B]</td>\n",
       "      <td>security case and method of manufacture</td>\n",
       "      <td>[a, security, case, includes, a, shell, formed...</td>\n",
       "    </tr>\n",
       "    <tr>\n",
       "      <th>2962</th>\n",
       "      <td>cd storage device is disclosed which includes ...</td>\n",
       "      <td>US07505259</td>\n",
       "      <td>[H05K, G11B]</td>\n",
       "      <td>cd rom storage device</td>\n",
       "      <td>[cd, storage, device, is, disclosed, which, in...</td>\n",
       "    </tr>\n",
       "    <tr>\n",
       "      <th>139416</th>\n",
       "      <td>an ice cream maker including a blade arranged ...</td>\n",
       "      <td>US07878021</td>\n",
       "      <td>[A23G]</td>\n",
       "      <td>simplified ice cream maker</td>\n",
       "      <td>[an, ice, cream, maker, including, a, blade, a...</td>\n",
       "    </tr>\n",
       "    <tr>\n",
       "      <th>219158</th>\n",
       "      <td>a method for producing a suspension emulsion o...</td>\n",
       "      <td>US08709460</td>\n",
       "      <td>[A01N]</td>\n",
       "      <td>chemical method of making a suspension emulsio...</td>\n",
       "      <td>[a, method, for, producing, a, suspension, emu...</td>\n",
       "    </tr>\n",
       "    <tr>\n",
       "      <th>17927</th>\n",
       "      <td>a household appliance configured to communicat...</td>\n",
       "      <td>US08942835</td>\n",
       "      <td>[H02J, G06F, D06F, H04L]</td>\n",
       "      <td>system and method of operating household appli...</td>\n",
       "      <td>[a, household, appliance, configured, to, comm...</td>\n",
       "    </tr>\n",
       "  </tbody>\n",
       "</table>\n",
       "</div>"
      ],
      "text/plain": [
       "                                                 Abstract          No  \\\n",
       "114940  a security case includes a shell formed of a w...  US07528733   \n",
       "2962    cd storage device is disclosed which includes ...  US07505259   \n",
       "139416  an ice cream maker including a blade arranged ...  US07878021   \n",
       "219158  a method for producing a suspension emulsion o...  US08709460   \n",
       "17927   a household appliance configured to communicat...  US08942835   \n",
       "\n",
       "                 Subclass_labels  \\\n",
       "114940                    [G08B]   \n",
       "2962                [H05K, G11B]   \n",
       "139416                    [A23G]   \n",
       "219158                    [A01N]   \n",
       "17927   [H02J, G06F, D06F, H04L]   \n",
       "\n",
       "                                                    Title  \\\n",
       "114940            security case and method of manufacture   \n",
       "2962                                cd rom storage device   \n",
       "139416                         simplified ice cream maker   \n",
       "219158  chemical method of making a suspension emulsio...   \n",
       "17927   system and method of operating household appli...   \n",
       "\n",
       "                                                   tokens  \n",
       "114940  [a, security, case, includes, a, shell, formed...  \n",
       "2962    [cd, storage, device, is, disclosed, which, in...  \n",
       "139416  [an, ice, cream, maker, including, a, blade, a...  \n",
       "219158  [a, method, for, producing, a, suspension, emu...  \n",
       "17927   [a, household, appliance, configured, to, comm...  "
      ]
     },
     "execution_count": 43,
     "metadata": {},
     "output_type": "execute_result"
    }
   ],
   "source": [
    "P_test_no_predicted_labels = P_test[np.where(np.sum(y_pred_0_1, axis=1) == 0, True, False)]\n",
    "P_test_no_predicted_labels.head()\n"
   ]
  },
  {
   "cell_type": "code",
   "execution_count": 44,
   "metadata": {
    "colab": {
     "base_uri": "https://localhost:8080/",
     "height": 80
    },
    "colab_type": "code",
    "executionInfo": {
     "elapsed": 806,
     "status": "ok",
     "timestamp": 1575593125875,
     "user": {
      "displayName": "Kevin Stone",
      "photoUrl": "https://lh3.googleusercontent.com/a-/AAuE7mB_F1aTWES42TZp6qM-xcGSD-laeqndzdfj4AhG=s64",
      "userId": "14672561394201275022"
     },
     "user_tz": 480
    },
    "id": "BjG_izUxCdxd",
    "outputId": "99542b6e-ff4d-4078-8f42-0695dd6805d5"
   },
   "outputs": [],
   "source": [
    "# P_test.loc[[45918]] # loc is row with the specified index value"
   ]
  },
  {
   "cell_type": "code",
   "execution_count": 45,
   "metadata": {
    "colab": {
     "base_uri": "https://localhost:8080/",
     "height": 111
    },
    "colab_type": "code",
    "executionInfo": {
     "elapsed": 1210,
     "status": "ok",
     "timestamp": 1575584341792,
     "user": {
      "displayName": "Kevin Stone",
      "photoUrl": "https://lh3.googleusercontent.com/a-/AAuE7mB_F1aTWES42TZp6qM-xcGSD-laeqndzdfj4AhG=s64",
      "userId": "14672561394201275022"
     },
     "user_tz": 480
    },
    "id": "pIA54IBqDV6T",
    "outputId": "cf65e632-5cc1-426f-f5da-465fdf02dca6"
   },
   "outputs": [],
   "source": [
    "# idx_val = np.where(P_test.index.values == 148568)[0][0]\n",
    "# P_test.iloc[[idx_val]] # iloc is actual row # specified"
   ]
  },
  {
   "cell_type": "code",
   "execution_count": 46,
   "metadata": {
    "colab": {},
    "colab_type": "code",
    "id": "jRGywy4J8L_K"
   },
   "outputs": [],
   "source": [
    "kstone_testing = 0\n",
    "if kstone_testing == 1:\n",
    "  CRC_list = mlb.classes_\n",
    "  for idx_num in [45918, 148568, 46527, 291845, 250456]:\n",
    "    i = np.where(P_test.index.values == idx_num)[0][0]\n",
    "    print(f\"For Patent #{i} with labels {list(P_test.iloc[[i]]['Subclass_labels'])}:\\n\")\n",
    "    for threshold in [0.5, 0.4, 0.3, 0.2, 0.1, 0.05, 0.01]:\n",
    "      extra_num = sum(sum(binarize(y_pred[i].reshape(1,-1), threshold=threshold).astype(int) != np.round(y_pred[i]).astype(int)))\n",
    "      print(f\"Threshold: {threshold}, Additional number of labels: {extra_num}, labels: {CRC_list[binarize(y_pred[i].reshape(1,-1), threshold=threshold).astype(int).astype(bool)[0]]}\")\n",
    "    print(\"\")"
   ]
  },
  {
   "cell_type": "code",
   "execution_count": 47,
   "metadata": {
    "colab": {
     "base_uri": "https://localhost:8080/",
     "height": 85
    },
    "colab_type": "code",
    "executionInfo": {
     "elapsed": 709,
     "status": "ok",
     "timestamp": 1575593496734,
     "user": {
      "displayName": "Kevin Stone",
      "photoUrl": "https://lh3.googleusercontent.com/a-/AAuE7mB_F1aTWES42TZp6qM-xcGSD-laeqndzdfj4AhG=s64",
      "userId": "14672561394201275022"
     },
     "user_tz": 480
    },
    "id": "muaSMRQvFfGO",
    "outputId": "7bbbb85a-775f-4c63-8843-1d915aade8f7"
   },
   "outputs": [
    {
     "name": "stdout",
     "output_type": "stream",
     "text": [
      "Number of CRC labels that were part of an exact match: 391\n",
      "Number of CRC labels that were part of a partial match: 596\n",
      "Number of CRC labels that were part of an exact and/or partial match: 597\n",
      "Total Number of CRC labels in test set: 622\n"
     ]
    }
   ],
   "source": [
    "def matched_labels(df):\n",
    "  labels = []\n",
    "  for val in df:\n",
    "    for val2 in val:\n",
    "      labels.append(val2)\n",
    "  return labels, set(labels)\n",
    "\n",
    "# Number of unique CRC labels that were matched exactly\n",
    "t1, t1s = matched_labels(P_test.iloc[exact_matches,:]['Subclass_labels'])\n",
    "print(f\"Number of CRC labels that were part of an exact match: {len(t1s)}\")\n",
    "\n",
    "# Number of unique CRC labels that were partially matched\n",
    "t2, t2s = matched_labels(P_test.iloc[partial_matches,:]['Subclass_labels'])\n",
    "print(f\"Number of CRC labels that were part of a partial match: {len(t2s)}\")\n",
    "\n",
    "# Number of unique CRC labels that were exactly and/or partially matched exactly\n",
    "t1s_t2s = set(list(t1s) + list(t2s))\n",
    "print(f\"Number of CRC labels that were part of an exact and/or partial match: {len(t1s_t2s)}\")\n",
    "\n",
    "# Total number of unique CRC labels in test set\n",
    "t3, t3s = matched_labels(P_test['Subclass_labels'])\n",
    "print(f\"Total Number of CRC labels in test set: {len(t3s)}\")\n"
   ]
  },
  {
   "cell_type": "code",
   "execution_count": 48,
   "metadata": {
    "colab": {
     "base_uri": "https://localhost:8080/",
     "height": 153
    },
    "colab_type": "code",
    "executionInfo": {
     "elapsed": 18177,
     "status": "ok",
     "timestamp": 1575593517448,
     "user": {
      "displayName": "Kevin Stone",
      "photoUrl": "https://lh3.googleusercontent.com/a-/AAuE7mB_F1aTWES42TZp6qM-xcGSD-laeqndzdfj4AhG=s64",
      "userId": "14672561394201275022"
     },
     "user_tz": 480
    },
    "id": "EHdgS5_scxuh",
    "outputId": "7eb2a72a-ca19-43c3-844d-ccfdca35ab31"
   },
   "outputs": [
    {
     "name": "stdout",
     "output_type": "stream",
     "text": [
      "A> Recall: 0.59, Precision: 0.71, F1: 0.65, Num: 58400\n",
      "B> Recall: 0.31, Precision: 0.61, F1: 0.41, Num: 57740\n",
      "C> Recall: 0.43, Precision: 0.58, F1: 0.50, Num: 41138\n",
      "D> Recall: 0.25, Precision: 0.64, F1: 0.36, Num: 2438\n",
      "E> Recall: 0.32, Precision: 0.69, F1: 0.43, Num: 9519\n",
      "F> Recall: 0.38, Precision: 0.58, F1: 0.46, Num: 27173\n",
      "G> Recall: 0.56, Precision: 0.69, F1: 0.62, Num: 142986\n",
      "H> Recall: 0.55, Precision: 0.62, F1: 0.58, Num: 119198\n"
     ]
    }
   ],
   "source": [
    "# save list of CRC labels that aligns to one-hot encoding\n",
    "CRC_list = mlb.classes_\n",
    "\n",
    "def calc_PR(CRC_list, letter, y_true, y_pred):\n",
    "  '''\n",
    "  Returns mask of dimension # test examples by # of labels\n",
    "  '''\n",
    "  m = []\n",
    "  for CRC in CRC_list:\n",
    "    if CRC[0] == letter:\n",
    "      m.append(1)\n",
    "    else:\n",
    "      m.append(0)\n",
    "  mask = np.repeat([m], y_true.shape[0], axis=0)\n",
    "  recall    = sum(sum(mask * y_test * y_pred)) / sum(sum(mask * y_test))\n",
    "  precision = sum(sum(mask * y_test * y_pred)) / sum(sum(mask * y_pred))\n",
    "  f1 = 2*recall*precision/(recall + precision)\n",
    "\n",
    "  num_abstracts = sum([1 for X in np.sum(mask * y_test, axis=1) if X > 0])\n",
    "\n",
    "  print(f\"{letter}> Recall: {round(recall, 2):0.2f}, Precision: {round(precision, 2):0.2f}, F1: {round(f1, 2):0.2f}, Num: {num_abstracts}\")\n",
    "\n",
    "y_pred_0_1 = convert_to_0_1_2D(y_pred)\n",
    "for letter in ['A', 'B', 'C', 'D', 'E', 'F', 'G', 'H']:\n",
    "  calc_PR(CRC_list, letter, y_test, y_pred_0_1)\n"
   ]
  },
  {
   "cell_type": "code",
   "execution_count": 49,
   "metadata": {
    "colab": {
     "base_uri": "https://localhost:8080/",
     "height": 187
    },
    "colab_type": "code",
    "executionInfo": {
     "elapsed": 1231,
     "status": "ok",
     "timestamp": 1575593521203,
     "user": {
      "displayName": "Kevin Stone",
      "photoUrl": "https://lh3.googleusercontent.com/a-/AAuE7mB_F1aTWES42TZp6qM-xcGSD-laeqndzdfj4AhG=s64",
      "userId": "14672561394201275022"
     },
     "user_tz": 480
    },
    "id": "_swQ-lJ8Ku6a",
    "outputId": "0ece5c6e-41b7-4a27-e63b-dc3b994997d8"
   },
   "outputs": [
    {
     "data": {
      "text/plain": [
       "[['A01H', 2819, 3564, 0.79],\n",
       " ['H01L', 18288, 26344, 0.69],\n",
       " ['G03G', 2915, 4261, 0.68],\n",
       " ['A63B', 1682, 2476, 0.68],\n",
       " ['G10D', 200, 300, 0.67],\n",
       " ['G11B', 3624, 5474, 0.66],\n",
       " ['H01R', 2874, 4612, 0.62],\n",
       " ['H01M', 2185, 3515, 0.62],\n",
       " ['B41J', 2623, 4411, 0.59],\n",
       " ['G06F', 31382, 56452, 0.56]]"
      ]
     },
     "execution_count": 49,
     "metadata": {},
     "output_type": "execute_result"
    }
   ],
   "source": [
    "# Find % of exact matches by CRC (does not include partial matches)\n",
    "\n",
    "f1 = nltk.FreqDist(t1)\n",
    "f1mc = f1.most_common()\n",
    "\n",
    "f2 = nltk.FreqDist(t3)\n",
    "f2mc = f2.most_common()\n",
    "\n",
    "list1 = []\n",
    "for label1, num1 in f1mc:\n",
    "  for label2, num2 in f2mc:\n",
    "    if label1 == label2:\n",
    "      # print(f\"{label1}: # in exact match-{num1}, Total-{num2}, {round(100*num1/num2,2)}%\")\n",
    "      list1.append([label1, num1, num2, round(num1/num2,2)])\n",
    "      break\n",
    "\n",
    "list1.sort(key=lambda x:x[3], reverse=True)\n",
    "list1[:10]"
   ]
  },
  {
   "cell_type": "code",
   "execution_count": 50,
   "metadata": {
    "colab": {},
    "colab_type": "code",
    "id": "VUUDxwkhdu95"
   },
   "outputs": [],
   "source": [
    "# convert preditions to CRC labels\n",
    "t0 = convert_to_0_1_2D(y_pred).astype(bool)\n",
    "l1 = []\n",
    "for i in range(P_test.shape[0]):\n",
    "  if sum(t0[i]) > 0:\n",
    "    l1.append(list(CRC_list[t0[i]]))\n",
    "  else:\n",
    "    l1.append([\"\"])"
   ]
  },
  {
   "cell_type": "code",
   "execution_count": 51,
   "metadata": {
    "colab": {
     "base_uri": "https://localhost:8080/",
     "height": 119
    },
    "colab_type": "code",
    "executionInfo": {
     "elapsed": 1220,
     "status": "ok",
     "timestamp": 1575593608654,
     "user": {
      "displayName": "Kevin Stone",
      "photoUrl": "https://lh3.googleusercontent.com/a-/AAuE7mB_F1aTWES42TZp6qM-xcGSD-laeqndzdfj4AhG=s64",
      "userId": "14672561394201275022"
     },
     "user_tz": 480
    },
    "id": "_jgj7saTfIeg",
    "outputId": "85bebbc8-bc9f-4ec0-9782-f66e8b9a6ad5"
   },
   "outputs": [
    {
     "name": "stderr",
     "output_type": "stream",
     "text": [
      "/home/alexmue/anaconda3/lib/python3.7/site-packages/ipykernel_launcher.py:4: SettingWithCopyWarning: \n",
      "A value is trying to be set on a copy of a slice from a DataFrame.\n",
      "Try using .loc[row_indexer,col_indexer] = value instead\n",
      "\n",
      "See the caveats in the documentation: http://pandas.pydata.org/pandas-docs/stable/indexing.html#indexing-view-versus-copy\n",
      "  after removing the cwd from sys.path.\n"
     ]
    }
   ],
   "source": [
    "# Add predicted CRC labels to P_test dataframe\n",
    "l2 = pd.Series(l1)\n",
    "P_test.reset_index(inplace=True)\n",
    "P_test['Predicted_labels'] = l2\n",
    "P_test.set_index('index', inplace=True, drop=True)"
   ]
  },
  {
   "cell_type": "code",
   "execution_count": 52,
   "metadata": {
    "colab": {},
    "colab_type": "code",
    "id": "UNNgHQEDtQcl"
   },
   "outputs": [],
   "source": [
    "def analyze_CRC_prediction(df, y_test, y_pred, label):\n",
    "  '''\n",
    "  Returns...\n",
    "    rows from df in which label was predicted correctly\n",
    "    rows from df in which label was predicted incorrectly\n",
    "    Percent correctly predicted for label\n",
    "  '''\n",
    "  label_loc = list(CRC_list).index(label)\n",
    "  correct_rows_all = y_test * convert_to_0_1_2D(y_pred)\n",
    "  incorrect_rows_all = y_test * np.logical_not(convert_to_0_1_2D(y_pred))\n",
    "  pct_correct = sum(correct_rows_all[:,label_loc]) / sum(y_test[:,label_loc])\n",
    "  correct_rows_df = df[correct_rows_all[:,label_loc].astype(bool)] # labelled correctly\n",
    "  incorrect_rows_df = df[incorrect_rows_all[:,label_loc].astype(bool)] # not labelled correctly\n",
    "\n",
    "  return correct_rows_df, incorrect_rows_df, pct_correct\n",
    "\n",
    "correct_rows_A01H, incorrect_rows_A01H, pct_correct_A01H = analyze_CRC_prediction(P_test, y_test, y_pred, 'A01H')"
   ]
  },
  {
   "cell_type": "markdown",
   "metadata": {
    "colab_type": "text",
    "id": "PHeBEn8DKV2w"
   },
   "source": [
    "https://www.uspto.gov/web/patents/classification/cpc/html/cpc-A01H.html\n",
    "\n",
    "NEW PLANTS OR PROCESSES FOR OBTAINING THEM; PLANT REPRODUCTION BY TISSUE CULTURE TECHNIQUES\n",
    "\n",
    "This subclass covers all aspects related to new plants, including disease resistance, cold resistance and growth speed. In this subclass, angiosperms, i.e. flowering plants, are classified in group A01H 6/00 according to their botanic taxonomy and in group A01H 5/00 according to their plant parts, where disclosed.\n",
    "\n",
    "https://www.uspto.gov/web/patents/classification/cpc/html/cpc-C12N.html\n",
    "\n",
    "MICROORGANISMS OR ENZYMES; COMPOSITIONS THEREOF (biocides, pest repellants or attractants, or plant growth regulators, containing microorganisms, viruses, microbial fungi, enzymes, fermentates or substances produced by or extracted from microorganisms or animal material A01N 63/00; food compositions A21, A23; medicinal preparations A61K; chemical aspects of, or use of materials for, bandages, dressings, absorbent pads or surgical articles A61L; fertilisers C05); PROPAGATING, PRESERVING OR MAINTAINING MICROORGANISMS (preservation of living parts of humans or animals A01N 1/02); MUTATION OR GENETIC ENGINEERING; CULTURE MEDIA (microbiological testing media C12Q)"
   ]
  },
  {
   "cell_type": "code",
   "execution_count": 53,
   "metadata": {
    "colab": {
     "base_uri": "https://localhost:8080/",
     "height": 235
    },
    "colab_type": "code",
    "executionInfo": {
     "elapsed": 3652,
     "status": "ok",
     "timestamp": 1575593611102,
     "user": {
      "displayName": "Kevin Stone",
      "photoUrl": "https://lh3.googleusercontent.com/a-/AAuE7mB_F1aTWES42TZp6qM-xcGSD-laeqndzdfj4AhG=s64",
      "userId": "14672561394201275022"
     },
     "user_tz": 480
    },
    "id": "HJl15v6iBLuP",
    "outputId": "54005522-ff9b-4635-d75d-123f2cee02f1"
   },
   "outputs": [
    {
     "data": {
      "text/html": [
       "<div>\n",
       "<style scoped>\n",
       "    .dataframe tbody tr th:only-of-type {\n",
       "        vertical-align: middle;\n",
       "    }\n",
       "\n",
       "    .dataframe tbody tr th {\n",
       "        vertical-align: top;\n",
       "    }\n",
       "\n",
       "    .dataframe thead th {\n",
       "        text-align: right;\n",
       "    }\n",
       "</style>\n",
       "<table border=\"1\" class=\"dataframe\">\n",
       "  <thead>\n",
       "    <tr style=\"text-align: right;\">\n",
       "      <th></th>\n",
       "      <th>Subclass_labels</th>\n",
       "      <th>Predicted_labels</th>\n",
       "    </tr>\n",
       "    <tr>\n",
       "      <th>index</th>\n",
       "      <th></th>\n",
       "      <th></th>\n",
       "    </tr>\n",
       "  </thead>\n",
       "  <tbody>\n",
       "    <tr>\n",
       "      <th>134376</th>\n",
       "      <td>[A01H]</td>\n",
       "      <td>[A01H]</td>\n",
       "    </tr>\n",
       "    <tr>\n",
       "      <th>62620</th>\n",
       "      <td>[A01H]</td>\n",
       "      <td>[A01H]</td>\n",
       "    </tr>\n",
       "    <tr>\n",
       "      <th>137253</th>\n",
       "      <td>[A01H]</td>\n",
       "      <td>[A01H, C12N]</td>\n",
       "    </tr>\n",
       "    <tr>\n",
       "      <th>174390</th>\n",
       "      <td>[C12N, A01H]</td>\n",
       "      <td>[A01H, C12N]</td>\n",
       "    </tr>\n",
       "    <tr>\n",
       "      <th>220302</th>\n",
       "      <td>[C12N, A01H]</td>\n",
       "      <td>[A01H, C12N]</td>\n",
       "    </tr>\n",
       "  </tbody>\n",
       "</table>\n",
       "</div>"
      ],
      "text/plain": [
       "       Subclass_labels Predicted_labels\n",
       "index                                  \n",
       "134376          [A01H]           [A01H]\n",
       "62620           [A01H]           [A01H]\n",
       "137253          [A01H]     [A01H, C12N]\n",
       "174390    [C12N, A01H]     [A01H, C12N]\n",
       "220302    [C12N, A01H]     [A01H, C12N]"
      ]
     },
     "execution_count": 53,
     "metadata": {},
     "output_type": "execute_result"
    }
   ],
   "source": [
    "correct_rows_A01H.head()\n",
    "correct_rows_A01H.head().loc[:,['Subclass_labels', 'Predicted_labels']]"
   ]
  },
  {
   "cell_type": "code",
   "execution_count": 54,
   "metadata": {
    "colab": {
     "base_uri": "https://localhost:8080/",
     "height": 235
    },
    "colab_type": "code",
    "executionInfo": {
     "elapsed": 3644,
     "status": "ok",
     "timestamp": 1575593611102,
     "user": {
      "displayName": "Kevin Stone",
      "photoUrl": "https://lh3.googleusercontent.com/a-/AAuE7mB_F1aTWES42TZp6qM-xcGSD-laeqndzdfj4AhG=s64",
      "userId": "14672561394201275022"
     },
     "user_tz": 480
    },
    "id": "qarFn_ADRFL3",
    "outputId": "b2fd73e1-6b89-436f-8dad-ff2ceb0badf1"
   },
   "outputs": [
    {
     "data": {
      "text/html": [
       "<div>\n",
       "<style scoped>\n",
       "    .dataframe tbody tr th:only-of-type {\n",
       "        vertical-align: middle;\n",
       "    }\n",
       "\n",
       "    .dataframe tbody tr th {\n",
       "        vertical-align: top;\n",
       "    }\n",
       "\n",
       "    .dataframe thead th {\n",
       "        text-align: right;\n",
       "    }\n",
       "</style>\n",
       "<table border=\"1\" class=\"dataframe\">\n",
       "  <thead>\n",
       "    <tr style=\"text-align: right;\">\n",
       "      <th></th>\n",
       "      <th>Subclass_labels</th>\n",
       "      <th>Predicted_labels</th>\n",
       "    </tr>\n",
       "    <tr>\n",
       "      <th>index</th>\n",
       "      <th></th>\n",
       "      <th></th>\n",
       "    </tr>\n",
       "  </thead>\n",
       "  <tbody>\n",
       "    <tr>\n",
       "      <th>129384</th>\n",
       "      <td>[C12P, C07K, A01H]</td>\n",
       "      <td>[C07K, C12N]</td>\n",
       "    </tr>\n",
       "    <tr>\n",
       "      <th>118429</th>\n",
       "      <td>[A01H, C12N]</td>\n",
       "      <td>[C07H, C12N, C12P]</td>\n",
       "    </tr>\n",
       "    <tr>\n",
       "      <th>10250</th>\n",
       "      <td>[C07H, A01H, C12N]</td>\n",
       "      <td>[C12N]</td>\n",
       "    </tr>\n",
       "    <tr>\n",
       "      <th>272322</th>\n",
       "      <td>[A01H, C12N]</td>\n",
       "      <td>[C12N]</td>\n",
       "    </tr>\n",
       "    <tr>\n",
       "      <th>406</th>\n",
       "      <td>[A01H, C12N]</td>\n",
       "      <td>[C12N]</td>\n",
       "    </tr>\n",
       "  </tbody>\n",
       "</table>\n",
       "</div>"
      ],
      "text/plain": [
       "           Subclass_labels    Predicted_labels\n",
       "index                                         \n",
       "129384  [C12P, C07K, A01H]        [C07K, C12N]\n",
       "118429        [A01H, C12N]  [C07H, C12N, C12P]\n",
       "10250   [C07H, A01H, C12N]              [C12N]\n",
       "272322        [A01H, C12N]              [C12N]\n",
       "406           [A01H, C12N]              [C12N]"
      ]
     },
     "execution_count": 54,
     "metadata": {},
     "output_type": "execute_result"
    }
   ],
   "source": [
    "incorrect_rows_A01H.head()\n",
    "incorrect_rows_A01H.head().loc[:,['Subclass_labels', 'Predicted_labels']]"
   ]
  },
  {
   "cell_type": "code",
   "execution_count": 55,
   "metadata": {
    "colab": {
     "base_uri": "https://localhost:8080/",
     "height": 425
    },
    "colab_type": "code",
    "executionInfo": {
     "elapsed": 3638,
     "status": "ok",
     "timestamp": 1575593611103,
     "user": {
      "displayName": "Kevin Stone",
      "photoUrl": "https://lh3.googleusercontent.com/a-/AAuE7mB_F1aTWES42TZp6qM-xcGSD-laeqndzdfj4AhG=s64",
      "userId": "14672561394201275022"
     },
     "user_tz": 480
    },
    "id": "tEOx8neik6XI",
    "outputId": "72b50aa3-169f-4a2d-c69a-67a49ed5b97f"
   },
   "outputs": [
    {
     "name": "stdout",
     "output_type": "stream",
     "text": [
      "Example abstract when A01H correctly predicted...\n",
      "['a new and distinct hybrid of artichoke named ps h1860 characterized by its '\n",
      " 'numerous bud numbers fleshiness of bracts fleshiness of hearts and '\n",
      " 'uniformity of head shapes ability to bolt in warm summer conditions reduced '\n",
      " 'vernalization requirements allowing spring summer planting and fall '\n",
      " 'production']\n",
      "\n",
      "Example abstract when A01H was not predicted even though it should have been...\n",
      "['the present invention relates to the fields of molecular biology and plant '\n",
      " 'biology specifically the invention is directed to the methods for expressing '\n",
      " 'spider silk proteins in plants and the synthesis and purification of spider '\n",
      " 'silk proteins therefrom']\n"
     ]
    }
   ],
   "source": [
    "import pprint\n",
    "\n",
    "# Example abstract when A01H correctly predicted\n",
    "\n",
    "print(\"Example abstract when A01H correctly predicted...\")\n",
    "pp = pprint.PrettyPrinter(indent=1, width=80)\n",
    "pp.pprint(list(correct_rows_A01H.head(1)['Abstract']))\n",
    "print(\"\")\n",
    "\n",
    "# Example abstract when A01H incorrectly predicted\n",
    "\n",
    "print(\"Example abstract when A01H was not predicted even though it should have been...\")\n",
    "pp.pprint(list(incorrect_rows_A01H.head(1)['Abstract']))"
   ]
  },
  {
   "cell_type": "code",
   "execution_count": 56,
   "metadata": {
    "colab": {},
    "colab_type": "code",
    "id": "pU212qT5Vnwz"
   },
   "outputs": [],
   "source": [
    "def analyze_label_pairings(y):\n",
    "  '''\n",
    "  Returns array of counts for each label and their pairs\n",
    "  '''\n",
    "  pairs = []\n",
    "  for i in range(len(CRC_list)):\n",
    "    # Return rows where column corresponding to label has a 1\n",
    "    label_rows = y[y[:,i].astype(bool)]\n",
    "    pairs.append(list(np.sum(label_rows, axis=0)))\n",
    "\n",
    "  return np.array(pairs)"
   ]
  },
  {
   "cell_type": "code",
   "execution_count": 57,
   "metadata": {
    "colab": {
     "base_uri": "https://localhost:8080/",
     "height": 357
    },
    "colab_type": "code",
    "executionInfo": {
     "elapsed": 9753,
     "status": "ok",
     "timestamp": 1575593617231,
     "user": {
      "displayName": "Kevin Stone",
      "photoUrl": "https://lh3.googleusercontent.com/a-/AAuE7mB_F1aTWES42TZp6qM-xcGSD-laeqndzdfj4AhG=s64",
      "userId": "14672561394201275022"
     },
     "user_tz": 480
    },
    "id": "wzqrV5q5Wk55",
    "outputId": "7f7abfa8-3479-42e3-937f-c3a1cfe48ec8"
   },
   "outputs": [
    {
     "name": "stdout",
     "output_type": "stream",
     "text": [
      "From y-test for A01H...\n",
      "Labels: ['A23K' 'A01G' 'A01N' 'C12Q' 'C12P' 'A23L' 'C07K' 'C07H' 'C12N' 'A01H']\n",
      "Counts: [  10   15   21   29   41   50  154  220 1573 3564]\n",
      "\n",
      "From y-pred for A01H predicted and other labels predicted...\n",
      "Labels: ['G01N' 'A01G' 'C12Q' 'A01N' 'C07K' 'A61K' 'C12P' 'C07H' 'C12N' 'A01H']\n",
      "Counts: [   2    3    3    6    6    8   64  259 1888 3678]\n",
      "\n",
      "From y-pred for A01H (A01H predicted correctly and other labels predicted)...\n",
      "Labels: ['B32B' 'G01N' 'C12Q' 'C07K' 'A01N' 'A61K' 'C12P' 'C07H' 'C12N' 'A01H']\n",
      "Counts: [   0    1    2    2    2    6   32  177 1662 3433]\n",
      "\n",
      "From y-pred for A01H (A01H predicted incorrectly and other labels predicted)...\n",
      "Labels: ['A01G' 'A01C' 'A01N' 'C12Q' 'A61K' 'C07K' 'C12P' 'C07H' 'C12N' 'A01H']\n",
      "Counts: [  2   3   6   7  12  18  25  31  80 131]\n",
      "\n",
      "From y-pred for A01H (A01H predicted correctly and other labels that were also predicted correctly)...\n",
      "From y-pred for A01H (A01H predicted incorrectly and other labels predicted incorrectly)...\n",
      "From y-pred for A01H (A01H predicted incorrectly and other labels predicted correctly)...\n",
      "\n"
     ]
    }
   ],
   "source": [
    "y_pred_0_1 = convert_to_0_1_2D(y_pred)\n",
    "\n",
    "# Find labels that are most commonly paired with A01H in y_test\n",
    "print(f\"From y-test for A01H...\")\n",
    "pairs_ytest = analyze_label_pairings(y_test)\n",
    "pairs_A01H = pairs_ytest[list(CRC_list).index('A01H')]\n",
    "print(f\"Labels: {CRC_list[pairs_A01H.argsort()[-10:]]}\")\n",
    "print(f\"Counts: {pairs_A01H[pairs_A01H.argsort()[-10:]]}\")\n",
    "print(\"\")\n",
    "\n",
    "# Find labels that are most commonly paired with A01H in y_pred\n",
    "print(f\"From y-pred for A01H predicted and other labels predicted...\")\n",
    "pairs_ypred = analyze_label_pairings(y_pred_0_1)\n",
    "pairs_A01H = pairs_ypred[list(CRC_list).index('A01H')]\n",
    "print(f\"Labels: {CRC_list[pairs_A01H.argsort()[-10:]]}\")\n",
    "print(f\"Counts: {pairs_A01H[pairs_A01H.argsort()[-10:]]}\")\n",
    "print(\"\")\n",
    "\n",
    "print(f\"From y-pred for A01H (A01H predicted correctly and other labels predicted)...\")\n",
    "# Create A01H correct mask\n",
    "A01H_loc = list(CRC_list).index('A01H')\n",
    "mask = np.ones(shape=y_test.shape, dtype=np.int8)\n",
    "mask[:,A01H_loc] = y_test[:,list(CRC_list).index('A01H')]\n",
    "pairs_ypred = analyze_label_pairings(mask * y_pred_0_1)\n",
    "pairs_A01H = pairs_ypred[list(CRC_list).index('A01H')]\n",
    "print(f\"Labels: {CRC_list[pairs_A01H.argsort()[-10:]]}\")\n",
    "print(f\"Counts: {pairs_A01H[pairs_A01H.argsort()[-10:]]}\")\n",
    "print(\"\")\n",
    "\n",
    "print(f\"From y-pred for A01H (A01H predicted incorrectly and other labels predicted)...\")\n",
    "A01H_loc = list(CRC_list).index('A01H')\n",
    "mask = np.ones(shape=y_test.shape, dtype=np.int8)\n",
    "mask[:,A01H_loc] = y_test[:,list(CRC_list).index('A01H')]\n",
    "y_pred_0_1x = convert_to_0_1_2D(y_pred)\n",
    "y_pred_0_1x[:,A01H_loc] = np.logical_not(y_pred_0_1)[:,A01H_loc]\n",
    "pairs_ypred = analyze_label_pairings(mask * y_pred_0_1x)\n",
    "pairs_A01H = pairs_ypred[list(CRC_list).index('A01H')]\n",
    "print(f\"Labels: {CRC_list[pairs_A01H.argsort()[-10:]]}\")\n",
    "print(f\"Counts: {pairs_A01H[pairs_A01H.argsort()[-10:]]}\")\n",
    "print(\"\")\n",
    "\n",
    "# Find labels that are most commonly paired with A01H in y_pred_correct\n",
    "print(f\"From y-pred for A01H (A01H predicted correctly and other labels that were also predicted correctly)...\")\n",
    "# pairs_ypred_correct = analyze_label_pairings(y_test * y_pred_0_1)\n",
    "# pairs_A01H_correct = pairs_ypred_correct[list(CRC_list).index('A01H')]\n",
    "# print(f\"Labels: {CRC_list[pairs_A01H_correct.argsort()[-10:]]}\")\n",
    "# print(f\"Counts: {pairs_A01H_correct[pairs_A01H_correct.argsort()[-10:]]}\")\n",
    "# print(\"\")\n",
    "\n",
    "# Find labels that are most commonly paired with A01H in y_pred_incorrect\n",
    "print(f\"From y-pred for A01H (A01H predicted incorrectly and other labels predicted incorrectly)...\")\n",
    "# pairs_ypred_incorrect = analyze_label_pairings(y_test * np.logical_not(y_pred_0_1))  \n",
    "# pairs_A01H_incorrect = pairs_ypred_incorrect[list(CRC_list).index('A01H')]\n",
    "# print(f\"Labels: {CRC_list[pairs_A01H_incorrect.argsort()[-10:]]}\")\n",
    "# print(f\"Counts: {pairs_A01H_incorrect[pairs_A01H_incorrect.argsort()[-10:]]}\")\n",
    "# print(\"\")\n",
    "\n",
    "print(f\"From y-pred for A01H (A01H predicted incorrectly and other labels predicted correctly)...\")\n",
    "print(\"\")\n"
   ]
  },
  {
   "cell_type": "markdown",
   "metadata": {
    "colab_type": "text",
    "id": "7ozFUOPEhLZR"
   },
   "source": [
    "For A01H, 610 correct labels in y_test. System predicted 558 of 610 correctly.  System predicted 24 A01H's (582-558) when no A01H label should have been predicted."
   ]
  },
  {
   "cell_type": "markdown",
   "metadata": {
    "colab_type": "text",
    "id": "vzhV6_SAtq90"
   },
   "source": [
    "## TF-IDF Analysis\n"
   ]
  },
  {
   "cell_type": "code",
   "execution_count": 106,
   "metadata": {
    "colab": {
     "base_uri": "https://localhost:8080/",
     "height": 51
    },
    "colab_type": "code",
    "executionInfo": {
     "elapsed": 29143,
     "status": "ok",
     "timestamp": 1575593636629,
     "user": {
      "displayName": "Kevin Stone",
      "photoUrl": "https://lh3.googleusercontent.com/a-/AAuE7mB_F1aTWES42TZp6qM-xcGSD-laeqndzdfj4AhG=s64",
      "userId": "14672561394201275022"
     },
     "user_tz": 480
    },
    "id": "lMpGpG-grtNE",
    "outputId": "b2b55eeb-1e54-47fd-d93e-af8c55761fd5"
   },
   "outputs": [
    {
     "name": "stdout",
     "output_type": "stream",
     "text": [
      "[nltk_data] Downloading package stopwords to /root/nltk_data...\n",
      "[nltk_data]   Package stopwords is already up-to-date!\n"
     ]
    }
   ],
   "source": [
    "# tfidfconverter = TfidfVectorizer(max_df=0.5)\n",
    "# X = tfidfconverter.fit_transform(list(patents['Abstract']))"
   ]
  },
  {
   "cell_type": "code",
   "execution_count": 6,
   "metadata": {
    "colab": {
     "base_uri": "https://localhost:8080/",
     "height": 34
    },
    "colab_type": "code",
    "executionInfo": {
     "elapsed": 2952,
     "status": "ok",
     "timestamp": 1575585873924,
     "user": {
      "displayName": "Kevin Stone",
      "photoUrl": "https://lh3.googleusercontent.com/a-/AAuE7mB_F1aTWES42TZp6qM-xcGSD-laeqndzdfj4AhG=s64",
      "userId": "14672561394201275022"
     },
     "user_tz": 480
    },
    "id": "RZc1uv9pN0-U",
    "outputId": "8be1dccd-cbac-4b86-af56-7028bb6a4fa6"
   },
   "outputs": [
    {
     "name": "stdout",
     "output_type": "stream",
     "text": [
      "Total number of CRC labels: 624\n"
     ]
    }
   ],
   "source": [
    "# Binarize labels into 1-hot encodings\n",
    "\n",
    "# CRC_labels = patents.Subclass_labels\n",
    "# mlb = MultiLabelBinarizer()\n",
    "# y = mlb.fit_transform(CRC_labels)\n",
    "# num_CRC_labels = len(y[0])\n",
    "# print(f\"Total number of CRC labels: {num_CRC_labels}\")"
   ]
  },
  {
   "cell_type": "code",
   "execution_count": 0,
   "metadata": {
    "colab": {},
    "colab_type": "code",
    "id": "LcvqFFbLSZto"
   },
   "outputs": [],
   "source": [
    "# from sklearn.model_selection import train_test_split\n",
    "# X_train, X_test, y_train, y_test = train_test_split(X, y, test_size=0.2, random_state=0)"
   ]
  },
  {
   "cell_type": "code",
   "execution_count": 0,
   "metadata": {
    "colab": {},
    "colab_type": "code",
    "id": "jT8x0bsGPKUN"
   },
   "outputs": [],
   "source": [
    "# classifier = RandomForestClassifier(n_estimators=100, random_state=0)\n",
    "# classifier.fit(X, y) "
   ]
  },
  {
   "cell_type": "code",
   "execution_count": 16,
   "metadata": {
    "colab": {
     "base_uri": "https://localhost:8080/",
     "height": 232
    },
    "colab_type": "code",
    "executionInfo": {
     "elapsed": 1236,
     "status": "error",
     "timestamp": 1575588126898,
     "user": {
      "displayName": "Kevin Stone",
      "photoUrl": "https://lh3.googleusercontent.com/a-/AAuE7mB_F1aTWES42TZp6qM-xcGSD-laeqndzdfj4AhG=s64",
      "userId": "14672561394201275022"
     },
     "user_tz": 480
    },
    "id": "48_l0hNQROei",
    "outputId": "789eef23-af5b-4f3f-c482-470437a1d6b1"
   },
   "outputs": [
    {
     "ename": "NameError",
     "evalue": "ignored",
     "output_type": "error",
     "traceback": [
      "\u001b[0;31m---------------------------------------------------------------------------\u001b[0m",
      "\u001b[0;31mNameError\u001b[0m                                 Traceback (most recent call last)",
      "\u001b[0;32m<ipython-input-16-967111d43e9d>\u001b[0m in \u001b[0;36m<module>\u001b[0;34m()\u001b[0m\n\u001b[0;32m----> 1\u001b[0;31m \u001b[0my_pred\u001b[0m \u001b[0;34m=\u001b[0m \u001b[0mclassifier\u001b[0m\u001b[0;34m.\u001b[0m\u001b[0mpredict\u001b[0m\u001b[0;34m(\u001b[0m\u001b[0mX\u001b[0m\u001b[0;34m)\u001b[0m\u001b[0;34m\u001b[0m\u001b[0;34m\u001b[0m\u001b[0m\n\u001b[0m\u001b[1;32m      2\u001b[0m \u001b[0;34m\u001b[0m\u001b[0m\n\u001b[1;32m      3\u001b[0m \u001b[0;32mfrom\u001b[0m \u001b[0msklearn\u001b[0m\u001b[0;34m.\u001b[0m\u001b[0mmetrics\u001b[0m \u001b[0;32mimport\u001b[0m \u001b[0mclassification_report\u001b[0m\u001b[0;34m,\u001b[0m \u001b[0mconfusion_matrix\u001b[0m\u001b[0;34m,\u001b[0m \u001b[0maccuracy_score\u001b[0m\u001b[0;34m\u001b[0m\u001b[0;34m\u001b[0m\u001b[0m\n\u001b[1;32m      4\u001b[0m \u001b[0;34m\u001b[0m\u001b[0m\n\u001b[1;32m      5\u001b[0m \u001b[0mprint\u001b[0m\u001b[0;34m(\u001b[0m\u001b[0mconfusion_matrix\u001b[0m\u001b[0;34m(\u001b[0m\u001b[0my_test\u001b[0m\u001b[0;34m,\u001b[0m\u001b[0my_pred\u001b[0m\u001b[0;34m)\u001b[0m\u001b[0;34m)\u001b[0m\u001b[0;34m\u001b[0m\u001b[0;34m\u001b[0m\u001b[0m\n",
      "\u001b[0;31mNameError\u001b[0m: name 'classifier' is not defined"
     ]
    }
   ],
   "source": [
    "# y_pred = classifier.predict(X)\n",
    "\n",
    "# print(confusion_matrix(y_test,y_pred))\n",
    "# print(classification_report(y_test,y_pred))\n",
    "# print(accuracy_score(y_test, y_pred))"
   ]
  },
  {
   "cell_type": "markdown",
   "metadata": {
    "colab_type": "text",
    "id": "fcCwc82n4aRR"
   },
   "source": [
    "## Scratch Work"
   ]
  },
  {
   "cell_type": "code",
   "execution_count": 74,
   "metadata": {
    "colab": {
     "base_uri": "https://localhost:8080/",
     "height": 204
    },
    "colab_type": "code",
    "executionInfo": {
     "elapsed": 541655,
     "status": "ok",
     "timestamp": 1575578163721,
     "user": {
      "displayName": "Kevin Stone",
      "photoUrl": "https://lh3.googleusercontent.com/a-/AAuE7mB_F1aTWES42TZp6qM-xcGSD-laeqndzdfj4AhG=s64",
      "userId": "14672561394201275022"
     },
     "user_tz": 480
    },
    "id": "67lFFoYyOJL4",
    "outputId": "401f6da0-2052-4971-a413-132568e4aa3b"
   },
   "outputs": [
    {
     "data": {
      "text/html": [
       "<div>\n",
       "<style scoped>\n",
       "    .dataframe tbody tr th:only-of-type {\n",
       "        vertical-align: middle;\n",
       "    }\n",
       "\n",
       "    .dataframe tbody tr th {\n",
       "        vertical-align: top;\n",
       "    }\n",
       "\n",
       "    .dataframe thead th {\n",
       "        text-align: right;\n",
       "    }\n",
       "</style>\n",
       "<table border=\"1\" class=\"dataframe\">\n",
       "  <thead>\n",
       "    <tr style=\"text-align: right;\">\n",
       "      <th></th>\n",
       "      <th>Subclass_labels</th>\n",
       "      <th>Abstract</th>\n",
       "      <th>Title</th>\n",
       "      <th>No</th>\n",
       "      <th>tokens</th>\n",
       "    </tr>\n",
       "  </thead>\n",
       "  <tbody>\n",
       "    <tr>\n",
       "      <th>0</th>\n",
       "      <td>[A61B, G09B]</td>\n",
       "      <td>a method is presented to address quantitative ...</td>\n",
       "      <td>method and system for quantitative assessment ...</td>\n",
       "      <td>US08777630</td>\n",
       "      <td>[a, method, is, presented, to, address, quanti...</td>\n",
       "    </tr>\n",
       "    <tr>\n",
       "      <th>1</th>\n",
       "      <td>[E21B]</td>\n",
       "      <td>in a method for drilling a borehole real time ...</td>\n",
       "      <td>method for drilling a borehole</td>\n",
       "      <td>US08857538</td>\n",
       "      <td>[in, a, method, for, drilling, a, borehole, re...</td>\n",
       "    </tr>\n",
       "    <tr>\n",
       "      <th>2</th>\n",
       "      <td>[C23C, H01J]</td>\n",
       "      <td>a magnetron actuator for moving a magnetron in...</td>\n",
       "      <td>homing device for magnetron rotating on two arms</td>\n",
       "      <td>US08900427</td>\n",
       "      <td>[a, magnetron, actuator, for, moving, a, magne...</td>\n",
       "    </tr>\n",
       "    <tr>\n",
       "      <th>3</th>\n",
       "      <td>[H05K, C23C, G06F]</td>\n",
       "      <td>a method of making a touch sensor assembly com...</td>\n",
       "      <td>touch sensor assembly and method of making the...</td>\n",
       "      <td>US08822833</td>\n",
       "      <td>[a, method, of, making, a, touch, sensor, asse...</td>\n",
       "    </tr>\n",
       "    <tr>\n",
       "      <th>4</th>\n",
       "      <td>[C07D, A61K, A61P]</td>\n",
       "      <td>provided herein are novel epoxide inhibitors o...</td>\n",
       "      <td>epoxide inhibitors of cysteine proteases</td>\n",
       "      <td>US08673904</td>\n",
       "      <td>[provided, herein, are, novel, epoxide, inhibi...</td>\n",
       "    </tr>\n",
       "  </tbody>\n",
       "</table>\n",
       "</div>"
      ],
      "text/plain": [
       "      Subclass_labels  ...                                             tokens\n",
       "0        [A61B, G09B]  ...  [a, method, is, presented, to, address, quanti...\n",
       "1              [E21B]  ...  [in, a, method, for, drilling, a, borehole, re...\n",
       "2        [C23C, H01J]  ...  [a, magnetron, actuator, for, moving, a, magne...\n",
       "3  [H05K, C23C, G06F]  ...  [a, method, of, making, a, touch, sensor, asse...\n",
       "4  [C07D, A61K, A61P]  ...  [provided, herein, are, novel, epoxide, inhibi...\n",
       "\n",
       "[5 rows x 5 columns]"
      ]
     },
     "execution_count": 74,
     "metadata": {
      "tags": []
     },
     "output_type": "execute_result"
    }
   ],
   "source": [
    "# patents.head()"
   ]
  },
  {
   "cell_type": "code",
   "execution_count": 0,
   "metadata": {
    "colab": {},
    "colab_type": "code",
    "id": "Tjn6NmrvQAKO"
   },
   "outputs": [],
   "source": [
    "kstone_testing = 0\n",
    "\n",
    "if kstone_testing == 1:\n",
    "  def matching_label_df(patents_df, label):\n",
    "    '''\n",
    "    Return dataframe of patents that contain label\n",
    "    '''\n",
    "    matching_list = [label in X for X in patents_df['Subclass_labels']]\n",
    "    return patents_df[matching_list]\n",
    "\n",
    "  # https://scikit-learn.org/stable/modules/feature_extraction.html#tfidf-term-weighting\n",
    "\n",
    "  def create_idf_dict(df):\n",
    "    vectorizer1 = TfidfVectorizer()\n",
    "    X = vectorizer1.fit_transform(list(df['Abstract']))\n",
    "    list_all = vectorizer1.get_feature_names()\n",
    "    # and idf calculated as ln((N+1)/(df + 1)) + 1 = ln(5/2) + 1 = 1.91629\n",
    "    idf_dict = {}\n",
    "    for word, idf_val in zip(list_all,vectorizer1.idf_):\n",
    "      idf_dict[word] = idf_val\n",
    "    return idf_dict"
   ]
  },
  {
   "cell_type": "code",
   "execution_count": 0,
   "metadata": {
    "colab": {},
    "colab_type": "code",
    "id": "2pi0AUx_QZzu"
   },
   "outputs": [],
   "source": [
    "if kstone_testing == 1:\n",
    "  AO1H_all_df = matching_label_df(P_test, 'A01H')\n",
    "  AO1H_exm_df = matching_label_df(P_test.iloc[exact_matches,:], 'A01H')\n",
    "  H04J_all_df = matching_label_df(P_test, 'H04J')\n",
    "  H04J_exm_df = matching_label_df(P_test.iloc[exact_matches,:], 'H04J')\n",
    "\n",
    "  idf_all_dict = create_idf_dict(P_test)\n",
    "  idf_A01H_all_dict = create_idf_dict(AO1H_all_df)\n",
    "  idf_A01H_exm_dict = create_idf_dict(AO1H_exm_df)\n",
    "  idf_H04J_all_dict = create_idf_dict(H04J_all_df)\n",
    "  idf_H04J_exm_dict = create_idf_dict(H04J_exm_df)\n",
    "\n",
    "  # Calc IDF_all / IDF_CRC for all words\n",
    "  def calc_idf_ratio(dict1, dict2, num_print=0):\n",
    "    idf_ratio_dict = defaultdict(lambda: 0)\n",
    "    for word in dict2.keys():\n",
    "      idf_ratio_dict[word] = dict1[word] / dict2[word]\n",
    "\n",
    "    if num_print > 0:\n",
    "      sorted_x = sorted(idf_ratio_dict.items(), key=operator.itemgetter(1), reverse=True)\n",
    "      print(*sorted_x[:num_print], sep=\"\\n\")\n",
    "      print()\n",
    "    return idf_ratio_dict\n",
    "\n",
    "  idf_ratio_dict = calc_idf_ratio(idf_all_dict, idf_A01H_all_dict, 25)\n",
    "  idf_ratio_dict = calc_idf_ratio(idf_all_dict, idf_A01H_exm_dict, 25)\n",
    "  idf_ratio_dict = calc_idf_ratio(idf_all_dict, idf_H04J_all_dict, 25)\n",
    "  idf_ratio_dict = calc_idf_ratio(idf_all_dict, idf_H04J_exm_dict, 25)"
   ]
  },
  {
   "cell_type": "code",
   "execution_count": 77,
   "metadata": {
    "colab": {
     "base_uri": "https://localhost:8080/",
     "height": 1000
    },
    "colab_type": "code",
    "executionInfo": {
     "elapsed": 545458,
     "status": "ok",
     "timestamp": 1575578167553,
     "user": {
      "displayName": "Kevin Stone",
      "photoUrl": "https://lh3.googleusercontent.com/a-/AAuE7mB_F1aTWES42TZp6qM-xcGSD-laeqndzdfj4AhG=s64",
      "userId": "14672561394201275022"
     },
     "user_tz": 480
    },
    "id": "aNVbtsZ9ghyK",
    "outputId": "2b425ffa-b8bc-4dcf-c433-e45380513b06"
   },
   "outputs": [
    {
     "name": "stdout",
     "output_type": "stream",
     "text": [
      "('plant', 4.372128949985305)\n",
      "('plants', 3.7924992696086965)\n",
      "('crossing', 3.1856240653329992)\n",
      "('variety', 3.1286420506245083)\n",
      "('seeds', 3.1069615135442166)\n",
      "('cultivar', 3.073370756706303)\n",
      "('habit', 2.9950693642470028)\n",
      "('designated', 2.9804085948177614)\n",
      "('named', 2.9476517681999703)\n",
      "('distinct', 2.907867843665081)\n",
      "('flowers', 2.892459118565836)\n",
      "('genetic', 2.8630645547098696)\n",
      "('seed', 2.8201006508901454)\n",
      "('produced', 2.737143625854371)\n",
      "('varieties', 2.6816360121247946)\n",
      "('soybean', 2.6603144972330783)\n",
      "('cultures', 2.650234973709479)\n",
      "('new', 2.6239989349325383)\n",
      "('hybrid', 2.553076161499554)\n",
      "('vigorous', 2.5424991921405984)\n",
      "('breeding', 2.5414511079319184)\n",
      "('flowering', 2.535907118539357)\n",
      "('transgenic', 2.5327096202112087)\n",
      "('producing', 2.508695894236098)\n",
      "('purple', 2.486894892849658)\n",
      "\n",
      "('plant', 4.663391035636017)\n",
      "('cultivar', 3.6455029339241998)\n",
      "('habit', 3.618870392308261)\n",
      "('named', 3.542394440653551)\n",
      "('distinct', 3.5129178731217245)\n",
      "('flowers', 3.486380191803211)\n",
      "('plants', 3.4183402497799418)\n",
      "('variety', 3.2118064253373966)\n",
      "('new', 3.187843444984795)\n",
      "('crossing', 3.076710760031674)\n",
      "('characterized', 3.0138258298282268)\n",
      "('seeds', 3.0104207067226345)\n",
      "('vigorous', 2.931296126851178)\n",
      "('designated', 2.926409432075309)\n",
      "('flowering', 2.906648504161439)\n",
      "('purple', 2.8815364548809574)\n",
      "('varieties', 2.8267781438240203)\n",
      "('soybean', 2.7736505320271663)\n",
      "('colored', 2.7461550291779004)\n",
      "('foliage', 2.715426417194492)\n",
      "('upright', 2.707412722971604)\n",
      "('produced', 2.6706093654986547)\n",
      "('genetic', 2.6425924015054645)\n",
      "('green', 2.639358031557077)\n",
      "('breeding', 2.628176788444743)\n",
      "\n",
      "('network', 1.9500858511707904)\n",
      "('transmission', 1.943490036932729)\n",
      "('division', 1.88590417302477)\n",
      "('multiplexing', 1.8776474229364335)\n",
      "('packet', 1.8405283221157354)\n",
      "('multiplexed', 1.822420753861352)\n",
      "('synchronization', 1.8140860853480436)\n",
      "('wireless', 1.812176358231023)\n",
      "('packets', 1.7758209143595727)\n",
      "('fdma', 1.7689141244828794)\n",
      "('station', 1.7556750548895437)\n",
      "('olt', 1.7519194150024686)\n",
      "('communication', 1.750703879745896)\n",
      "('pon', 1.7425978308645496)\n",
      "('uplink', 1.7400085320054997)\n",
      "('tdd', 1.7024182718700724)\n",
      "('roadm', 1.7021394869912794)\n",
      "('tributary', 1.7021394869912794)\n",
      "('bandwidth', 1.7012668497568337)\n",
      "('pss', 1.6979421971416178)\n",
      "('wdm', 1.6900776994398747)\n",
      "('onu', 1.689207692313239)\n",
      "('subframe', 1.6846767092574255)\n",
      "('subframes', 1.683980621404661)\n",
      "('downlink', 1.682197197323719)\n",
      "\n",
      "('optical', 4.435729747763587)\n",
      "('wavelengths', 4.115707334629303)\n",
      "('inphase', 3.9948148207639647)\n",
      "('ocm', 3.9948148207639647)\n",
      "('wavelength', 3.9442335677765596)\n",
      "('gfp', 3.8536264369089093)\n",
      "('wss', 3.8536264369089093)\n",
      "('demultiplexes', 3.675750109676257)\n",
      "('precoders', 3.675750109676257)\n",
      "('dqpsk', 3.612263300501029)\n",
      "('ont', 3.4710749166459745)\n",
      "('transponders', 3.434386973268377)\n",
      "('multiplexed', 3.414068438062092)\n",
      "('suitability', 3.343028220713019)\n",
      "('multiplexing', 3.2810083534734975)\n",
      "('network', 3.254290192885929)\n",
      "('demultiplexing', 3.2496151058569978)\n",
      "('us', 3.2496151058569978)\n",
      "('wdm', 3.2496151058569978)\n",
      "('originator', 3.1760344479109865)\n",
      "('demultiplexer', 3.1295370276852696)\n",
      "('reconfiguring', 3.1295370276852696)\n",
      "('keying', 3.051835453005442)\n",
      "('division', 3.0041765329626897)\n",
      "('demands', 2.998158120678334)\n",
      "\n"
     ]
    }
   ],
   "source": []
  },
  {
   "cell_type": "code",
   "execution_count": 58,
   "metadata": {
    "colab": {
     "base_uri": "https://localhost:8080/",
     "height": 215
    },
    "colab_type": "code",
    "executionInfo": {
     "elapsed": 545450,
     "status": "error",
     "timestamp": 1575578167554,
     "user": {
      "displayName": "Kevin Stone",
      "photoUrl": "https://lh3.googleusercontent.com/a-/AAuE7mB_F1aTWES42TZp6qM-xcGSD-laeqndzdfj4AhG=s64",
      "userId": "14672561394201275022"
     },
     "user_tz": 480
    },
    "id": "WPP37wX-KT6B",
    "outputId": "59503bf2-ac6a-4e0c-ba41-4bedb0b1b9db"
   },
   "outputs": [],
   "source": [
    "def patent_stats(patents_df):\n",
    "  '''\n",
    "  Return # of unique words in abstracts, FreqDist of words in abstracts\n",
    "  '''\n",
    "  X = list(patents_df[\"Abstract\"])\n",
    "\n",
    "  # Find number of unique_words\n",
    "  abstract_words = [x for sent in X for x in sent.split(' ')]\n",
    "  unique_words = len(set(abstract_words))\n",
    "\n",
    "  tokens = patents_df.tokens.tolist()\n",
    "  tokens = itertools.chain.from_iterable(tokens)\n",
    "  stopwords = nltk.corpus.stopwords.words('english')\n",
    "  filtered_tokenized_text = [word for word in tokens if word not in stopwords]\n",
    "  fdist1 = nltk.FreqDist(filtered_tokenized_text)\n",
    "\n",
    "  return (fdist1, unique_words)\n",
    "\n",
    "# fdist1, unique_words1 = patent_stats(new_df)\n",
    "# fdist2, unique_words2 = patent_stats(patents)"
   ]
  },
  {
   "cell_type": "code",
   "execution_count": 59,
   "metadata": {
    "colab": {},
    "colab_type": "code",
    "id": "mPOsi6QfMu3g"
   },
   "outputs": [
    {
     "data": {
      "text/plain": [
       "[('G02B', 37163),\n",
       " ('G01N', 42687),\n",
       " ('A61B', 48297),\n",
       " ('H04B', 52693),\n",
       " ('G06K', 55704),\n",
       " ('H04N', 66976),\n",
       " ('A61K', 77483),\n",
       " ('H04L', 77886),\n",
       " ('H01L', 132457),\n",
       " ('G06F', 281876)]"
      ]
     },
     "execution_count": 59,
     "metadata": {},
     "output_type": "execute_result"
    }
   ],
   "source": [
    "# Top 10 CRC codes by count\n",
    "\n",
    "from collections import Counter\n",
    "CRC_codes = [(y) for x in patents[\"Subclass_labels\"] for y in x]\n",
    "result = dict(Counter(CRC_codes))\n",
    "result_sorted = sorted(result.items(), key=lambda x: x[1])\n",
    "list(result_sorted)[-10:]"
   ]
  },
  {
   "cell_type": "code",
   "execution_count": null,
   "metadata": {},
   "outputs": [],
   "source": []
  }
 ],
 "metadata": {
  "accelerator": "GPU",
  "colab": {
   "collapsed_sections": [],
   "machine_shape": "hm",
   "name": "GLOVE - CNN - Analysis 1.ipynb",
   "provenance": [
    {
     "file_id": "1fehH7HZJtYY_GFLDE-1OZ6Ay-jCm-oB0",
     "timestamp": 1574981266688
    },
    {
     "file_id": "1W_4m54C2bcdwYl1Gg15T11uWQQLaCEGK",
     "timestamp": 1574660619885
    },
    {
     "file_id": "1ADyy7cdDXpX_Lnd4gV4Y17TbDBPfOP5l",
     "timestamp": 1573255373704
    },
    {
     "file_id": "15e-tZTRjjsOdWv30IddApBkpzW72jZ5A",
     "timestamp": 1571976928621
    },
    {
     "file_id": "1LC7gFFDZ70vI7bz_RsyWdt74pk9kjypS",
     "timestamp": 1571312268657
    },
    {
     "file_id": "1wewh73vf-1PjqxyhFxSfTR2QJ_9CdAxk",
     "timestamp": 1571242004553
    }
   ]
  },
  "kernelspec": {
   "display_name": "Python 3",
   "language": "python",
   "name": "python3"
  },
  "language_info": {
   "codemirror_mode": {
    "name": "ipython",
    "version": 3
   },
   "file_extension": ".py",
   "mimetype": "text/x-python",
   "name": "python",
   "nbconvert_exporter": "python",
   "pygments_lexer": "ipython3",
   "version": "3.7.4"
  }
 },
 "nbformat": 4,
 "nbformat_minor": 1
}
